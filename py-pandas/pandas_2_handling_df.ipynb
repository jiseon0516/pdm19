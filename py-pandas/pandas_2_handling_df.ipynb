{
  "nbformat": 4,
  "nbformat_minor": 0,
  "metadata": {
    "kernelspec": {
      "name": "python3",
      "display_name": "Python 3"
    },
    "language_info": {
      "codemirror_mode": {
        "name": "ipython",
        "version": 3
      },
      "file_extension": ".py",
      "mimetype": "text/x-python",
      "name": "python",
      "nbconvert_exporter": "python",
      "pygments_lexer": "ipython3",
      "version": "3.6.6"
    },
    "colab": {
      "name": "pandas_2_handling_df.ipynb",
      "provenance": [],
      "collapsed_sections": [],
      "include_colab_link": true
    }
  },
  "cells": [
    {
      "cell_type": "markdown",
      "metadata": {
        "id": "view-in-github",
        "colab_type": "text"
      },
      "source": [
        "<a href=\"https://colab.research.google.com/github/jiseon0516/pdm19/blob/main/py-pandas/pandas_2_handling_df.ipynb\" target=\"_parent\"><img src=\"https://colab.research.google.com/assets/colab-badge.svg\" alt=\"Open In Colab\"/></a>"
      ]
    },
    {
      "cell_type": "markdown",
      "metadata": {
        "id": "-a_Ksvwdx5pf"
      },
      "source": [
        "### Python module 3. **pandas**"
      ]
    },
    {
      "cell_type": "markdown",
      "metadata": {
        "id": "P_F0RSPKx5pl"
      },
      "source": [
        "# Using pandas"
      ]
    },
    {
      "cell_type": "markdown",
      "metadata": {
        "id": "FfxMgWUFx5pm"
      },
      "source": [
        "* [10 Minutes to pandas](https://pandas.pydata.org/pandas-docs/stable/10min.html)\n",
        "* [Pandas tutorial with interactive exercises](https://www.kaggle.com/pistak/pandas-tutorial-with-interactive-exercises)"
      ]
    },
    {
      "cell_type": "code",
      "metadata": {
        "id": "2mpGSeRlx5po"
      },
      "source": [
        "import pandas as pd\n",
        "import numpy as np\n",
        "import matplotlib.pyplot as plt\n",
        "# %matplotlib inline  # work for Jupyter notebook or lab"
      ],
      "execution_count": 68,
      "outputs": []
    },
    {
      "cell_type": "markdown",
      "metadata": {
        "id": "D3zoFQ4bx5qh"
      },
      "source": [
        "## [2] Handling DataFrame\n",
        "- head() - default 5\n",
        "- tail() - default 5\n",
        "- describe()\n",
        "- info() - 데이터의 구조 보여줌"
      ]
    },
    {
      "cell_type": "code",
      "metadata": {
        "id": "w2eNkCfLx5p-",
        "colab": {
          "base_uri": "https://localhost:8080/"
        },
        "outputId": "fd91a3a9-532e-4c0b-cd90-f6e016e88fed"
      },
      "source": [
        "# Creating a DataFrame by passing a NumPy array, with a datetime index and labeled columns:\n",
        "dates = pd.date_range('20210927', periods=6)\n",
        "dates"
      ],
      "execution_count": 69,
      "outputs": [
        {
          "output_type": "execute_result",
          "data": {
            "text/plain": [
              "DatetimeIndex(['2021-09-27', '2021-09-28', '2021-09-29', '2021-09-30',\n",
              "               '2021-10-01', '2021-10-02'],\n",
              "              dtype='datetime64[ns]', freq='D')"
            ]
          },
          "metadata": {},
          "execution_count": 69
        }
      ]
    },
    {
      "cell_type": "code",
      "metadata": {
        "id": "dHwUodTGx5qj",
        "colab": {
          "base_uri": "https://localhost:8080/",
          "height": 235
        },
        "outputId": "80f8b779-49e7-4447-91e9-950bede6a35f"
      },
      "source": [
        "# head()\n",
        "df = pd.DataFrame(np.random.randn(6,4), index=dates, columns=list('ABCD'))\n",
        "df.head(7)"
      ],
      "execution_count": 70,
      "outputs": [
        {
          "output_type": "execute_result",
          "data": {
            "text/html": [
              "<div>\n",
              "<style scoped>\n",
              "    .dataframe tbody tr th:only-of-type {\n",
              "        vertical-align: middle;\n",
              "    }\n",
              "\n",
              "    .dataframe tbody tr th {\n",
              "        vertical-align: top;\n",
              "    }\n",
              "\n",
              "    .dataframe thead th {\n",
              "        text-align: right;\n",
              "    }\n",
              "</style>\n",
              "<table border=\"1\" class=\"dataframe\">\n",
              "  <thead>\n",
              "    <tr style=\"text-align: right;\">\n",
              "      <th></th>\n",
              "      <th>A</th>\n",
              "      <th>B</th>\n",
              "      <th>C</th>\n",
              "      <th>D</th>\n",
              "    </tr>\n",
              "  </thead>\n",
              "  <tbody>\n",
              "    <tr>\n",
              "      <th>2021-09-27</th>\n",
              "      <td>-1.101917</td>\n",
              "      <td>1.999039</td>\n",
              "      <td>-1.040017</td>\n",
              "      <td>-1.885746</td>\n",
              "    </tr>\n",
              "    <tr>\n",
              "      <th>2021-09-28</th>\n",
              "      <td>-0.340370</td>\n",
              "      <td>-0.556168</td>\n",
              "      <td>-1.637887</td>\n",
              "      <td>-0.126768</td>\n",
              "    </tr>\n",
              "    <tr>\n",
              "      <th>2021-09-29</th>\n",
              "      <td>-0.038039</td>\n",
              "      <td>-0.613214</td>\n",
              "      <td>-0.507700</td>\n",
              "      <td>-0.372167</td>\n",
              "    </tr>\n",
              "    <tr>\n",
              "      <th>2021-09-30</th>\n",
              "      <td>1.289274</td>\n",
              "      <td>0.739432</td>\n",
              "      <td>0.236800</td>\n",
              "      <td>-1.381849</td>\n",
              "    </tr>\n",
              "    <tr>\n",
              "      <th>2021-10-01</th>\n",
              "      <td>-0.442228</td>\n",
              "      <td>1.520713</td>\n",
              "      <td>-1.003919</td>\n",
              "      <td>-0.564867</td>\n",
              "    </tr>\n",
              "    <tr>\n",
              "      <th>2021-10-02</th>\n",
              "      <td>-1.373506</td>\n",
              "      <td>-0.462848</td>\n",
              "      <td>1.092600</td>\n",
              "      <td>-0.607816</td>\n",
              "    </tr>\n",
              "  </tbody>\n",
              "</table>\n",
              "</div>"
            ],
            "text/plain": [
              "                   A         B         C         D\n",
              "2021-09-27 -1.101917  1.999039 -1.040017 -1.885746\n",
              "2021-09-28 -0.340370 -0.556168 -1.637887 -0.126768\n",
              "2021-09-29 -0.038039 -0.613214 -0.507700 -0.372167\n",
              "2021-09-30  1.289274  0.739432  0.236800 -1.381849\n",
              "2021-10-01 -0.442228  1.520713 -1.003919 -0.564867\n",
              "2021-10-02 -1.373506 -0.462848  1.092600 -0.607816"
            ]
          },
          "metadata": {},
          "execution_count": 70
        }
      ]
    },
    {
      "cell_type": "code",
      "metadata": {
        "id": "OvYDoBVE1og9",
        "colab": {
          "base_uri": "https://localhost:8080/",
          "height": 111
        },
        "outputId": "ffd64951-380b-45b2-b4e4-ab7f948fa9ef"
      },
      "source": [
        "df.head(2)"
      ],
      "execution_count": 71,
      "outputs": [
        {
          "output_type": "execute_result",
          "data": {
            "text/html": [
              "<div>\n",
              "<style scoped>\n",
              "    .dataframe tbody tr th:only-of-type {\n",
              "        vertical-align: middle;\n",
              "    }\n",
              "\n",
              "    .dataframe tbody tr th {\n",
              "        vertical-align: top;\n",
              "    }\n",
              "\n",
              "    .dataframe thead th {\n",
              "        text-align: right;\n",
              "    }\n",
              "</style>\n",
              "<table border=\"1\" class=\"dataframe\">\n",
              "  <thead>\n",
              "    <tr style=\"text-align: right;\">\n",
              "      <th></th>\n",
              "      <th>A</th>\n",
              "      <th>B</th>\n",
              "      <th>C</th>\n",
              "      <th>D</th>\n",
              "    </tr>\n",
              "  </thead>\n",
              "  <tbody>\n",
              "    <tr>\n",
              "      <th>2021-09-27</th>\n",
              "      <td>-1.101917</td>\n",
              "      <td>1.999039</td>\n",
              "      <td>-1.040017</td>\n",
              "      <td>-1.885746</td>\n",
              "    </tr>\n",
              "    <tr>\n",
              "      <th>2021-09-28</th>\n",
              "      <td>-0.340370</td>\n",
              "      <td>-0.556168</td>\n",
              "      <td>-1.637887</td>\n",
              "      <td>-0.126768</td>\n",
              "    </tr>\n",
              "  </tbody>\n",
              "</table>\n",
              "</div>"
            ],
            "text/plain": [
              "                   A         B         C         D\n",
              "2021-09-27 -1.101917  1.999039 -1.040017 -1.885746\n",
              "2021-09-28 -0.340370 -0.556168 -1.637887 -0.126768"
            ]
          },
          "metadata": {},
          "execution_count": 71
        }
      ]
    },
    {
      "cell_type": "code",
      "metadata": {
        "id": "LzWwuDWDx5qo",
        "colab": {
          "base_uri": "https://localhost:8080/",
          "height": 142
        },
        "outputId": "8a339706-06c2-487d-a7c3-2ea1d45c08bf"
      },
      "source": [
        "df.tail(3)"
      ],
      "execution_count": 72,
      "outputs": [
        {
          "output_type": "execute_result",
          "data": {
            "text/html": [
              "<div>\n",
              "<style scoped>\n",
              "    .dataframe tbody tr th:only-of-type {\n",
              "        vertical-align: middle;\n",
              "    }\n",
              "\n",
              "    .dataframe tbody tr th {\n",
              "        vertical-align: top;\n",
              "    }\n",
              "\n",
              "    .dataframe thead th {\n",
              "        text-align: right;\n",
              "    }\n",
              "</style>\n",
              "<table border=\"1\" class=\"dataframe\">\n",
              "  <thead>\n",
              "    <tr style=\"text-align: right;\">\n",
              "      <th></th>\n",
              "      <th>A</th>\n",
              "      <th>B</th>\n",
              "      <th>C</th>\n",
              "      <th>D</th>\n",
              "    </tr>\n",
              "  </thead>\n",
              "  <tbody>\n",
              "    <tr>\n",
              "      <th>2021-09-30</th>\n",
              "      <td>1.289274</td>\n",
              "      <td>0.739432</td>\n",
              "      <td>0.236800</td>\n",
              "      <td>-1.381849</td>\n",
              "    </tr>\n",
              "    <tr>\n",
              "      <th>2021-10-01</th>\n",
              "      <td>-0.442228</td>\n",
              "      <td>1.520713</td>\n",
              "      <td>-1.003919</td>\n",
              "      <td>-0.564867</td>\n",
              "    </tr>\n",
              "    <tr>\n",
              "      <th>2021-10-02</th>\n",
              "      <td>-1.373506</td>\n",
              "      <td>-0.462848</td>\n",
              "      <td>1.092600</td>\n",
              "      <td>-0.607816</td>\n",
              "    </tr>\n",
              "  </tbody>\n",
              "</table>\n",
              "</div>"
            ],
            "text/plain": [
              "                   A         B         C         D\n",
              "2021-09-30  1.289274  0.739432  0.236800 -1.381849\n",
              "2021-10-01 -0.442228  1.520713 -1.003919 -0.564867\n",
              "2021-10-02 -1.373506 -0.462848  1.092600 -0.607816"
            ]
          },
          "metadata": {},
          "execution_count": 72
        }
      ]
    },
    {
      "cell_type": "code",
      "metadata": {
        "id": "rJLH024Zx5qs",
        "colab": {
          "base_uri": "https://localhost:8080/"
        },
        "outputId": "f8e476a2-ec00-421a-a464-55d56794dd37"
      },
      "source": [
        "# Display the index, columns, and the underlying NumPy data:\n",
        "df.index "
      ],
      "execution_count": 73,
      "outputs": [
        {
          "output_type": "execute_result",
          "data": {
            "text/plain": [
              "DatetimeIndex(['2021-09-27', '2021-09-28', '2021-09-29', '2021-09-30',\n",
              "               '2021-10-01', '2021-10-02'],\n",
              "              dtype='datetime64[ns]', freq='D')"
            ]
          },
          "metadata": {},
          "execution_count": 73
        }
      ]
    },
    {
      "cell_type": "code",
      "metadata": {
        "id": "edrGpQlLc0dt",
        "colab": {
          "base_uri": "https://localhost:8080/"
        },
        "outputId": "f0288c95-2eb8-4805-d0e8-f4de63a277c9"
      },
      "source": [
        "df.columns #열의 이름"
      ],
      "execution_count": 74,
      "outputs": [
        {
          "output_type": "execute_result",
          "data": {
            "text/plain": [
              "Index(['A', 'B', 'C', 'D'], dtype='object')"
            ]
          },
          "metadata": {},
          "execution_count": 74
        }
      ]
    },
    {
      "cell_type": "code",
      "metadata": {
        "id": "TB-CHW85x5rA",
        "colab": {
          "base_uri": "https://localhost:8080/"
        },
        "outputId": "ea59a8d4-7c2b-46fd-b965-224a84979bfa"
      },
      "source": [
        "df.info() #=np.nan, non-null: 값 o"
      ],
      "execution_count": 75,
      "outputs": [
        {
          "output_type": "stream",
          "name": "stdout",
          "text": [
            "<class 'pandas.core.frame.DataFrame'>\n",
            "DatetimeIndex: 6 entries, 2021-09-27 to 2021-10-02\n",
            "Freq: D\n",
            "Data columns (total 4 columns):\n",
            " #   Column  Non-Null Count  Dtype  \n",
            "---  ------  --------------  -----  \n",
            " 0   A       6 non-null      float64\n",
            " 1   B       6 non-null      float64\n",
            " 2   C       6 non-null      float64\n",
            " 3   D       6 non-null      float64\n",
            "dtypes: float64(4)\n",
            "memory usage: 240.0 bytes\n"
          ]
        }
      ]
    },
    {
      "cell_type": "code",
      "metadata": {
        "id": "PEzVmjUAx5q7",
        "colab": {
          "base_uri": "https://localhost:8080/",
          "height": 297
        },
        "outputId": "3cdf4849-1b2c-4542-865e-820176206b42"
      },
      "source": [
        "# describe() shows a quick statistic summary of your data:\n",
        "df.describe()"
      ],
      "execution_count": 76,
      "outputs": [
        {
          "output_type": "execute_result",
          "data": {
            "text/html": [
              "<div>\n",
              "<style scoped>\n",
              "    .dataframe tbody tr th:only-of-type {\n",
              "        vertical-align: middle;\n",
              "    }\n",
              "\n",
              "    .dataframe tbody tr th {\n",
              "        vertical-align: top;\n",
              "    }\n",
              "\n",
              "    .dataframe thead th {\n",
              "        text-align: right;\n",
              "    }\n",
              "</style>\n",
              "<table border=\"1\" class=\"dataframe\">\n",
              "  <thead>\n",
              "    <tr style=\"text-align: right;\">\n",
              "      <th></th>\n",
              "      <th>A</th>\n",
              "      <th>B</th>\n",
              "      <th>C</th>\n",
              "      <th>D</th>\n",
              "    </tr>\n",
              "  </thead>\n",
              "  <tbody>\n",
              "    <tr>\n",
              "      <th>count</th>\n",
              "      <td>6.000000</td>\n",
              "      <td>6.000000</td>\n",
              "      <td>6.000000</td>\n",
              "      <td>6.000000</td>\n",
              "    </tr>\n",
              "    <tr>\n",
              "      <th>mean</th>\n",
              "      <td>-0.334464</td>\n",
              "      <td>0.437826</td>\n",
              "      <td>-0.476687</td>\n",
              "      <td>-0.823202</td>\n",
              "    </tr>\n",
              "    <tr>\n",
              "      <th>std</th>\n",
              "      <td>0.938577</td>\n",
              "      <td>1.149341</td>\n",
              "      <td>0.991603</td>\n",
              "      <td>0.669726</td>\n",
              "    </tr>\n",
              "    <tr>\n",
              "      <th>min</th>\n",
              "      <td>-1.373506</td>\n",
              "      <td>-0.613214</td>\n",
              "      <td>-1.637887</td>\n",
              "      <td>-1.885746</td>\n",
              "    </tr>\n",
              "    <tr>\n",
              "      <th>25%</th>\n",
              "      <td>-0.936995</td>\n",
              "      <td>-0.532838</td>\n",
              "      <td>-1.030992</td>\n",
              "      <td>-1.188341</td>\n",
              "    </tr>\n",
              "    <tr>\n",
              "      <th>50%</th>\n",
              "      <td>-0.391299</td>\n",
              "      <td>0.138292</td>\n",
              "      <td>-0.755809</td>\n",
              "      <td>-0.586341</td>\n",
              "    </tr>\n",
              "    <tr>\n",
              "      <th>75%</th>\n",
              "      <td>-0.113622</td>\n",
              "      <td>1.325393</td>\n",
              "      <td>0.050675</td>\n",
              "      <td>-0.420342</td>\n",
              "    </tr>\n",
              "    <tr>\n",
              "      <th>max</th>\n",
              "      <td>1.289274</td>\n",
              "      <td>1.999039</td>\n",
              "      <td>1.092600</td>\n",
              "      <td>-0.126768</td>\n",
              "    </tr>\n",
              "  </tbody>\n",
              "</table>\n",
              "</div>"
            ],
            "text/plain": [
              "              A         B         C         D\n",
              "count  6.000000  6.000000  6.000000  6.000000\n",
              "mean  -0.334464  0.437826 -0.476687 -0.823202\n",
              "std    0.938577  1.149341  0.991603  0.669726\n",
              "min   -1.373506 -0.613214 -1.637887 -1.885746\n",
              "25%   -0.936995 -0.532838 -1.030992 -1.188341\n",
              "50%   -0.391299  0.138292 -0.755809 -0.586341\n",
              "75%   -0.113622  1.325393  0.050675 -0.420342\n",
              "max    1.289274  1.999039  1.092600 -0.126768"
            ]
          },
          "metadata": {},
          "execution_count": 76
        }
      ]
    },
    {
      "cell_type": "code",
      "metadata": {
        "id": "ExhpF6H8dDKo",
        "colab": {
          "base_uri": "https://localhost:8080/",
          "height": 173
        },
        "outputId": "16c3b4fd-189a-4bab-872e-ee2824590948"
      },
      "source": [
        "df.describe().T"
      ],
      "execution_count": 77,
      "outputs": [
        {
          "output_type": "execute_result",
          "data": {
            "text/html": [
              "<div>\n",
              "<style scoped>\n",
              "    .dataframe tbody tr th:only-of-type {\n",
              "        vertical-align: middle;\n",
              "    }\n",
              "\n",
              "    .dataframe tbody tr th {\n",
              "        vertical-align: top;\n",
              "    }\n",
              "\n",
              "    .dataframe thead th {\n",
              "        text-align: right;\n",
              "    }\n",
              "</style>\n",
              "<table border=\"1\" class=\"dataframe\">\n",
              "  <thead>\n",
              "    <tr style=\"text-align: right;\">\n",
              "      <th></th>\n",
              "      <th>count</th>\n",
              "      <th>mean</th>\n",
              "      <th>std</th>\n",
              "      <th>min</th>\n",
              "      <th>25%</th>\n",
              "      <th>50%</th>\n",
              "      <th>75%</th>\n",
              "      <th>max</th>\n",
              "    </tr>\n",
              "  </thead>\n",
              "  <tbody>\n",
              "    <tr>\n",
              "      <th>A</th>\n",
              "      <td>6.0</td>\n",
              "      <td>-0.334464</td>\n",
              "      <td>0.938577</td>\n",
              "      <td>-1.373506</td>\n",
              "      <td>-0.936995</td>\n",
              "      <td>-0.391299</td>\n",
              "      <td>-0.113622</td>\n",
              "      <td>1.289274</td>\n",
              "    </tr>\n",
              "    <tr>\n",
              "      <th>B</th>\n",
              "      <td>6.0</td>\n",
              "      <td>0.437826</td>\n",
              "      <td>1.149341</td>\n",
              "      <td>-0.613214</td>\n",
              "      <td>-0.532838</td>\n",
              "      <td>0.138292</td>\n",
              "      <td>1.325393</td>\n",
              "      <td>1.999039</td>\n",
              "    </tr>\n",
              "    <tr>\n",
              "      <th>C</th>\n",
              "      <td>6.0</td>\n",
              "      <td>-0.476687</td>\n",
              "      <td>0.991603</td>\n",
              "      <td>-1.637887</td>\n",
              "      <td>-1.030992</td>\n",
              "      <td>-0.755809</td>\n",
              "      <td>0.050675</td>\n",
              "      <td>1.092600</td>\n",
              "    </tr>\n",
              "    <tr>\n",
              "      <th>D</th>\n",
              "      <td>6.0</td>\n",
              "      <td>-0.823202</td>\n",
              "      <td>0.669726</td>\n",
              "      <td>-1.885746</td>\n",
              "      <td>-1.188341</td>\n",
              "      <td>-0.586341</td>\n",
              "      <td>-0.420342</td>\n",
              "      <td>-0.126768</td>\n",
              "    </tr>\n",
              "  </tbody>\n",
              "</table>\n",
              "</div>"
            ],
            "text/plain": [
              "   count      mean       std       min       25%       50%       75%       max\n",
              "A    6.0 -0.334464  0.938577 -1.373506 -0.936995 -0.391299 -0.113622  1.289274\n",
              "B    6.0  0.437826  1.149341 -0.613214 -0.532838  0.138292  1.325393  1.999039\n",
              "C    6.0 -0.476687  0.991603 -1.637887 -1.030992 -0.755809  0.050675  1.092600\n",
              "D    6.0 -0.823202  0.669726 -1.885746 -1.188341 -0.586341 -0.420342 -0.126768"
            ]
          },
          "metadata": {},
          "execution_count": 77
        }
      ]
    },
    {
      "cell_type": "code",
      "metadata": {
        "colab": {
          "base_uri": "https://localhost:8080/",
          "height": 235
        },
        "id": "HNIofmwXzXeK",
        "outputId": "255f7d46-d490-4649-8e5d-6795b5ea8a87"
      },
      "source": [
        "df"
      ],
      "execution_count": 78,
      "outputs": [
        {
          "output_type": "execute_result",
          "data": {
            "text/html": [
              "<div>\n",
              "<style scoped>\n",
              "    .dataframe tbody tr th:only-of-type {\n",
              "        vertical-align: middle;\n",
              "    }\n",
              "\n",
              "    .dataframe tbody tr th {\n",
              "        vertical-align: top;\n",
              "    }\n",
              "\n",
              "    .dataframe thead th {\n",
              "        text-align: right;\n",
              "    }\n",
              "</style>\n",
              "<table border=\"1\" class=\"dataframe\">\n",
              "  <thead>\n",
              "    <tr style=\"text-align: right;\">\n",
              "      <th></th>\n",
              "      <th>A</th>\n",
              "      <th>B</th>\n",
              "      <th>C</th>\n",
              "      <th>D</th>\n",
              "    </tr>\n",
              "  </thead>\n",
              "  <tbody>\n",
              "    <tr>\n",
              "      <th>2021-09-27</th>\n",
              "      <td>-1.101917</td>\n",
              "      <td>1.999039</td>\n",
              "      <td>-1.040017</td>\n",
              "      <td>-1.885746</td>\n",
              "    </tr>\n",
              "    <tr>\n",
              "      <th>2021-09-28</th>\n",
              "      <td>-0.340370</td>\n",
              "      <td>-0.556168</td>\n",
              "      <td>-1.637887</td>\n",
              "      <td>-0.126768</td>\n",
              "    </tr>\n",
              "    <tr>\n",
              "      <th>2021-09-29</th>\n",
              "      <td>-0.038039</td>\n",
              "      <td>-0.613214</td>\n",
              "      <td>-0.507700</td>\n",
              "      <td>-0.372167</td>\n",
              "    </tr>\n",
              "    <tr>\n",
              "      <th>2021-09-30</th>\n",
              "      <td>1.289274</td>\n",
              "      <td>0.739432</td>\n",
              "      <td>0.236800</td>\n",
              "      <td>-1.381849</td>\n",
              "    </tr>\n",
              "    <tr>\n",
              "      <th>2021-10-01</th>\n",
              "      <td>-0.442228</td>\n",
              "      <td>1.520713</td>\n",
              "      <td>-1.003919</td>\n",
              "      <td>-0.564867</td>\n",
              "    </tr>\n",
              "    <tr>\n",
              "      <th>2021-10-02</th>\n",
              "      <td>-1.373506</td>\n",
              "      <td>-0.462848</td>\n",
              "      <td>1.092600</td>\n",
              "      <td>-0.607816</td>\n",
              "    </tr>\n",
              "  </tbody>\n",
              "</table>\n",
              "</div>"
            ],
            "text/plain": [
              "                   A         B         C         D\n",
              "2021-09-27 -1.101917  1.999039 -1.040017 -1.885746\n",
              "2021-09-28 -0.340370 -0.556168 -1.637887 -0.126768\n",
              "2021-09-29 -0.038039 -0.613214 -0.507700 -0.372167\n",
              "2021-09-30  1.289274  0.739432  0.236800 -1.381849\n",
              "2021-10-01 -0.442228  1.520713 -1.003919 -0.564867\n",
              "2021-10-02 -1.373506 -0.462848  1.092600 -0.607816"
            ]
          },
          "metadata": {},
          "execution_count": 78
        }
      ]
    },
    {
      "cell_type": "code",
      "metadata": {
        "id": "Br9VwFVex5rE",
        "colab": {
          "base_uri": "https://localhost:8080/",
          "height": 173
        },
        "outputId": "dffb7b54-0df7-4ec3-b773-141d65ff906e"
      },
      "source": [
        "# Transposing your dataframe:\n",
        "df.T #행과 열이 바뀜"
      ],
      "execution_count": 79,
      "outputs": [
        {
          "output_type": "execute_result",
          "data": {
            "text/html": [
              "<div>\n",
              "<style scoped>\n",
              "    .dataframe tbody tr th:only-of-type {\n",
              "        vertical-align: middle;\n",
              "    }\n",
              "\n",
              "    .dataframe tbody tr th {\n",
              "        vertical-align: top;\n",
              "    }\n",
              "\n",
              "    .dataframe thead th {\n",
              "        text-align: right;\n",
              "    }\n",
              "</style>\n",
              "<table border=\"1\" class=\"dataframe\">\n",
              "  <thead>\n",
              "    <tr style=\"text-align: right;\">\n",
              "      <th></th>\n",
              "      <th>2021-09-27</th>\n",
              "      <th>2021-09-28</th>\n",
              "      <th>2021-09-29</th>\n",
              "      <th>2021-09-30</th>\n",
              "      <th>2021-10-01</th>\n",
              "      <th>2021-10-02</th>\n",
              "    </tr>\n",
              "  </thead>\n",
              "  <tbody>\n",
              "    <tr>\n",
              "      <th>A</th>\n",
              "      <td>-1.101917</td>\n",
              "      <td>-0.340370</td>\n",
              "      <td>-0.038039</td>\n",
              "      <td>1.289274</td>\n",
              "      <td>-0.442228</td>\n",
              "      <td>-1.373506</td>\n",
              "    </tr>\n",
              "    <tr>\n",
              "      <th>B</th>\n",
              "      <td>1.999039</td>\n",
              "      <td>-0.556168</td>\n",
              "      <td>-0.613214</td>\n",
              "      <td>0.739432</td>\n",
              "      <td>1.520713</td>\n",
              "      <td>-0.462848</td>\n",
              "    </tr>\n",
              "    <tr>\n",
              "      <th>C</th>\n",
              "      <td>-1.040017</td>\n",
              "      <td>-1.637887</td>\n",
              "      <td>-0.507700</td>\n",
              "      <td>0.236800</td>\n",
              "      <td>-1.003919</td>\n",
              "      <td>1.092600</td>\n",
              "    </tr>\n",
              "    <tr>\n",
              "      <th>D</th>\n",
              "      <td>-1.885746</td>\n",
              "      <td>-0.126768</td>\n",
              "      <td>-0.372167</td>\n",
              "      <td>-1.381849</td>\n",
              "      <td>-0.564867</td>\n",
              "      <td>-0.607816</td>\n",
              "    </tr>\n",
              "  </tbody>\n",
              "</table>\n",
              "</div>"
            ],
            "text/plain": [
              "   2021-09-27  2021-09-28  2021-09-29  2021-09-30  2021-10-01  2021-10-02\n",
              "A   -1.101917   -0.340370   -0.038039    1.289274   -0.442228   -1.373506\n",
              "B    1.999039   -0.556168   -0.613214    0.739432    1.520713   -0.462848\n",
              "C   -1.040017   -1.637887   -0.507700    0.236800   -1.003919    1.092600\n",
              "D   -1.885746   -0.126768   -0.372167   -1.381849   -0.564867   -0.607816"
            ]
          },
          "metadata": {},
          "execution_count": 79
        }
      ]
    },
    {
      "cell_type": "code",
      "metadata": {
        "id": "vkg1gQUVLoy9",
        "colab": {
          "base_uri": "https://localhost:8080/"
        },
        "outputId": "4ebd87e5-8ee9-4a3c-e032-7276ee3adb15"
      },
      "source": [
        "df.T.index"
      ],
      "execution_count": 80,
      "outputs": [
        {
          "output_type": "execute_result",
          "data": {
            "text/plain": [
              "Index(['A', 'B', 'C', 'D'], dtype='object')"
            ]
          },
          "metadata": {},
          "execution_count": 80
        }
      ]
    },
    {
      "cell_type": "markdown",
      "metadata": {
        "id": "A4lHGd4px5rU"
      },
      "source": [
        "### Sorting"
      ]
    },
    {
      "cell_type": "markdown",
      "metadata": {
        "id": "jlXuIbzD6oUD"
      },
      "source": [
        "#### Sort by index\n",
        "- sort_index(axis=0, ascending=False)\n",
        "- sort_index(axis=1, ascending=False)\n",
        "\n",
        "> Axis=0 Column-Wise Operation (수직으로)\n",
        "\n",
        "> Axis=1 Row-Wise Operation (수평으로)"
      ]
    },
    {
      "cell_type": "code",
      "metadata": {
        "colab": {
          "base_uri": "https://localhost:8080/",
          "height": 235
        },
        "id": "0s_pBJVp2F0N",
        "outputId": "7caa4326-cfe6-48ae-d025-0da74a023033"
      },
      "source": [
        "df"
      ],
      "execution_count": 81,
      "outputs": [
        {
          "output_type": "execute_result",
          "data": {
            "text/html": [
              "<div>\n",
              "<style scoped>\n",
              "    .dataframe tbody tr th:only-of-type {\n",
              "        vertical-align: middle;\n",
              "    }\n",
              "\n",
              "    .dataframe tbody tr th {\n",
              "        vertical-align: top;\n",
              "    }\n",
              "\n",
              "    .dataframe thead th {\n",
              "        text-align: right;\n",
              "    }\n",
              "</style>\n",
              "<table border=\"1\" class=\"dataframe\">\n",
              "  <thead>\n",
              "    <tr style=\"text-align: right;\">\n",
              "      <th></th>\n",
              "      <th>A</th>\n",
              "      <th>B</th>\n",
              "      <th>C</th>\n",
              "      <th>D</th>\n",
              "    </tr>\n",
              "  </thead>\n",
              "  <tbody>\n",
              "    <tr>\n",
              "      <th>2021-09-27</th>\n",
              "      <td>-1.101917</td>\n",
              "      <td>1.999039</td>\n",
              "      <td>-1.040017</td>\n",
              "      <td>-1.885746</td>\n",
              "    </tr>\n",
              "    <tr>\n",
              "      <th>2021-09-28</th>\n",
              "      <td>-0.340370</td>\n",
              "      <td>-0.556168</td>\n",
              "      <td>-1.637887</td>\n",
              "      <td>-0.126768</td>\n",
              "    </tr>\n",
              "    <tr>\n",
              "      <th>2021-09-29</th>\n",
              "      <td>-0.038039</td>\n",
              "      <td>-0.613214</td>\n",
              "      <td>-0.507700</td>\n",
              "      <td>-0.372167</td>\n",
              "    </tr>\n",
              "    <tr>\n",
              "      <th>2021-09-30</th>\n",
              "      <td>1.289274</td>\n",
              "      <td>0.739432</td>\n",
              "      <td>0.236800</td>\n",
              "      <td>-1.381849</td>\n",
              "    </tr>\n",
              "    <tr>\n",
              "      <th>2021-10-01</th>\n",
              "      <td>-0.442228</td>\n",
              "      <td>1.520713</td>\n",
              "      <td>-1.003919</td>\n",
              "      <td>-0.564867</td>\n",
              "    </tr>\n",
              "    <tr>\n",
              "      <th>2021-10-02</th>\n",
              "      <td>-1.373506</td>\n",
              "      <td>-0.462848</td>\n",
              "      <td>1.092600</td>\n",
              "      <td>-0.607816</td>\n",
              "    </tr>\n",
              "  </tbody>\n",
              "</table>\n",
              "</div>"
            ],
            "text/plain": [
              "                   A         B         C         D\n",
              "2021-09-27 -1.101917  1.999039 -1.040017 -1.885746\n",
              "2021-09-28 -0.340370 -0.556168 -1.637887 -0.126768\n",
              "2021-09-29 -0.038039 -0.613214 -0.507700 -0.372167\n",
              "2021-09-30  1.289274  0.739432  0.236800 -1.381849\n",
              "2021-10-01 -0.442228  1.520713 -1.003919 -0.564867\n",
              "2021-10-02 -1.373506 -0.462848  1.092600 -0.607816"
            ]
          },
          "metadata": {},
          "execution_count": 81
        }
      ]
    },
    {
      "cell_type": "code",
      "metadata": {
        "id": "RM9Rlk64x5rW",
        "colab": {
          "base_uri": "https://localhost:8080/"
        },
        "outputId": "34226804-c0a7-4091-ff47-a7c143ff4a74"
      },
      "source": [
        "# Sorting by an axis:\n",
        "df, df.sort_index(axis=0, ascending=False) # ascending=False 주석 처리 해보기"
      ],
      "execution_count": 82,
      "outputs": [
        {
          "output_type": "execute_result",
          "data": {
            "text/plain": [
              "(                   A         B         C         D\n",
              " 2021-09-27 -1.101917  1.999039 -1.040017 -1.885746\n",
              " 2021-09-28 -0.340370 -0.556168 -1.637887 -0.126768\n",
              " 2021-09-29 -0.038039 -0.613214 -0.507700 -0.372167\n",
              " 2021-09-30  1.289274  0.739432  0.236800 -1.381849\n",
              " 2021-10-01 -0.442228  1.520713 -1.003919 -0.564867\n",
              " 2021-10-02 -1.373506 -0.462848  1.092600 -0.607816,\n",
              "                    A         B         C         D\n",
              " 2021-10-02 -1.373506 -0.462848  1.092600 -0.607816\n",
              " 2021-10-01 -0.442228  1.520713 -1.003919 -0.564867\n",
              " 2021-09-30  1.289274  0.739432  0.236800 -1.381849\n",
              " 2021-09-29 -0.038039 -0.613214 -0.507700 -0.372167\n",
              " 2021-09-28 -0.340370 -0.556168 -1.637887 -0.126768\n",
              " 2021-09-27 -1.101917  1.999039 -1.040017 -1.885746)"
            ]
          },
          "metadata": {},
          "execution_count": 82
        }
      ]
    },
    {
      "cell_type": "code",
      "metadata": {
        "id": "w_7d__Hsx5rb",
        "colab": {
          "base_uri": "https://localhost:8080/"
        },
        "outputId": "29ee8a21-a407-41d1-b590-f9b572af8b81"
      },
      "source": [
        "df,df.sort_index(axis=1, ascending=False)"
      ],
      "execution_count": 83,
      "outputs": [
        {
          "output_type": "execute_result",
          "data": {
            "text/plain": [
              "(                   A         B         C         D\n",
              " 2021-09-27 -1.101917  1.999039 -1.040017 -1.885746\n",
              " 2021-09-28 -0.340370 -0.556168 -1.637887 -0.126768\n",
              " 2021-09-29 -0.038039 -0.613214 -0.507700 -0.372167\n",
              " 2021-09-30  1.289274  0.739432  0.236800 -1.381849\n",
              " 2021-10-01 -0.442228  1.520713 -1.003919 -0.564867\n",
              " 2021-10-02 -1.373506 -0.462848  1.092600 -0.607816,\n",
              "                    D         C         B         A\n",
              " 2021-09-27 -1.885746 -1.040017  1.999039 -1.101917\n",
              " 2021-09-28 -0.126768 -1.637887 -0.556168 -0.340370\n",
              " 2021-09-29 -0.372167 -0.507700 -0.613214 -0.038039\n",
              " 2021-09-30 -1.381849  0.236800  0.739432  1.289274\n",
              " 2021-10-01 -0.564867 -1.003919  1.520713 -0.442228\n",
              " 2021-10-02 -0.607816  1.092600 -0.462848 -1.373506)"
            ]
          },
          "metadata": {},
          "execution_count": 83
        }
      ]
    },
    {
      "cell_type": "markdown",
      "metadata": {
        "id": "8J59I-KW6yNK"
      },
      "source": [
        "#### Sort by value\n",
        "- sort_values(by='column')"
      ]
    },
    {
      "cell_type": "code",
      "metadata": {
        "id": "VJw7_sTLx5rg",
        "colab": {
          "base_uri": "https://localhost:8080/"
        },
        "outputId": "2c931192-7dfb-40ce-cef6-986292e76475"
      },
      "source": [
        "# Sorting by values:\n",
        "df,df.sort_values(by='B') #, ascending=False) #B열 기준으로"
      ],
      "execution_count": 84,
      "outputs": [
        {
          "output_type": "execute_result",
          "data": {
            "text/plain": [
              "(                   A         B         C         D\n",
              " 2021-09-27 -1.101917  1.999039 -1.040017 -1.885746\n",
              " 2021-09-28 -0.340370 -0.556168 -1.637887 -0.126768\n",
              " 2021-09-29 -0.038039 -0.613214 -0.507700 -0.372167\n",
              " 2021-09-30  1.289274  0.739432  0.236800 -1.381849\n",
              " 2021-10-01 -0.442228  1.520713 -1.003919 -0.564867\n",
              " 2021-10-02 -1.373506 -0.462848  1.092600 -0.607816,\n",
              "                    A         B         C         D\n",
              " 2021-09-29 -0.038039 -0.613214 -0.507700 -0.372167\n",
              " 2021-09-28 -0.340370 -0.556168 -1.637887 -0.126768\n",
              " 2021-10-02 -1.373506 -0.462848  1.092600 -0.607816\n",
              " 2021-09-30  1.289274  0.739432  0.236800 -1.381849\n",
              " 2021-10-01 -0.442228  1.520713 -1.003919 -0.564867\n",
              " 2021-09-27 -1.101917  1.999039 -1.040017 -1.885746)"
            ]
          },
          "metadata": {},
          "execution_count": 84
        }
      ]
    },
    {
      "cell_type": "markdown",
      "metadata": {
        "id": "rBW0-saPPGbN"
      },
      "source": [
        "## indexing and slicing of DataFrame"
      ]
    },
    {
      "cell_type": "markdown",
      "metadata": {
        "id": "oH89Wa-ix5rq"
      },
      "source": [
        "#### Selecting data by indexing and slicing\n",
        "- indexing\n",
        "- slicing\n"
      ]
    },
    {
      "cell_type": "code",
      "metadata": {
        "id": "YufIBMYzx5ru",
        "colab": {
          "base_uri": "https://localhost:8080/"
        },
        "outputId": "d9f06d50-0bdc-44ce-f475-7bb81ba09642"
      },
      "source": [
        "# Selecting a single column, which yields a Series\n",
        "df['A'] #인덱스와 값 출력"
      ],
      "execution_count": 85,
      "outputs": [
        {
          "output_type": "execute_result",
          "data": {
            "text/plain": [
              "2021-09-27   -1.101917\n",
              "2021-09-28   -0.340370\n",
              "2021-09-29   -0.038039\n",
              "2021-09-30    1.289274\n",
              "2021-10-01   -0.442228\n",
              "2021-10-02   -1.373506\n",
              "Freq: D, Name: A, dtype: float64"
            ]
          },
          "metadata": {},
          "execution_count": 85
        }
      ]
    },
    {
      "cell_type": "code",
      "metadata": {
        "id": "ijxuNMS5x5r3",
        "colab": {
          "base_uri": "https://localhost:8080/",
          "height": 142
        },
        "outputId": "87e0d6d7-2cd4-4f05-d94f-33d4853e76ee"
      },
      "source": [
        "# Selecting via [], which slices the rows.\n",
        "df[0:3] #0,1,2행 슬라이싱"
      ],
      "execution_count": 86,
      "outputs": [
        {
          "output_type": "execute_result",
          "data": {
            "text/html": [
              "<div>\n",
              "<style scoped>\n",
              "    .dataframe tbody tr th:only-of-type {\n",
              "        vertical-align: middle;\n",
              "    }\n",
              "\n",
              "    .dataframe tbody tr th {\n",
              "        vertical-align: top;\n",
              "    }\n",
              "\n",
              "    .dataframe thead th {\n",
              "        text-align: right;\n",
              "    }\n",
              "</style>\n",
              "<table border=\"1\" class=\"dataframe\">\n",
              "  <thead>\n",
              "    <tr style=\"text-align: right;\">\n",
              "      <th></th>\n",
              "      <th>A</th>\n",
              "      <th>B</th>\n",
              "      <th>C</th>\n",
              "      <th>D</th>\n",
              "    </tr>\n",
              "  </thead>\n",
              "  <tbody>\n",
              "    <tr>\n",
              "      <th>2021-09-27</th>\n",
              "      <td>-1.101917</td>\n",
              "      <td>1.999039</td>\n",
              "      <td>-1.040017</td>\n",
              "      <td>-1.885746</td>\n",
              "    </tr>\n",
              "    <tr>\n",
              "      <th>2021-09-28</th>\n",
              "      <td>-0.340370</td>\n",
              "      <td>-0.556168</td>\n",
              "      <td>-1.637887</td>\n",
              "      <td>-0.126768</td>\n",
              "    </tr>\n",
              "    <tr>\n",
              "      <th>2021-09-29</th>\n",
              "      <td>-0.038039</td>\n",
              "      <td>-0.613214</td>\n",
              "      <td>-0.507700</td>\n",
              "      <td>-0.372167</td>\n",
              "    </tr>\n",
              "  </tbody>\n",
              "</table>\n",
              "</div>"
            ],
            "text/plain": [
              "                   A         B         C         D\n",
              "2021-09-27 -1.101917  1.999039 -1.040017 -1.885746\n",
              "2021-09-28 -0.340370 -0.556168 -1.637887 -0.126768\n",
              "2021-09-29 -0.038039 -0.613214 -0.507700 -0.372167"
            ]
          },
          "metadata": {},
          "execution_count": 86
        }
      ]
    },
    {
      "cell_type": "code",
      "metadata": {
        "id": "T8XP7m9nx5r9",
        "colab": {
          "base_uri": "https://localhost:8080/",
          "height": 204
        },
        "outputId": "627d5d32-fb3b-4c0c-f77c-4e343ddccd7b"
      },
      "source": [
        "#값을 이용한 슬라이싱\n",
        "df['20210927':'20211001'] # 인덱스가 아닌 값인 경우는 지정된 범위가 다 선택된다.\n",
        "#맨 마지막 값까지 출력(9월 30일 x)"
      ],
      "execution_count": 87,
      "outputs": [
        {
          "output_type": "execute_result",
          "data": {
            "text/html": [
              "<div>\n",
              "<style scoped>\n",
              "    .dataframe tbody tr th:only-of-type {\n",
              "        vertical-align: middle;\n",
              "    }\n",
              "\n",
              "    .dataframe tbody tr th {\n",
              "        vertical-align: top;\n",
              "    }\n",
              "\n",
              "    .dataframe thead th {\n",
              "        text-align: right;\n",
              "    }\n",
              "</style>\n",
              "<table border=\"1\" class=\"dataframe\">\n",
              "  <thead>\n",
              "    <tr style=\"text-align: right;\">\n",
              "      <th></th>\n",
              "      <th>A</th>\n",
              "      <th>B</th>\n",
              "      <th>C</th>\n",
              "      <th>D</th>\n",
              "    </tr>\n",
              "  </thead>\n",
              "  <tbody>\n",
              "    <tr>\n",
              "      <th>2021-09-27</th>\n",
              "      <td>-1.101917</td>\n",
              "      <td>1.999039</td>\n",
              "      <td>-1.040017</td>\n",
              "      <td>-1.885746</td>\n",
              "    </tr>\n",
              "    <tr>\n",
              "      <th>2021-09-28</th>\n",
              "      <td>-0.340370</td>\n",
              "      <td>-0.556168</td>\n",
              "      <td>-1.637887</td>\n",
              "      <td>-0.126768</td>\n",
              "    </tr>\n",
              "    <tr>\n",
              "      <th>2021-09-29</th>\n",
              "      <td>-0.038039</td>\n",
              "      <td>-0.613214</td>\n",
              "      <td>-0.507700</td>\n",
              "      <td>-0.372167</td>\n",
              "    </tr>\n",
              "    <tr>\n",
              "      <th>2021-09-30</th>\n",
              "      <td>1.289274</td>\n",
              "      <td>0.739432</td>\n",
              "      <td>0.236800</td>\n",
              "      <td>-1.381849</td>\n",
              "    </tr>\n",
              "    <tr>\n",
              "      <th>2021-10-01</th>\n",
              "      <td>-0.442228</td>\n",
              "      <td>1.520713</td>\n",
              "      <td>-1.003919</td>\n",
              "      <td>-0.564867</td>\n",
              "    </tr>\n",
              "  </tbody>\n",
              "</table>\n",
              "</div>"
            ],
            "text/plain": [
              "                   A         B         C         D\n",
              "2021-09-27 -1.101917  1.999039 -1.040017 -1.885746\n",
              "2021-09-28 -0.340370 -0.556168 -1.637887 -0.126768\n",
              "2021-09-29 -0.038039 -0.613214 -0.507700 -0.372167\n",
              "2021-09-30  1.289274  0.739432  0.236800 -1.381849\n",
              "2021-10-01 -0.442228  1.520713 -1.003919 -0.564867"
            ]
          },
          "metadata": {},
          "execution_count": 87
        }
      ]
    },
    {
      "cell_type": "markdown",
      "metadata": {
        "id": "E7-V96t9x5sB"
      },
      "source": [
        "#### Selecting data by label [중요!!]\n",
        "\n",
        "> **loc, iloc**\n"
      ]
    },
    {
      "cell_type": "code",
      "metadata": {
        "id": "TV4dnwU-x5sC",
        "colab": {
          "base_uri": "https://localhost:8080/",
          "height": 235
        },
        "outputId": "a3439a50-9b64-4300-88af-2ff8ae5107b8"
      },
      "source": [
        "df"
      ],
      "execution_count": 88,
      "outputs": [
        {
          "output_type": "execute_result",
          "data": {
            "text/html": [
              "<div>\n",
              "<style scoped>\n",
              "    .dataframe tbody tr th:only-of-type {\n",
              "        vertical-align: middle;\n",
              "    }\n",
              "\n",
              "    .dataframe tbody tr th {\n",
              "        vertical-align: top;\n",
              "    }\n",
              "\n",
              "    .dataframe thead th {\n",
              "        text-align: right;\n",
              "    }\n",
              "</style>\n",
              "<table border=\"1\" class=\"dataframe\">\n",
              "  <thead>\n",
              "    <tr style=\"text-align: right;\">\n",
              "      <th></th>\n",
              "      <th>A</th>\n",
              "      <th>B</th>\n",
              "      <th>C</th>\n",
              "      <th>D</th>\n",
              "    </tr>\n",
              "  </thead>\n",
              "  <tbody>\n",
              "    <tr>\n",
              "      <th>2021-09-27</th>\n",
              "      <td>-1.101917</td>\n",
              "      <td>1.999039</td>\n",
              "      <td>-1.040017</td>\n",
              "      <td>-1.885746</td>\n",
              "    </tr>\n",
              "    <tr>\n",
              "      <th>2021-09-28</th>\n",
              "      <td>-0.340370</td>\n",
              "      <td>-0.556168</td>\n",
              "      <td>-1.637887</td>\n",
              "      <td>-0.126768</td>\n",
              "    </tr>\n",
              "    <tr>\n",
              "      <th>2021-09-29</th>\n",
              "      <td>-0.038039</td>\n",
              "      <td>-0.613214</td>\n",
              "      <td>-0.507700</td>\n",
              "      <td>-0.372167</td>\n",
              "    </tr>\n",
              "    <tr>\n",
              "      <th>2021-09-30</th>\n",
              "      <td>1.289274</td>\n",
              "      <td>0.739432</td>\n",
              "      <td>0.236800</td>\n",
              "      <td>-1.381849</td>\n",
              "    </tr>\n",
              "    <tr>\n",
              "      <th>2021-10-01</th>\n",
              "      <td>-0.442228</td>\n",
              "      <td>1.520713</td>\n",
              "      <td>-1.003919</td>\n",
              "      <td>-0.564867</td>\n",
              "    </tr>\n",
              "    <tr>\n",
              "      <th>2021-10-02</th>\n",
              "      <td>-1.373506</td>\n",
              "      <td>-0.462848</td>\n",
              "      <td>1.092600</td>\n",
              "      <td>-0.607816</td>\n",
              "    </tr>\n",
              "  </tbody>\n",
              "</table>\n",
              "</div>"
            ],
            "text/plain": [
              "                   A         B         C         D\n",
              "2021-09-27 -1.101917  1.999039 -1.040017 -1.885746\n",
              "2021-09-28 -0.340370 -0.556168 -1.637887 -0.126768\n",
              "2021-09-29 -0.038039 -0.613214 -0.507700 -0.372167\n",
              "2021-09-30  1.289274  0.739432  0.236800 -1.381849\n",
              "2021-10-01 -0.442228  1.520713 -1.003919 -0.564867\n",
              "2021-10-02 -1.373506 -0.462848  1.092600 -0.607816"
            ]
          },
          "metadata": {},
          "execution_count": 88
        }
      ]
    },
    {
      "cell_type": "code",
      "metadata": {
        "colab": {
          "base_uri": "https://localhost:8080/"
        },
        "id": "0AJEGDMu3_Yi",
        "outputId": "81b35e4e-af3f-4484-e0fb-2261dfd250e6"
      },
      "source": [
        "dates[0] #Timestamp: 하루(특정한 날), freq='D': 단위 (날, 하루)"
      ],
      "execution_count": 89,
      "outputs": [
        {
          "output_type": "execute_result",
          "data": {
            "text/plain": [
              "Timestamp('2021-09-27 00:00:00', freq='D')"
            ]
          },
          "metadata": {},
          "execution_count": 89
        }
      ]
    },
    {
      "cell_type": "code",
      "metadata": {
        "id": "iPZE3U5cx5sG",
        "colab": {
          "base_uri": "https://localhost:8080/"
        },
        "outputId": "f8199d92-a9f0-42bd-b1b5-0d7dee19f25c"
      },
      "source": [
        "df.loc[dates[0]]   # loc(): value를 []로 지정해 데이터 뽑아냄"
      ],
      "execution_count": 90,
      "outputs": [
        {
          "output_type": "execute_result",
          "data": {
            "text/plain": [
              "A   -1.101917\n",
              "B    1.999039\n",
              "C   -1.040017\n",
              "D   -1.885746\n",
              "Name: 2021-09-27 00:00:00, dtype: float64"
            ]
          },
          "metadata": {},
          "execution_count": 90
        }
      ]
    },
    {
      "cell_type": "code",
      "metadata": {
        "id": "jteYZDQnx5sL",
        "colab": {
          "base_uri": "https://localhost:8080/",
          "height": 235
        },
        "outputId": "e0c3a850-2ea4-45e5-e5f3-95cc4cde681e"
      },
      "source": [
        "# Selecting on a multi-axis by label:\n",
        "df.loc[:,['A','B']] #A,B 동시에 지정할 시 리스트로"
      ],
      "execution_count": 91,
      "outputs": [
        {
          "output_type": "execute_result",
          "data": {
            "text/html": [
              "<div>\n",
              "<style scoped>\n",
              "    .dataframe tbody tr th:only-of-type {\n",
              "        vertical-align: middle;\n",
              "    }\n",
              "\n",
              "    .dataframe tbody tr th {\n",
              "        vertical-align: top;\n",
              "    }\n",
              "\n",
              "    .dataframe thead th {\n",
              "        text-align: right;\n",
              "    }\n",
              "</style>\n",
              "<table border=\"1\" class=\"dataframe\">\n",
              "  <thead>\n",
              "    <tr style=\"text-align: right;\">\n",
              "      <th></th>\n",
              "      <th>A</th>\n",
              "      <th>B</th>\n",
              "    </tr>\n",
              "  </thead>\n",
              "  <tbody>\n",
              "    <tr>\n",
              "      <th>2021-09-27</th>\n",
              "      <td>-1.101917</td>\n",
              "      <td>1.999039</td>\n",
              "    </tr>\n",
              "    <tr>\n",
              "      <th>2021-09-28</th>\n",
              "      <td>-0.340370</td>\n",
              "      <td>-0.556168</td>\n",
              "    </tr>\n",
              "    <tr>\n",
              "      <th>2021-09-29</th>\n",
              "      <td>-0.038039</td>\n",
              "      <td>-0.613214</td>\n",
              "    </tr>\n",
              "    <tr>\n",
              "      <th>2021-09-30</th>\n",
              "      <td>1.289274</td>\n",
              "      <td>0.739432</td>\n",
              "    </tr>\n",
              "    <tr>\n",
              "      <th>2021-10-01</th>\n",
              "      <td>-0.442228</td>\n",
              "      <td>1.520713</td>\n",
              "    </tr>\n",
              "    <tr>\n",
              "      <th>2021-10-02</th>\n",
              "      <td>-1.373506</td>\n",
              "      <td>-0.462848</td>\n",
              "    </tr>\n",
              "  </tbody>\n",
              "</table>\n",
              "</div>"
            ],
            "text/plain": [
              "                   A         B\n",
              "2021-09-27 -1.101917  1.999039\n",
              "2021-09-28 -0.340370 -0.556168\n",
              "2021-09-29 -0.038039 -0.613214\n",
              "2021-09-30  1.289274  0.739432\n",
              "2021-10-01 -0.442228  1.520713\n",
              "2021-10-02 -1.373506 -0.462848"
            ]
          },
          "metadata": {},
          "execution_count": 91
        }
      ]
    },
    {
      "cell_type": "markdown",
      "metadata": {
        "id": "QqYJvRLnx5sP"
      },
      "source": [
        "#### [DIY: 도전코딩]\n",
        "\n",
        "> Select data for first two days AND column 3,4 from df using loc[].\n",
        "- 소괄호, 대괄호 구분"
      ]
    },
    {
      "cell_type": "code",
      "metadata": {
        "id": "jSUlF4icx5sQ",
        "colab": {
          "base_uri": "https://localhost:8080/",
          "height": 111
        },
        "outputId": "c3c0d0fd-2509-4fbb-b748-232b69d071cc"
      },
      "source": [
        "#<중간고사> 옳지 않은 것#\n",
        "\n",
        "# df.loc[0:2,['C','D']]\n",
        "#TypeError: cannot do slice indexing on DatetimeIndex with these indexers [0] of type int - DatetimeIndex에 대해 정수 인덱싱(0:2) 불가/range 인덱스 불가 => iloc() 이용\n",
        "\n",
        "df.loc['20210927':'20210928',['C','D']] #value indexing\n",
        "\n",
        "df.loc[dates[:2],['C','D']] #dates[:2]는 값이기 때문에 인덱싱 가능"
      ],
      "execution_count": 92,
      "outputs": [
        {
          "output_type": "execute_result",
          "data": {
            "text/html": [
              "<div>\n",
              "<style scoped>\n",
              "    .dataframe tbody tr th:only-of-type {\n",
              "        vertical-align: middle;\n",
              "    }\n",
              "\n",
              "    .dataframe tbody tr th {\n",
              "        vertical-align: top;\n",
              "    }\n",
              "\n",
              "    .dataframe thead th {\n",
              "        text-align: right;\n",
              "    }\n",
              "</style>\n",
              "<table border=\"1\" class=\"dataframe\">\n",
              "  <thead>\n",
              "    <tr style=\"text-align: right;\">\n",
              "      <th></th>\n",
              "      <th>C</th>\n",
              "      <th>D</th>\n",
              "    </tr>\n",
              "  </thead>\n",
              "  <tbody>\n",
              "    <tr>\n",
              "      <th>2021-09-27</th>\n",
              "      <td>-1.040017</td>\n",
              "      <td>-1.885746</td>\n",
              "    </tr>\n",
              "    <tr>\n",
              "      <th>2021-09-28</th>\n",
              "      <td>-1.637887</td>\n",
              "      <td>-0.126768</td>\n",
              "    </tr>\n",
              "  </tbody>\n",
              "</table>\n",
              "</div>"
            ],
            "text/plain": [
              "                   C         D\n",
              "2021-09-27 -1.040017 -1.885746\n",
              "2021-09-28 -1.637887 -0.126768"
            ]
          },
          "metadata": {},
          "execution_count": 92
        }
      ]
    },
    {
      "cell_type": "markdown",
      "metadata": {
        "id": "-BGWuIwpx5sV"
      },
      "source": [
        "#### Selecting data by position (iloc())\n",
        "- index 사용\n",
        "- iloc(): integer index"
      ]
    },
    {
      "cell_type": "code",
      "metadata": {
        "id": "gYtgID9rx5sW",
        "colab": {
          "base_uri": "https://localhost:8080/",
          "height": 235
        },
        "outputId": "4ec98e5a-d493-4eb3-817d-48d9ecd4fc7c"
      },
      "source": [
        "df"
      ],
      "execution_count": 93,
      "outputs": [
        {
          "output_type": "execute_result",
          "data": {
            "text/html": [
              "<div>\n",
              "<style scoped>\n",
              "    .dataframe tbody tr th:only-of-type {\n",
              "        vertical-align: middle;\n",
              "    }\n",
              "\n",
              "    .dataframe tbody tr th {\n",
              "        vertical-align: top;\n",
              "    }\n",
              "\n",
              "    .dataframe thead th {\n",
              "        text-align: right;\n",
              "    }\n",
              "</style>\n",
              "<table border=\"1\" class=\"dataframe\">\n",
              "  <thead>\n",
              "    <tr style=\"text-align: right;\">\n",
              "      <th></th>\n",
              "      <th>A</th>\n",
              "      <th>B</th>\n",
              "      <th>C</th>\n",
              "      <th>D</th>\n",
              "    </tr>\n",
              "  </thead>\n",
              "  <tbody>\n",
              "    <tr>\n",
              "      <th>2021-09-27</th>\n",
              "      <td>-1.101917</td>\n",
              "      <td>1.999039</td>\n",
              "      <td>-1.040017</td>\n",
              "      <td>-1.885746</td>\n",
              "    </tr>\n",
              "    <tr>\n",
              "      <th>2021-09-28</th>\n",
              "      <td>-0.340370</td>\n",
              "      <td>-0.556168</td>\n",
              "      <td>-1.637887</td>\n",
              "      <td>-0.126768</td>\n",
              "    </tr>\n",
              "    <tr>\n",
              "      <th>2021-09-29</th>\n",
              "      <td>-0.038039</td>\n",
              "      <td>-0.613214</td>\n",
              "      <td>-0.507700</td>\n",
              "      <td>-0.372167</td>\n",
              "    </tr>\n",
              "    <tr>\n",
              "      <th>2021-09-30</th>\n",
              "      <td>1.289274</td>\n",
              "      <td>0.739432</td>\n",
              "      <td>0.236800</td>\n",
              "      <td>-1.381849</td>\n",
              "    </tr>\n",
              "    <tr>\n",
              "      <th>2021-10-01</th>\n",
              "      <td>-0.442228</td>\n",
              "      <td>1.520713</td>\n",
              "      <td>-1.003919</td>\n",
              "      <td>-0.564867</td>\n",
              "    </tr>\n",
              "    <tr>\n",
              "      <th>2021-10-02</th>\n",
              "      <td>-1.373506</td>\n",
              "      <td>-0.462848</td>\n",
              "      <td>1.092600</td>\n",
              "      <td>-0.607816</td>\n",
              "    </tr>\n",
              "  </tbody>\n",
              "</table>\n",
              "</div>"
            ],
            "text/plain": [
              "                   A         B         C         D\n",
              "2021-09-27 -1.101917  1.999039 -1.040017 -1.885746\n",
              "2021-09-28 -0.340370 -0.556168 -1.637887 -0.126768\n",
              "2021-09-29 -0.038039 -0.613214 -0.507700 -0.372167\n",
              "2021-09-30  1.289274  0.739432  0.236800 -1.381849\n",
              "2021-10-01 -0.442228  1.520713 -1.003919 -0.564867\n",
              "2021-10-02 -1.373506 -0.462848  1.092600 -0.607816"
            ]
          },
          "metadata": {},
          "execution_count": 93
        }
      ]
    },
    {
      "cell_type": "code",
      "metadata": {
        "id": "PNgZ3u8-x5sa",
        "colab": {
          "base_uri": "https://localhost:8080/"
        },
        "outputId": "856c8eda-7d37-4a1a-8502-69d23137a8ad"
      },
      "source": [
        "df.iloc[3]  # 결과는 차원축소형으로 표현됨.\n",
        "#9월 30일 결과"
      ],
      "execution_count": 94,
      "outputs": [
        {
          "output_type": "execute_result",
          "data": {
            "text/plain": [
              "A    1.289274\n",
              "B    0.739432\n",
              "C    0.236800\n",
              "D   -1.381849\n",
              "Name: 2021-09-30 00:00:00, dtype: float64"
            ]
          },
          "metadata": {},
          "execution_count": 94
        }
      ]
    },
    {
      "cell_type": "code",
      "metadata": {
        "id": "12eWuxQ_x5sh",
        "colab": {
          "base_uri": "https://localhost:8080/",
          "height": 111
        },
        "outputId": "203e9279-ef60-4b9f-d24c-119431115cd6"
      },
      "source": [
        "# [다시 도전]\n",
        "# Select data for first two days AND comumn 3,4 from df.\n",
        "# Use iloc\n",
        "df.iloc[:2,2:4]"
      ],
      "execution_count": 95,
      "outputs": [
        {
          "output_type": "execute_result",
          "data": {
            "text/html": [
              "<div>\n",
              "<style scoped>\n",
              "    .dataframe tbody tr th:only-of-type {\n",
              "        vertical-align: middle;\n",
              "    }\n",
              "\n",
              "    .dataframe tbody tr th {\n",
              "        vertical-align: top;\n",
              "    }\n",
              "\n",
              "    .dataframe thead th {\n",
              "        text-align: right;\n",
              "    }\n",
              "</style>\n",
              "<table border=\"1\" class=\"dataframe\">\n",
              "  <thead>\n",
              "    <tr style=\"text-align: right;\">\n",
              "      <th></th>\n",
              "      <th>C</th>\n",
              "      <th>D</th>\n",
              "    </tr>\n",
              "  </thead>\n",
              "  <tbody>\n",
              "    <tr>\n",
              "      <th>2021-09-27</th>\n",
              "      <td>-1.040017</td>\n",
              "      <td>-1.885746</td>\n",
              "    </tr>\n",
              "    <tr>\n",
              "      <th>2021-09-28</th>\n",
              "      <td>-1.637887</td>\n",
              "      <td>-0.126768</td>\n",
              "    </tr>\n",
              "  </tbody>\n",
              "</table>\n",
              "</div>"
            ],
            "text/plain": [
              "                   C         D\n",
              "2021-09-27 -1.040017 -1.885746\n",
              "2021-09-28 -1.637887 -0.126768"
            ]
          },
          "metadata": {},
          "execution_count": 95
        }
      ]
    },
    {
      "cell_type": "code",
      "metadata": {
        "id": "_S-omW3hx5sn",
        "colab": {
          "base_uri": "https://localhost:8080/"
        },
        "outputId": "9ae41d49-a275-4820-a8b8-886801ae7fc1"
      },
      "source": [
        "# Select one item\n",
        "df.iloc[1,1]"
      ],
      "execution_count": 96,
      "outputs": [
        {
          "output_type": "execute_result",
          "data": {
            "text/plain": [
              "-0.556168066494529"
            ]
          },
          "metadata": {},
          "execution_count": 96
        }
      ]
    },
    {
      "cell_type": "code",
      "metadata": {
        "id": "fjAsIAidfVUQ",
        "colab": {
          "base_uri": "https://localhost:8080/",
          "height": 142
        },
        "outputId": "a1133b29-cbd9-46f5-951c-d06fd82a5b6e"
      },
      "source": [
        "# [DIY: 다시 도전]\n",
        "# Select data for first three days from df\n",
        "# Your code\n",
        "\n",
        "# df[:3,:] \n",
        "#TypeError: '(slice(None, 3, None), slice(None, None, None))' is an invalid key\n",
        "\n",
        "df.iloc[:3,:]"
      ],
      "execution_count": 97,
      "outputs": [
        {
          "output_type": "execute_result",
          "data": {
            "text/html": [
              "<div>\n",
              "<style scoped>\n",
              "    .dataframe tbody tr th:only-of-type {\n",
              "        vertical-align: middle;\n",
              "    }\n",
              "\n",
              "    .dataframe tbody tr th {\n",
              "        vertical-align: top;\n",
              "    }\n",
              "\n",
              "    .dataframe thead th {\n",
              "        text-align: right;\n",
              "    }\n",
              "</style>\n",
              "<table border=\"1\" class=\"dataframe\">\n",
              "  <thead>\n",
              "    <tr style=\"text-align: right;\">\n",
              "      <th></th>\n",
              "      <th>A</th>\n",
              "      <th>B</th>\n",
              "      <th>C</th>\n",
              "      <th>D</th>\n",
              "    </tr>\n",
              "  </thead>\n",
              "  <tbody>\n",
              "    <tr>\n",
              "      <th>2021-09-27</th>\n",
              "      <td>-1.101917</td>\n",
              "      <td>1.999039</td>\n",
              "      <td>-1.040017</td>\n",
              "      <td>-1.885746</td>\n",
              "    </tr>\n",
              "    <tr>\n",
              "      <th>2021-09-28</th>\n",
              "      <td>-0.340370</td>\n",
              "      <td>-0.556168</td>\n",
              "      <td>-1.637887</td>\n",
              "      <td>-0.126768</td>\n",
              "    </tr>\n",
              "    <tr>\n",
              "      <th>2021-09-29</th>\n",
              "      <td>-0.038039</td>\n",
              "      <td>-0.613214</td>\n",
              "      <td>-0.507700</td>\n",
              "      <td>-0.372167</td>\n",
              "    </tr>\n",
              "  </tbody>\n",
              "</table>\n",
              "</div>"
            ],
            "text/plain": [
              "                   A         B         C         D\n",
              "2021-09-27 -1.101917  1.999039 -1.040017 -1.885746\n",
              "2021-09-28 -0.340370 -0.556168 -1.637887 -0.126768\n",
              "2021-09-29 -0.038039 -0.613214 -0.507700 -0.372167"
            ]
          },
          "metadata": {},
          "execution_count": 97
        }
      ]
    },
    {
      "cell_type": "markdown",
      "metadata": {
        "id": "fDoWVVGHx5su"
      },
      "source": [
        "#### Selecting data by Boolean indexing"
      ]
    },
    {
      "cell_type": "code",
      "metadata": {
        "id": "CG7LipUrx5sv",
        "colab": {
          "base_uri": "https://localhost:8080/",
          "height": 235
        },
        "outputId": "717da4be-7759-4fba-f413-fccb27ef6a62"
      },
      "source": [
        "df"
      ],
      "execution_count": 98,
      "outputs": [
        {
          "output_type": "execute_result",
          "data": {
            "text/html": [
              "<div>\n",
              "<style scoped>\n",
              "    .dataframe tbody tr th:only-of-type {\n",
              "        vertical-align: middle;\n",
              "    }\n",
              "\n",
              "    .dataframe tbody tr th {\n",
              "        vertical-align: top;\n",
              "    }\n",
              "\n",
              "    .dataframe thead th {\n",
              "        text-align: right;\n",
              "    }\n",
              "</style>\n",
              "<table border=\"1\" class=\"dataframe\">\n",
              "  <thead>\n",
              "    <tr style=\"text-align: right;\">\n",
              "      <th></th>\n",
              "      <th>A</th>\n",
              "      <th>B</th>\n",
              "      <th>C</th>\n",
              "      <th>D</th>\n",
              "    </tr>\n",
              "  </thead>\n",
              "  <tbody>\n",
              "    <tr>\n",
              "      <th>2021-09-27</th>\n",
              "      <td>-1.101917</td>\n",
              "      <td>1.999039</td>\n",
              "      <td>-1.040017</td>\n",
              "      <td>-1.885746</td>\n",
              "    </tr>\n",
              "    <tr>\n",
              "      <th>2021-09-28</th>\n",
              "      <td>-0.340370</td>\n",
              "      <td>-0.556168</td>\n",
              "      <td>-1.637887</td>\n",
              "      <td>-0.126768</td>\n",
              "    </tr>\n",
              "    <tr>\n",
              "      <th>2021-09-29</th>\n",
              "      <td>-0.038039</td>\n",
              "      <td>-0.613214</td>\n",
              "      <td>-0.507700</td>\n",
              "      <td>-0.372167</td>\n",
              "    </tr>\n",
              "    <tr>\n",
              "      <th>2021-09-30</th>\n",
              "      <td>1.289274</td>\n",
              "      <td>0.739432</td>\n",
              "      <td>0.236800</td>\n",
              "      <td>-1.381849</td>\n",
              "    </tr>\n",
              "    <tr>\n",
              "      <th>2021-10-01</th>\n",
              "      <td>-0.442228</td>\n",
              "      <td>1.520713</td>\n",
              "      <td>-1.003919</td>\n",
              "      <td>-0.564867</td>\n",
              "    </tr>\n",
              "    <tr>\n",
              "      <th>2021-10-02</th>\n",
              "      <td>-1.373506</td>\n",
              "      <td>-0.462848</td>\n",
              "      <td>1.092600</td>\n",
              "      <td>-0.607816</td>\n",
              "    </tr>\n",
              "  </tbody>\n",
              "</table>\n",
              "</div>"
            ],
            "text/plain": [
              "                   A         B         C         D\n",
              "2021-09-27 -1.101917  1.999039 -1.040017 -1.885746\n",
              "2021-09-28 -0.340370 -0.556168 -1.637887 -0.126768\n",
              "2021-09-29 -0.038039 -0.613214 -0.507700 -0.372167\n",
              "2021-09-30  1.289274  0.739432  0.236800 -1.381849\n",
              "2021-10-01 -0.442228  1.520713 -1.003919 -0.564867\n",
              "2021-10-02 -1.373506 -0.462848  1.092600 -0.607816"
            ]
          },
          "metadata": {},
          "execution_count": 98
        }
      ]
    },
    {
      "cell_type": "code",
      "metadata": {
        "colab": {
          "base_uri": "https://localhost:8080/"
        },
        "id": "t1BTYwUQ7W9w",
        "outputId": "aaea875c-e4c8-4b01-93d0-8f9f06a7c491"
      },
      "source": [
        "df.A>0"
      ],
      "execution_count": 99,
      "outputs": [
        {
          "output_type": "execute_result",
          "data": {
            "text/plain": [
              "2021-09-27    False\n",
              "2021-09-28    False\n",
              "2021-09-29    False\n",
              "2021-09-30     True\n",
              "2021-10-01    False\n",
              "2021-10-02    False\n",
              "Freq: D, Name: A, dtype: bool"
            ]
          },
          "metadata": {},
          "execution_count": 99
        }
      ]
    },
    {
      "cell_type": "code",
      "metadata": {
        "id": "U5If1VEYx5sy",
        "colab": {
          "base_uri": "https://localhost:8080/",
          "height": 80
        },
        "outputId": "874db3cf-c7dc-49d9-a081-1ac70effa6d0"
      },
      "source": [
        "df[df.A > 0] #지정은 [] 이용, df.A>0: 조건에 만족하는 날짜 추출"
      ],
      "execution_count": 100,
      "outputs": [
        {
          "output_type": "execute_result",
          "data": {
            "text/html": [
              "<div>\n",
              "<style scoped>\n",
              "    .dataframe tbody tr th:only-of-type {\n",
              "        vertical-align: middle;\n",
              "    }\n",
              "\n",
              "    .dataframe tbody tr th {\n",
              "        vertical-align: top;\n",
              "    }\n",
              "\n",
              "    .dataframe thead th {\n",
              "        text-align: right;\n",
              "    }\n",
              "</style>\n",
              "<table border=\"1\" class=\"dataframe\">\n",
              "  <thead>\n",
              "    <tr style=\"text-align: right;\">\n",
              "      <th></th>\n",
              "      <th>A</th>\n",
              "      <th>B</th>\n",
              "      <th>C</th>\n",
              "      <th>D</th>\n",
              "    </tr>\n",
              "  </thead>\n",
              "  <tbody>\n",
              "    <tr>\n",
              "      <th>2021-09-30</th>\n",
              "      <td>1.289274</td>\n",
              "      <td>0.739432</td>\n",
              "      <td>0.2368</td>\n",
              "      <td>-1.381849</td>\n",
              "    </tr>\n",
              "  </tbody>\n",
              "</table>\n",
              "</div>"
            ],
            "text/plain": [
              "                   A         B       C         D\n",
              "2021-09-30  1.289274  0.739432  0.2368 -1.381849"
            ]
          },
          "metadata": {},
          "execution_count": 100
        }
      ]
    },
    {
      "cell_type": "code",
      "metadata": {
        "colab": {
          "base_uri": "https://localhost:8080/",
          "height": 235
        },
        "id": "OoG7EGNX706c",
        "outputId": "f23c23da-196c-4105-963e-d4f25d2fe972"
      },
      "source": [
        "df > 0"
      ],
      "execution_count": 101,
      "outputs": [
        {
          "output_type": "execute_result",
          "data": {
            "text/html": [
              "<div>\n",
              "<style scoped>\n",
              "    .dataframe tbody tr th:only-of-type {\n",
              "        vertical-align: middle;\n",
              "    }\n",
              "\n",
              "    .dataframe tbody tr th {\n",
              "        vertical-align: top;\n",
              "    }\n",
              "\n",
              "    .dataframe thead th {\n",
              "        text-align: right;\n",
              "    }\n",
              "</style>\n",
              "<table border=\"1\" class=\"dataframe\">\n",
              "  <thead>\n",
              "    <tr style=\"text-align: right;\">\n",
              "      <th></th>\n",
              "      <th>A</th>\n",
              "      <th>B</th>\n",
              "      <th>C</th>\n",
              "      <th>D</th>\n",
              "    </tr>\n",
              "  </thead>\n",
              "  <tbody>\n",
              "    <tr>\n",
              "      <th>2021-09-27</th>\n",
              "      <td>False</td>\n",
              "      <td>True</td>\n",
              "      <td>False</td>\n",
              "      <td>False</td>\n",
              "    </tr>\n",
              "    <tr>\n",
              "      <th>2021-09-28</th>\n",
              "      <td>False</td>\n",
              "      <td>False</td>\n",
              "      <td>False</td>\n",
              "      <td>False</td>\n",
              "    </tr>\n",
              "    <tr>\n",
              "      <th>2021-09-29</th>\n",
              "      <td>False</td>\n",
              "      <td>False</td>\n",
              "      <td>False</td>\n",
              "      <td>False</td>\n",
              "    </tr>\n",
              "    <tr>\n",
              "      <th>2021-09-30</th>\n",
              "      <td>True</td>\n",
              "      <td>True</td>\n",
              "      <td>True</td>\n",
              "      <td>False</td>\n",
              "    </tr>\n",
              "    <tr>\n",
              "      <th>2021-10-01</th>\n",
              "      <td>False</td>\n",
              "      <td>True</td>\n",
              "      <td>False</td>\n",
              "      <td>False</td>\n",
              "    </tr>\n",
              "    <tr>\n",
              "      <th>2021-10-02</th>\n",
              "      <td>False</td>\n",
              "      <td>False</td>\n",
              "      <td>True</td>\n",
              "      <td>False</td>\n",
              "    </tr>\n",
              "  </tbody>\n",
              "</table>\n",
              "</div>"
            ],
            "text/plain": [
              "                A      B      C      D\n",
              "2021-09-27  False   True  False  False\n",
              "2021-09-28  False  False  False  False\n",
              "2021-09-29  False  False  False  False\n",
              "2021-09-30   True   True   True  False\n",
              "2021-10-01  False   True  False  False\n",
              "2021-10-02  False  False   True  False"
            ]
          },
          "metadata": {},
          "execution_count": 101
        }
      ]
    },
    {
      "cell_type": "code",
      "metadata": {
        "id": "8WkB7Q5rx5s1",
        "colab": {
          "base_uri": "https://localhost:8080/",
          "height": 235
        },
        "outputId": "a77b672a-f863-425f-d8aa-b9bc7489bd83"
      },
      "source": [
        "df[df > 0] #True는 출력, False는 NaN 출력"
      ],
      "execution_count": 102,
      "outputs": [
        {
          "output_type": "execute_result",
          "data": {
            "text/html": [
              "<div>\n",
              "<style scoped>\n",
              "    .dataframe tbody tr th:only-of-type {\n",
              "        vertical-align: middle;\n",
              "    }\n",
              "\n",
              "    .dataframe tbody tr th {\n",
              "        vertical-align: top;\n",
              "    }\n",
              "\n",
              "    .dataframe thead th {\n",
              "        text-align: right;\n",
              "    }\n",
              "</style>\n",
              "<table border=\"1\" class=\"dataframe\">\n",
              "  <thead>\n",
              "    <tr style=\"text-align: right;\">\n",
              "      <th></th>\n",
              "      <th>A</th>\n",
              "      <th>B</th>\n",
              "      <th>C</th>\n",
              "      <th>D</th>\n",
              "    </tr>\n",
              "  </thead>\n",
              "  <tbody>\n",
              "    <tr>\n",
              "      <th>2021-09-27</th>\n",
              "      <td>NaN</td>\n",
              "      <td>1.999039</td>\n",
              "      <td>NaN</td>\n",
              "      <td>NaN</td>\n",
              "    </tr>\n",
              "    <tr>\n",
              "      <th>2021-09-28</th>\n",
              "      <td>NaN</td>\n",
              "      <td>NaN</td>\n",
              "      <td>NaN</td>\n",
              "      <td>NaN</td>\n",
              "    </tr>\n",
              "    <tr>\n",
              "      <th>2021-09-29</th>\n",
              "      <td>NaN</td>\n",
              "      <td>NaN</td>\n",
              "      <td>NaN</td>\n",
              "      <td>NaN</td>\n",
              "    </tr>\n",
              "    <tr>\n",
              "      <th>2021-09-30</th>\n",
              "      <td>1.289274</td>\n",
              "      <td>0.739432</td>\n",
              "      <td>0.2368</td>\n",
              "      <td>NaN</td>\n",
              "    </tr>\n",
              "    <tr>\n",
              "      <th>2021-10-01</th>\n",
              "      <td>NaN</td>\n",
              "      <td>1.520713</td>\n",
              "      <td>NaN</td>\n",
              "      <td>NaN</td>\n",
              "    </tr>\n",
              "    <tr>\n",
              "      <th>2021-10-02</th>\n",
              "      <td>NaN</td>\n",
              "      <td>NaN</td>\n",
              "      <td>1.0926</td>\n",
              "      <td>NaN</td>\n",
              "    </tr>\n",
              "  </tbody>\n",
              "</table>\n",
              "</div>"
            ],
            "text/plain": [
              "                   A         B       C   D\n",
              "2021-09-27       NaN  1.999039     NaN NaN\n",
              "2021-09-28       NaN       NaN     NaN NaN\n",
              "2021-09-29       NaN       NaN     NaN NaN\n",
              "2021-09-30  1.289274  0.739432  0.2368 NaN\n",
              "2021-10-01       NaN  1.520713     NaN NaN\n",
              "2021-10-02       NaN       NaN  1.0926 NaN"
            ]
          },
          "metadata": {},
          "execution_count": 102
        }
      ]
    },
    {
      "cell_type": "code",
      "metadata": {
        "colab": {
          "base_uri": "https://localhost:8080/",
          "height": 235
        },
        "id": "4L7lWbB68guz",
        "outputId": "465257fe-d2a2-43ee-a528-10bf0a464b2f"
      },
      "source": [
        "df[df < 0]"
      ],
      "execution_count": 103,
      "outputs": [
        {
          "output_type": "execute_result",
          "data": {
            "text/html": [
              "<div>\n",
              "<style scoped>\n",
              "    .dataframe tbody tr th:only-of-type {\n",
              "        vertical-align: middle;\n",
              "    }\n",
              "\n",
              "    .dataframe tbody tr th {\n",
              "        vertical-align: top;\n",
              "    }\n",
              "\n",
              "    .dataframe thead th {\n",
              "        text-align: right;\n",
              "    }\n",
              "</style>\n",
              "<table border=\"1\" class=\"dataframe\">\n",
              "  <thead>\n",
              "    <tr style=\"text-align: right;\">\n",
              "      <th></th>\n",
              "      <th>A</th>\n",
              "      <th>B</th>\n",
              "      <th>C</th>\n",
              "      <th>D</th>\n",
              "    </tr>\n",
              "  </thead>\n",
              "  <tbody>\n",
              "    <tr>\n",
              "      <th>2021-09-27</th>\n",
              "      <td>-1.101917</td>\n",
              "      <td>NaN</td>\n",
              "      <td>-1.040017</td>\n",
              "      <td>-1.885746</td>\n",
              "    </tr>\n",
              "    <tr>\n",
              "      <th>2021-09-28</th>\n",
              "      <td>-0.340370</td>\n",
              "      <td>-0.556168</td>\n",
              "      <td>-1.637887</td>\n",
              "      <td>-0.126768</td>\n",
              "    </tr>\n",
              "    <tr>\n",
              "      <th>2021-09-29</th>\n",
              "      <td>-0.038039</td>\n",
              "      <td>-0.613214</td>\n",
              "      <td>-0.507700</td>\n",
              "      <td>-0.372167</td>\n",
              "    </tr>\n",
              "    <tr>\n",
              "      <th>2021-09-30</th>\n",
              "      <td>NaN</td>\n",
              "      <td>NaN</td>\n",
              "      <td>NaN</td>\n",
              "      <td>-1.381849</td>\n",
              "    </tr>\n",
              "    <tr>\n",
              "      <th>2021-10-01</th>\n",
              "      <td>-0.442228</td>\n",
              "      <td>NaN</td>\n",
              "      <td>-1.003919</td>\n",
              "      <td>-0.564867</td>\n",
              "    </tr>\n",
              "    <tr>\n",
              "      <th>2021-10-02</th>\n",
              "      <td>-1.373506</td>\n",
              "      <td>-0.462848</td>\n",
              "      <td>NaN</td>\n",
              "      <td>-0.607816</td>\n",
              "    </tr>\n",
              "  </tbody>\n",
              "</table>\n",
              "</div>"
            ],
            "text/plain": [
              "                   A         B         C         D\n",
              "2021-09-27 -1.101917       NaN -1.040017 -1.885746\n",
              "2021-09-28 -0.340370 -0.556168 -1.637887 -0.126768\n",
              "2021-09-29 -0.038039 -0.613214 -0.507700 -0.372167\n",
              "2021-09-30       NaN       NaN       NaN -1.381849\n",
              "2021-10-01 -0.442228       NaN -1.003919 -0.564867\n",
              "2021-10-02 -1.373506 -0.462848       NaN -0.607816"
            ]
          },
          "metadata": {},
          "execution_count": 103
        }
      ]
    }
  ]
}