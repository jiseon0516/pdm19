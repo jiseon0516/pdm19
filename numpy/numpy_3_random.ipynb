{
  "nbformat": 4,
  "nbformat_minor": 0,
  "metadata": {
    "colab": {
      "name": "numpy_3_random.ipynb",
      "provenance": [],
      "collapsed_sections": [],
      "include_colab_link": true
    },
    "kernelspec": {
      "name": "python3",
      "display_name": "Python 3"
    }
  },
  "cells": [
    {
      "cell_type": "markdown",
      "metadata": {
        "id": "view-in-github",
        "colab_type": "text"
      },
      "source": [
        "<a href=\"https://colab.research.google.com/github/jiseon0516/pdm19/blob/main/numpy/numpy_3_random.ipynb\" target=\"_parent\"><img src=\"https://colab.research.google.com/assets/colab-badge.svg\" alt=\"Open In Colab\"/></a>"
      ]
    },
    {
      "cell_type": "markdown",
      "metadata": {
        "id": "_zrirXHfgmyY"
      },
      "source": [
        "# numpy\n",
        "## random 서브모듈\n",
        "> [데이터싸이언스 스쿨:난수발생](https://datascienceschool.net/01%20python/03.05%20%EB%82%9C%EC%88%98%20%EB%B0%9C%EC%83%9D%EA%B3%BC%20%EC%B9%B4%EC%9A%B4%ED%8C%85.html)"
      ]
    },
    {
      "cell_type": "code",
      "metadata": {
        "id": "kQbzzSMZG2PX"
      },
      "source": [
        "import numpy as np"
      ],
      "execution_count": 2,
      "outputs": []
    },
    {
      "cell_type": "markdown",
      "metadata": {
        "id": "1Ry0YHkNFis5"
      },
      "source": [
        "## 난수 생성\n",
        "> NumPy의 random 서브모듈은 난수를 생성하는 다양한 명령을 제공.\n",
        "\n",
        "- rand: 0부터 1사이의 '균일 분포' (uniform distribution) -0부터 1사이의 실수 같은 비율로, 백색잡음\n",
        "- randn: 가우시안 표준 '정규 분포' (normal distribution, Gaussian) - 음수 포함, 종형분포\n",
        "- randint: 균일 분포의 정수 난수 (uniform int)\n",
        "\n",
        "> randn()은 평균 0, 표준편차 1 인 가우시안 정규분포를 생성. - 음수 포함"
      ]
    },
    {
      "cell_type": "markdown",
      "metadata": {
        "id": "CtO1VxvurziR"
      },
      "source": [
        "### rand: 0부터 1사이의 균일 분포 (uniform distribution)"
      ]
    },
    {
      "cell_type": "code",
      "metadata": {
        "id": "LA1oF6aEG7kJ",
        "colab": {
          "base_uri": "https://localhost:8080/"
        },
        "outputId": "94219380-1a2f-4a11-e707-921dcdcea895"
      },
      "source": [
        "np.random.rand(5) #random의 서브 모듈, numpy 배열 객체"
      ],
      "execution_count": 3,
      "outputs": [
        {
          "output_type": "execute_result",
          "data": {
            "text/plain": [
              "array([0.88119252, 0.21765905, 0.31353569, 0.87806508, 0.40546026])"
            ]
          },
          "metadata": {},
          "execution_count": 3
        }
      ]
    },
    {
      "cell_type": "code",
      "metadata": {
        "id": "H6f4ix3NHCyR",
        "colab": {
          "base_uri": "https://localhost:8080/"
        },
        "outputId": "d4ef0f9a-6a3f-4ca5-ca22-15e05ef7b696"
      },
      "source": [
        "np.random.rand(5)"
      ],
      "execution_count": 4,
      "outputs": [
        {
          "output_type": "execute_result",
          "data": {
            "text/plain": [
              "array([0.89365626, 0.32688219, 0.44226013, 0.5184477 , 0.92130919])"
            ]
          },
          "metadata": {},
          "execution_count": 4
        }
      ]
    },
    {
      "cell_type": "markdown",
      "metadata": {
        "id": "c88F6gf8r4K2"
      },
      "source": [
        "### randn: 가우시안 표준 정규 분포 (normal distribution, Gaussian)"
      ]
    },
    {
      "cell_type": "code",
      "metadata": {
        "id": "rtVfCL-uP2Tw",
        "colab": {
          "base_uri": "https://localhost:8080/"
        },
        "outputId": "81fc1360-cd70-43fa-ea67-ea48f6db7079"
      },
      "source": [
        "np.random.randn(5) #음수, 양수 모두 가능"
      ],
      "execution_count": 5,
      "outputs": [
        {
          "output_type": "execute_result",
          "data": {
            "text/plain": [
              "array([-0.28604111,  1.18810508, -1.89379454, -1.66156507, -0.40678919])"
            ]
          },
          "metadata": {},
          "execution_count": 5
        }
      ]
    },
    {
      "cell_type": "code",
      "metadata": {
        "colab": {
          "base_uri": "https://localhost:8080/"
        },
        "id": "21dCpeFF1ZDA",
        "outputId": "c047d6f9-85cb-42ef-b4c3-460f9a07cacf"
      },
      "source": [
        "np.random.randn(5) #data type: numpy 배열로 출력"
      ],
      "execution_count": 6,
      "outputs": [
        {
          "output_type": "execute_result",
          "data": {
            "text/plain": [
              "array([-2.11327426,  0.49662125,  0.87962561,  0.06204648,  0.84646885])"
            ]
          },
          "metadata": {},
          "execution_count": 6
        }
      ]
    },
    {
      "cell_type": "markdown",
      "metadata": {
        "id": "wsvTzTFSsBSJ"
      },
      "source": [
        "### randint: 균일 분포의 정수 난수 (uniform int)\n",
        "- numpy.random.randint(low, high=None, size=None, dtype='l')"
      ]
    },
    {
      "cell_type": "code",
      "metadata": {
        "id": "WSvAH8uVs2Vb",
        "colab": {
          "base_uri": "https://localhost:8080/"
        },
        "outputId": "71d0e3ec-d7f0-40c2-9533-00446fbedc31"
      },
      "source": [
        "np.random.randint(5) #high = 5, low=0 // 5 미만의 정수 (5 x)"
      ],
      "execution_count": 7,
      "outputs": [
        {
          "output_type": "execute_result",
          "data": {
            "text/plain": [
              "4"
            ]
          },
          "metadata": {},
          "execution_count": 7
        }
      ]
    },
    {
      "cell_type": "code",
      "metadata": {
        "colab": {
          "base_uri": "https://localhost:8080/"
        },
        "id": "JqWWriGh2At8",
        "outputId": "444e9a88-9614-412d-c054-2dd87a70f730"
      },
      "source": [
        "# die number\n",
        "np.random.randint(1,7) #1~6"
      ],
      "execution_count": 8,
      "outputs": [
        {
          "output_type": "execute_result",
          "data": {
            "text/plain": [
              "2"
            ]
          },
          "metadata": {},
          "execution_count": 8
        }
      ]
    },
    {
      "cell_type": "code",
      "metadata": {
        "id": "McWHW15uQDPr",
        "colab": {
          "base_uri": "https://localhost:8080/"
        },
        "outputId": "37717050-0566-4a1b-ccbe-af125ef8aba8"
      },
      "source": [
        "np.random.randint(5,9) #5~8"
      ],
      "execution_count": 9,
      "outputs": [
        {
          "output_type": "execute_result",
          "data": {
            "text/plain": [
              "7"
            ]
          },
          "metadata": {},
          "execution_count": 9
        }
      ]
    },
    {
      "cell_type": "code",
      "metadata": {
        "id": "oBsWu9FmQQSC",
        "colab": {
          "base_uri": "https://localhost:8080/"
        },
        "outputId": "22de19c6-d876-4fbb-c704-44fbb395282a"
      },
      "source": [
        "np.random.randint(0,10,5) #0~9, 5개, 중복 가능"
      ],
      "execution_count": 10,
      "outputs": [
        {
          "output_type": "execute_result",
          "data": {
            "text/plain": [
              "array([1, 8, 6, 6, 8])"
            ]
          },
          "metadata": {},
          "execution_count": 10
        }
      ]
    },
    {
      "cell_type": "code",
      "metadata": {
        "id": "0kNuJxjaQYEu",
        "colab": {
          "base_uri": "https://localhost:8080/"
        },
        "outputId": "bdea97c0-3ec7-4ccb-f602-cf487be1aa15"
      },
      "source": [
        "np.random.randint(0,10,5)"
      ],
      "execution_count": 11,
      "outputs": [
        {
          "output_type": "execute_result",
          "data": {
            "text/plain": [
              "array([0, 4, 0, 9, 7])"
            ]
          },
          "metadata": {},
          "execution_count": 11
        }
      ]
    },
    {
      "cell_type": "markdown",
      "metadata": {
        "id": "K58DiNYUmANL"
      },
      "source": [
        "---"
      ]
    },
    {
      "cell_type": "markdown",
      "metadata": {
        "id": "xU5NWjQ3F_ld"
      },
      "source": [
        "## 난수 생성 seed 설정\n",
        "- numpy.random.seed(seed=None)\n",
        "- np.random.seed(number)"
      ]
    },
    {
      "cell_type": "code",
      "metadata": {
        "id": "AxUeYmQSQawG"
      },
      "source": [
        "np.random.seed() #임의의 조건 설정"
      ],
      "execution_count": 12,
      "outputs": []
    },
    {
      "cell_type": "code",
      "metadata": {
        "id": "C33YjKqvRJ33",
        "colab": {
          "base_uri": "https://localhost:8080/"
        },
        "outputId": "9b4df855-e8d0-4dbb-dabf-7f9f2d525cc2"
      },
      "source": [
        "np.random.rand(5)"
      ],
      "execution_count": 13,
      "outputs": [
        {
          "output_type": "execute_result",
          "data": {
            "text/plain": [
              "array([0.7039075 , 0.5243985 , 0.79149033, 0.1119084 , 0.64449515])"
            ]
          },
          "metadata": {},
          "execution_count": 13
        }
      ]
    },
    {
      "cell_type": "code",
      "metadata": {
        "id": "Ne8rIyN9RO81",
        "colab": {
          "base_uri": "https://localhost:8080/"
        },
        "outputId": "ab3e909c-388c-4af4-9919-5ab2d6eb47da"
      },
      "source": [
        "np.random.rand(5)"
      ],
      "execution_count": 14,
      "outputs": [
        {
          "output_type": "execute_result",
          "data": {
            "text/plain": [
              "array([0.47019686, 0.18486972, 0.552754  , 0.49797205, 0.85049373])"
            ]
          },
          "metadata": {},
          "execution_count": 14
        }
      ]
    },
    {
      "cell_type": "markdown",
      "metadata": {
        "id": "wnQ4gFoltu81"
      },
      "source": [
        "### 동일한 무작위수 생성\n",
        "- seed를 고정하고 무작위수 생성 - 초기 조건 맞출 때 사용"
      ]
    },
    {
      "cell_type": "code",
      "metadata": {
        "id": "LGPOJGfgRSWx"
      },
      "source": [
        "np.random.seed(1234)"
      ],
      "execution_count": 15,
      "outputs": []
    },
    {
      "cell_type": "code",
      "metadata": {
        "id": "t2PNRUpfRXZk",
        "colab": {
          "base_uri": "https://localhost:8080/"
        },
        "outputId": "1cfb03cc-894e-4411-9715-71e268df50bb"
      },
      "source": [
        "np.random.rand(5) "
      ],
      "execution_count": 16,
      "outputs": [
        {
          "output_type": "execute_result",
          "data": {
            "text/plain": [
              "array([0.19151945, 0.62210877, 0.43772774, 0.78535858, 0.77997581])"
            ]
          },
          "metadata": {},
          "execution_count": 16
        }
      ]
    },
    {
      "cell_type": "code",
      "metadata": {
        "id": "x8yKednV8CZy",
        "colab": {
          "base_uri": "https://localhost:8080/"
        },
        "outputId": "3c1d7821-cbb1-4395-be83-9938ea7b0a88"
      },
      "source": [
        "np.random.rand(5) #seed 고정시켜 줘야 됨"
      ],
      "execution_count": 17,
      "outputs": [
        {
          "output_type": "execute_result",
          "data": {
            "text/plain": [
              "array([0.27259261, 0.27646426, 0.80187218, 0.95813935, 0.87593263])"
            ]
          },
          "metadata": {},
          "execution_count": 17
        }
      ]
    },
    {
      "cell_type": "code",
      "metadata": {
        "id": "bo2A_ntYRcKw"
      },
      "source": [
        "np.random.seed(1234)"
      ],
      "execution_count": 18,
      "outputs": []
    },
    {
      "cell_type": "code",
      "metadata": {
        "id": "U5qXdwYQRYeT",
        "colab": {
          "base_uri": "https://localhost:8080/"
        },
        "outputId": "b7ce0270-5f20-4b80-d1cd-d0bd4b70ef72"
      },
      "source": [
        "np.random.rand(5)"
      ],
      "execution_count": 19,
      "outputs": [
        {
          "output_type": "execute_result",
          "data": {
            "text/plain": [
              "array([0.19151945, 0.62210877, 0.43772774, 0.78535858, 0.77997581])"
            ]
          },
          "metadata": {},
          "execution_count": 19
        }
      ]
    },
    {
      "cell_type": "markdown",
      "metadata": {
        "id": "pwMXGAwmRhpW"
      },
      "source": [
        "### seed 고정 후에 randint(5)"
      ]
    },
    {
      "cell_type": "code",
      "metadata": {
        "id": "tqmTOMMVRhGW",
        "colab": {
          "base_uri": "https://localhost:8080/"
        },
        "outputId": "87266957-8ee6-47e0-c942-daf41fb6983b"
      },
      "source": [
        "np.random.seed(5678) #seed 값은 임의의 정수\n",
        "np.random.randint(1,10,5)"
      ],
      "execution_count": 20,
      "outputs": [
        {
          "output_type": "execute_result",
          "data": {
            "text/plain": [
              "array([5, 8, 3, 5, 4])"
            ]
          },
          "metadata": {},
          "execution_count": 20
        }
      ]
    },
    {
      "cell_type": "code",
      "metadata": {
        "id": "YxQYjcOLSA-Z",
        "colab": {
          "base_uri": "https://localhost:8080/"
        },
        "outputId": "19a7322d-e293-4959-c303-beda832d4d44"
      },
      "source": [
        "np.random.randint(1,10,5)"
      ],
      "execution_count": 21,
      "outputs": [
        {
          "output_type": "execute_result",
          "data": {
            "text/plain": [
              "array([6, 3, 7, 4, 1])"
            ]
          },
          "metadata": {},
          "execution_count": 21
        }
      ]
    },
    {
      "cell_type": "code",
      "metadata": {
        "id": "aQYF5QpGSD6p",
        "colab": {
          "base_uri": "https://localhost:8080/"
        },
        "outputId": "2b6fbeb7-6152-43cb-bbf8-5ef2ce889068"
      },
      "source": [
        "np.random.seed(5678)\n",
        "np.random.randint(1,10,5)"
      ],
      "execution_count": 22,
      "outputs": [
        {
          "output_type": "execute_result",
          "data": {
            "text/plain": [
              "array([5, 8, 3, 5, 4])"
            ]
          },
          "metadata": {},
          "execution_count": 22
        }
      ]
    },
    {
      "cell_type": "code",
      "metadata": {
        "id": "cfIhMEcVSGKa",
        "colab": {
          "base_uri": "https://localhost:8080/"
        },
        "outputId": "1dd171de-4b98-46d2-fbee-263cf139a05d"
      },
      "source": [
        "np.random.seed(5678) # 만들 때마다 반복해서 seed 고정\n",
        "np.random.randint(1,10,5)"
      ],
      "execution_count": 23,
      "outputs": [
        {
          "output_type": "execute_result",
          "data": {
            "text/plain": [
              "array([5, 8, 3, 5, 4])"
            ]
          },
          "metadata": {},
          "execution_count": 23
        }
      ]
    },
    {
      "cell_type": "code",
      "metadata": {
        "id": "Ik9a-QkcfLwy",
        "colab": {
          "base_uri": "https://localhost:8080/"
        },
        "outputId": "f4503e24-a7ee-4274-cdc7-eb0627d7e586"
      },
      "source": [
        "# seed 변경\n",
        "np.random.seed(0)\n",
        "np.random.randint(1,10,5)"
      ],
      "execution_count": 24,
      "outputs": [
        {
          "output_type": "execute_result",
          "data": {
            "text/plain": [
              "array([6, 1, 4, 4, 8])"
            ]
          },
          "metadata": {},
          "execution_count": 24
        }
      ]
    },
    {
      "cell_type": "markdown",
      "metadata": {
        "id": "Zg3g31drmDMI"
      },
      "source": [
        "---\n",
        "---"
      ]
    },
    {
      "cell_type": "markdown",
      "metadata": {
        "id": "YNVh_pbhfROq"
      },
      "source": [
        "## DIY: 도전 코딩 - numpy 정리 과제\n",
        "- 생성된 마구잡이수를 조사하고 사용하기 \n",
        "- 9월19일 자정 마감."
      ]
    },
    {
      "cell_type": "markdown",
      "metadata": {
        "id": "vxNHFDSIgMmC"
      },
      "source": [
        "### [도전 1.] 0부터 9까지의 마구잡이 정수를 1000개 만들고 각 수의 빈도를 구하시오. "
      ]
    },
    {
      "cell_type": "code",
      "metadata": {
        "id": "qkDfXH1xgjBz",
        "colab": {
          "base_uri": "https://localhost:8080/"
        },
        "outputId": "b5b01ff2-2955-4408-a8ac-95fc5879be81"
      },
      "source": [
        "# n1000=\n",
        "n1000 = np.random.randint(0,10,1000) #1차원 배열\n",
        "n1000"
      ],
      "execution_count": 25,
      "outputs": [
        {
          "output_type": "execute_result",
          "data": {
            "text/plain": [
              "array([9, 3, 5, 2, 4, 7, 6, 8, 8, 1, 6, 7, 7, 8, 1, 5, 9, 8, 9, 4, 3, 0,\n",
              "       3, 5, 0, 2, 3, 8, 1, 3, 3, 3, 7, 0, 1, 9, 9, 0, 4, 7, 3, 2, 7, 2,\n",
              "       0, 0, 4, 5, 5, 6, 8, 4, 1, 4, 9, 8, 1, 1, 7, 9, 9, 3, 6, 7, 2, 0,\n",
              "       3, 5, 9, 4, 4, 6, 4, 4, 3, 4, 4, 8, 4, 3, 7, 5, 5, 0, 1, 5, 9, 3,\n",
              "       0, 5, 0, 1, 2, 4, 2, 0, 3, 2, 0, 7, 5, 9, 0, 2, 7, 2, 9, 2, 3, 3,\n",
              "       2, 3, 4, 1, 2, 9, 1, 4, 6, 8, 2, 3, 0, 0, 6, 0, 6, 3, 3, 8, 8, 8,\n",
              "       2, 3, 2, 0, 8, 8, 3, 8, 2, 8, 4, 3, 0, 4, 3, 6, 9, 8, 0, 8, 5, 9,\n",
              "       0, 9, 6, 5, 3, 1, 8, 0, 4, 9, 6, 5, 7, 8, 8, 9, 2, 8, 6, 6, 9, 1,\n",
              "       6, 8, 8, 3, 2, 3, 6, 3, 6, 5, 7, 0, 8, 4, 6, 5, 8, 2, 3, 9, 7, 5,\n",
              "       3, 4, 5, 3, 3, 7, 9, 9, 9, 7, 3, 2, 3, 9, 7, 7, 5, 1, 2, 2, 8, 1,\n",
              "       5, 8, 4, 0, 2, 5, 5, 0, 8, 1, 1, 0, 3, 8, 8, 4, 4, 0, 9, 3, 7, 3,\n",
              "       2, 1, 1, 2, 1, 4, 2, 5, 5, 5, 2, 5, 7, 7, 6, 1, 6, 7, 2, 3, 1, 9,\n",
              "       5, 9, 9, 2, 0, 9, 1, 9, 0, 6, 0, 4, 8, 4, 3, 3, 8, 8, 7, 0, 3, 8,\n",
              "       7, 7, 1, 8, 4, 7, 0, 4, 9, 0, 6, 4, 2, 4, 6, 3, 3, 7, 8, 5, 0, 8,\n",
              "       5, 4, 7, 4, 1, 3, 3, 9, 2, 5, 2, 3, 5, 7, 2, 7, 1, 6, 5, 0, 0, 3,\n",
              "       1, 9, 9, 6, 6, 7, 8, 8, 7, 0, 8, 6, 8, 9, 8, 3, 6, 1, 7, 4, 9, 2,\n",
              "       0, 8, 2, 7, 8, 4, 4, 1, 7, 6, 9, 4, 1, 5, 9, 7, 1, 3, 5, 7, 3, 6,\n",
              "       6, 7, 9, 1, 9, 6, 0, 3, 8, 4, 1, 4, 5, 0, 3, 1, 4, 4, 4, 0, 0, 8,\n",
              "       4, 6, 9, 3, 3, 2, 1, 2, 1, 3, 4, 1, 1, 0, 7, 8, 4, 3, 5, 6, 3, 2,\n",
              "       9, 8, 1, 4, 0, 8, 3, 9, 5, 5, 1, 7, 8, 6, 4, 7, 3, 5, 3, 6, 4, 7,\n",
              "       3, 0, 5, 9, 3, 7, 5, 5, 8, 0, 8, 3, 6, 9, 3, 2, 7, 0, 3, 0, 3, 6,\n",
              "       1, 9, 2, 9, 4, 9, 1, 3, 2, 4, 9, 7, 4, 9, 4, 1, 2, 7, 2, 3, 9, 7,\n",
              "       6, 6, 2, 3, 6, 0, 8, 0, 7, 6, 5, 9, 6, 5, 2, 7, 1, 9, 2, 2, 5, 6,\n",
              "       4, 2, 2, 1, 0, 9, 0, 2, 8, 3, 0, 8, 8, 1, 0, 5, 8, 2, 3, 5, 3, 8,\n",
              "       6, 4, 6, 3, 6, 2, 6, 5, 5, 9, 4, 6, 5, 1, 3, 3, 8, 9, 5, 5, 6, 0,\n",
              "       9, 7, 5, 1, 5, 6, 6, 8, 7, 5, 3, 2, 9, 9, 3, 2, 5, 4, 1, 5, 8, 3,\n",
              "       5, 8, 4, 1, 7, 8, 1, 2, 1, 1, 7, 5, 0, 4, 1, 1, 6, 6, 0, 2, 3, 7,\n",
              "       9, 2, 4, 9, 0, 6, 9, 2, 4, 7, 3, 0, 5, 4, 0, 2, 3, 1, 7, 1, 3, 4,\n",
              "       1, 7, 4, 0, 2, 7, 4, 0, 2, 6, 9, 2, 4, 9, 9, 5, 4, 4, 9, 8, 1, 5,\n",
              "       7, 0, 1, 3, 9, 2, 8, 2, 4, 8, 2, 9, 8, 7, 8, 2, 3, 3, 6, 0, 3, 6,\n",
              "       3, 9, 6, 3, 2, 2, 2, 6, 4, 6, 0, 4, 9, 2, 1, 6, 1, 7, 5, 6, 1, 6,\n",
              "       6, 6, 6, 2, 5, 2, 2, 3, 2, 9, 3, 8, 5, 4, 5, 1, 5, 8, 2, 9, 9, 5,\n",
              "       6, 4, 0, 8, 5, 5, 5, 1, 0, 0, 0, 0, 0, 7, 6, 3, 5, 4, 3, 4, 5, 1,\n",
              "       3, 6, 7, 4, 0, 0, 7, 3, 3, 0, 0, 9, 4, 4, 5, 8, 8, 0, 1, 5, 9, 9,\n",
              "       6, 1, 4, 0, 4, 7, 7, 7, 6, 2, 6, 0, 2, 7, 7, 2, 6, 1, 3, 7, 0, 5,\n",
              "       4, 5, 5, 3, 8, 0, 1, 5, 4, 1, 5, 0, 6, 8, 8, 6, 3, 4, 4, 3, 6, 5,\n",
              "       9, 8, 1, 3, 8, 1, 5, 8, 0, 3, 7, 1, 7, 8, 0, 7, 5, 9, 9, 6, 8, 7,\n",
              "       5, 9, 1, 0, 0, 5, 6, 3, 6, 1, 7, 7, 0, 7, 6, 0, 4, 2, 7, 5, 2, 8,\n",
              "       5, 6, 6, 4, 1, 5, 4, 5, 5, 6, 3, 8, 1, 4, 2, 9, 7, 4, 1, 8, 2, 3,\n",
              "       3, 4, 1, 6, 2, 5, 4, 9, 1, 5, 9, 4, 5, 7, 4, 4, 2, 2, 1, 3, 0, 1,\n",
              "       9, 1, 6, 9, 8, 6, 3, 0, 7, 3, 2, 5, 9, 7, 3, 4, 7, 6, 7, 3, 6, 9,\n",
              "       3, 7, 1, 3, 7, 8, 8, 4, 5, 3, 6, 9, 6, 2, 9, 3, 5, 7, 9, 0, 7, 1,\n",
              "       2, 5, 0, 5, 8, 9, 8, 2, 5, 3, 1, 7, 3, 8, 5, 5, 1, 9, 7, 2, 1, 0,\n",
              "       1, 0, 1, 1, 6, 8, 8, 3, 2, 0, 7, 4, 6, 0, 5, 3, 3, 9, 4, 9, 0, 6,\n",
              "       5, 3, 0, 0, 1, 2, 0, 2, 2, 9, 6, 7, 8, 9, 8, 2, 4, 7, 7, 5, 7, 2,\n",
              "       4, 1, 1, 1, 7, 9, 0, 9, 0, 2])"
            ]
          },
          "metadata": {},
          "execution_count": 25
        }
      ]
    },
    {
      "cell_type": "code",
      "metadata": {
        "id": "9_6nzbQD3FZi",
        "colab": {
          "base_uri": "https://localhost:8080/"
        },
        "outputId": "c39115a9-82ea-4d59-ca98-0d54980b4fb1"
      },
      "source": [
        "np.unique(n1000) #unique함수: 목록 또는 범위에서 고유 값의 목록을 반환, 1000개 중 중복되지 않은 수들 뽑아내는 함수"
      ],
      "execution_count": 26,
      "outputs": [
        {
          "output_type": "execute_result",
          "data": {
            "text/plain": [
              "array([0, 1, 2, 3, 4, 5, 6, 7, 8, 9])"
            ]
          },
          "metadata": {},
          "execution_count": 26
        }
      ]
    },
    {
      "cell_type": "code",
      "metadata": {
        "id": "eiw9R1243Rzp",
        "colab": {
          "base_uri": "https://localhost:8080/"
        },
        "outputId": "eff4b1fa-81dc-4329-fdb6-1d68961959c8"
      },
      "source": [
        "# 각 수의 빈도\n",
        "import numpy as np\n",
        "value, count= np.unique(n1000, return_counts=True)\n",
        "print(value)\n",
        "print(\"각 수의 빈도:\" ,count)"
      ],
      "execution_count": 27,
      "outputs": [
        {
          "output_type": "stream",
          "name": "stdout",
          "text": [
            "[0 1 2 3 4 5 6 7 8 9]\n",
            "각 수의 빈도: [100  96  98 120  99 104  94  96  95  98]\n"
          ]
        }
      ]
    },
    {
      "cell_type": "markdown",
      "metadata": {
        "id": "cIhlY6-GghMN"
      },
      "source": [
        "### [도전 2.] 0부터 9까지의 마구잡이 정수를 1000개 만들고 각 수가 처음 출현하는 인덱스를 구하시오.\n",
        "> 0이 처음 나타날 때의 인덱스, 1이 처음 나타날 때의 인덱스, ... "
      ]
    },
    {
      "cell_type": "code",
      "metadata": {
        "colab": {
          "base_uri": "https://localhost:8080/"
        },
        "id": "KdQ1nMOC49wx",
        "outputId": "fb52c970-1c61-4f1a-f6d7-2ca9e4611a20"
      },
      "source": [
        "n1000[0], n1000[800]"
      ],
      "execution_count": 28,
      "outputs": [
        {
          "output_type": "execute_result",
          "data": {
            "text/plain": [
              "(9, 0)"
            ]
          },
          "metadata": {},
          "execution_count": 28
        }
      ]
    },
    {
      "cell_type": "code",
      "metadata": {
        "id": "oA1ec_RjgL3X",
        "colab": {
          "base_uri": "https://localhost:8080/"
        },
        "outputId": "c4cae30a-a15e-459d-b9e3-09eca01740fc"
      },
      "source": [
        "# 각 수가 처음 출현하는 인덱스\n",
        "import numpy as np\n",
        "value, index= np.unique(n1000, return_index=True)\n",
        "print(value)\n",
        "print(\"각 수가 처음 출현하는 인덱스: \",index)"
      ],
      "execution_count": 29,
      "outputs": [
        {
          "output_type": "stream",
          "name": "stdout",
          "text": [
            "[0 1 2 3 4 5 6 7 8 9]\n",
            "각 수가 처음 출현하는 인덱스:  [21  9  3  1  4  2  6  5  7  0]\n"
          ]
        }
      ]
    },
    {
      "cell_type": "code",
      "metadata": {
        "id": "45P_artWGUI6",
        "colab": {
          "base_uri": "https://localhost:8080/"
        },
        "outputId": "34b12451-5462-4d09-a342-c94f650219d8"
      },
      "source": [
        "# n1000[index] - 다시\n",
        "# for t in n1000:\n",
        "#   print(n1000[t])\n",
        "n1000[index]"
      ],
      "execution_count": 30,
      "outputs": [
        {
          "output_type": "execute_result",
          "data": {
            "text/plain": [
              "array([0, 1, 2, 3, 4, 5, 6, 7, 8, 9])"
            ]
          },
          "metadata": {},
          "execution_count": 30
        }
      ]
    },
    {
      "cell_type": "markdown",
      "metadata": {
        "id": "sadkRzWjgiTM"
      },
      "source": [
        "### [도전 3.] seed를 1234로 고정하고, 위의 도전1,2를 다시 해보시오. "
      ]
    },
    {
      "cell_type": "code",
      "metadata": {
        "colab": {
          "base_uri": "https://localhost:8080/"
        },
        "id": "lH-WS1AM5MP7",
        "outputId": "2d647b1e-a560-48ea-9096-d5f5f5267a72"
      },
      "source": [
        "n1000 = np.random.randint(0,10,1000)\n",
        "np.random.seed(1234)\n",
        "n1000 = np.random.randint(0,10,1000)\n",
        "n1000"
      ],
      "execution_count": 31,
      "outputs": [
        {
          "output_type": "execute_result",
          "data": {
            "text/plain": [
              "array([3, 6, 5, 4, 8, 9, 1, 7, 9, 6, 8, 0, 5, 0, 9, 6, 2, 0, 5, 2, 6, 3,\n",
              "       7, 0, 9, 0, 3, 2, 3, 1, 3, 1, 3, 7, 1, 7, 4, 0, 5, 1, 5, 9, 9, 4,\n",
              "       0, 9, 8, 8, 6, 8, 6, 3, 1, 2, 5, 2, 5, 6, 7, 4, 3, 5, 6, 4, 6, 2,\n",
              "       4, 2, 7, 9, 7, 7, 2, 9, 7, 4, 9, 0, 9, 2, 9, 1, 2, 9, 1, 5, 7, 4,\n",
              "       7, 7, 1, 4, 0, 5, 4, 9, 2, 9, 1, 3, 5, 9, 3, 0, 4, 4, 0, 6, 8, 4,\n",
              "       8, 1, 8, 9, 8, 2, 0, 2, 2, 3, 2, 9, 7, 4, 8, 1, 9, 2, 7, 4, 3, 2,\n",
              "       5, 5, 1, 0, 8, 4, 0, 0, 1, 0, 3, 9, 1, 9, 3, 7, 9, 3, 4, 4, 1, 1,\n",
              "       6, 2, 9, 8, 7, 8, 0, 8, 7, 9, 5, 6, 3, 9, 4, 7, 7, 1, 7, 2, 5, 2,\n",
              "       7, 2, 6, 8, 6, 1, 9, 3, 3, 4, 9, 7, 2, 8, 1, 9, 4, 3, 1, 0, 7, 8,\n",
              "       0, 9, 3, 9, 3, 9, 0, 5, 9, 2, 3, 1, 7, 1, 4, 7, 3, 8, 4, 5, 3, 8,\n",
              "       8, 8, 1, 3, 6, 8, 9, 1, 5, 8, 4, 1, 1, 1, 2, 3, 4, 2, 1, 9, 4, 0,\n",
              "       0, 2, 1, 2, 5, 9, 8, 8, 7, 5, 7, 0, 0, 6, 6, 1, 9, 4, 6, 7, 2, 0,\n",
              "       7, 0, 2, 8, 4, 8, 3, 2, 4, 7, 7, 0, 1, 1, 0, 0, 0, 1, 1, 9, 4, 9,\n",
              "       9, 5, 2, 4, 1, 0, 3, 5, 2, 3, 3, 5, 4, 5, 4, 0, 5, 6, 7, 3, 1, 5,\n",
              "       4, 5, 9, 1, 7, 6, 3, 3, 0, 0, 2, 3, 1, 6, 1, 3, 5, 6, 9, 2, 6, 6,\n",
              "       9, 7, 8, 9, 1, 3, 6, 6, 2, 2, 4, 9, 3, 8, 7, 5, 1, 3, 1, 3, 0, 2,\n",
              "       0, 3, 5, 2, 6, 6, 6, 4, 1, 0, 7, 4, 1, 8, 5, 9, 6, 2, 8, 7, 9, 7,\n",
              "       7, 3, 6, 5, 6, 8, 6, 5, 9, 1, 9, 2, 1, 9, 1, 5, 0, 2, 3, 8, 8, 1,\n",
              "       3, 7, 3, 5, 1, 5, 6, 9, 5, 0, 1, 3, 5, 8, 9, 9, 7, 8, 8, 9, 4, 4,\n",
              "       1, 5, 4, 6, 8, 7, 9, 4, 1, 7, 7, 0, 4, 6, 1, 9, 1, 1, 9, 0, 8, 1,\n",
              "       3, 7, 2, 8, 3, 2, 2, 3, 4, 1, 6, 3, 5, 2, 4, 2, 1, 3, 9, 7, 9, 7,\n",
              "       2, 5, 7, 5, 8, 5, 0, 4, 0, 9, 3, 1, 0, 0, 6, 4, 3, 4, 1, 8, 6, 8,\n",
              "       7, 1, 5, 7, 9, 1, 5, 6, 5, 1, 6, 0, 9, 2, 2, 1, 4, 9, 9, 6, 6, 2,\n",
              "       4, 1, 5, 5, 5, 5, 8, 6, 7, 2, 3, 9, 7, 2, 1, 1, 9, 6, 5, 9, 2, 1,\n",
              "       3, 8, 3, 8, 7, 3, 8, 0, 5, 0, 9, 9, 7, 4, 5, 6, 3, 8, 1, 7, 4, 1,\n",
              "       9, 2, 4, 3, 3, 9, 4, 2, 6, 0, 5, 4, 6, 6, 6, 3, 8, 8, 8, 5, 7, 9,\n",
              "       9, 0, 7, 8, 4, 6, 5, 7, 5, 9, 2, 6, 3, 0, 8, 1, 6, 0, 3, 7, 5, 0,\n",
              "       8, 9, 8, 5, 1, 9, 4, 6, 2, 6, 3, 3, 7, 3, 2, 8, 5, 2, 4, 8, 0, 5,\n",
              "       2, 3, 7, 2, 6, 1, 2, 4, 7, 2, 3, 5, 8, 4, 3, 5, 8, 0, 5, 3, 5, 3,\n",
              "       5, 6, 1, 1, 3, 1, 7, 3, 4, 1, 7, 0, 9, 8, 5, 9, 3, 8, 2, 3, 0, 9,\n",
              "       0, 4, 3, 4, 5, 0, 2, 7, 2, 8, 5, 3, 5, 0, 5, 9, 0, 6, 7, 2, 6, 6,\n",
              "       2, 2, 0, 1, 1, 3, 8, 3, 3, 2, 5, 9, 5, 4, 6, 9, 5, 9, 2, 5, 5, 6,\n",
              "       5, 7, 3, 0, 2, 3, 1, 9, 9, 8, 8, 0, 8, 6, 6, 1, 4, 3, 5, 5, 4, 9,\n",
              "       3, 8, 2, 3, 0, 6, 2, 8, 3, 3, 8, 2, 6, 2, 0, 3, 0, 3, 9, 0, 4, 2,\n",
              "       7, 1, 2, 2, 2, 1, 5, 9, 5, 3, 7, 1, 0, 1, 1, 8, 3, 5, 4, 4, 2, 4,\n",
              "       5, 6, 4, 2, 6, 1, 7, 6, 2, 3, 9, 4, 1, 4, 1, 0, 7, 3, 4, 5, 0, 8,\n",
              "       2, 2, 5, 4, 9, 5, 3, 3, 4, 6, 8, 4, 2, 2, 0, 6, 2, 8, 9, 2, 4, 3,\n",
              "       4, 4, 0, 8, 3, 4, 2, 9, 2, 8, 4, 0, 0, 6, 6, 7, 6, 7, 9, 3, 9, 7,\n",
              "       8, 2, 9, 1, 0, 6, 3, 8, 4, 9, 9, 6, 7, 9, 2, 3, 6, 4, 5, 8, 5, 9,\n",
              "       9, 7, 1, 0, 6, 3, 3, 4, 1, 8, 2, 8, 0, 3, 9, 0, 6, 6, 7, 7, 9, 2,\n",
              "       2, 1, 0, 9, 5, 0, 9, 7, 5, 3, 8, 2, 6, 4, 5, 6, 1, 9, 6, 3, 7, 0,\n",
              "       4, 9, 4, 4, 5, 1, 0, 9, 7, 0, 5, 3, 8, 9, 1, 7, 0, 9, 6, 8, 2, 1,\n",
              "       7, 5, 4, 0, 1, 1, 7, 8, 2, 7, 6, 9, 9, 2, 1, 1, 8, 9, 0, 7, 2, 4,\n",
              "       2, 9, 8, 1, 0, 1, 4, 4, 9, 9, 0, 1, 9, 9, 3, 1, 7, 2, 8, 4, 7, 4,\n",
              "       3, 2, 8, 4, 7, 7, 0, 1, 4, 6, 5, 5, 0, 5, 2, 0, 8, 3, 5, 7, 8, 4,\n",
              "       7, 6, 7, 7, 2, 7, 6, 0, 2, 6])"
            ]
          },
          "metadata": {},
          "execution_count": 31
        }
      ]
    },
    {
      "cell_type": "code",
      "metadata": {
        "id": "112YOpYGFNuA",
        "colab": {
          "base_uri": "https://localhost:8080/"
        },
        "outputId": "64ab47c6-b135-4be7-99fa-b40eec10c444"
      },
      "source": [
        "# 도전 1번\n",
        "import numpy as np\n",
        "value, count= np.unique(n1000, return_counts=True)\n",
        "print(value)\n",
        "print(\"각 수의 빈도:\" ,count)"
      ],
      "execution_count": 32,
      "outputs": [
        {
          "output_type": "stream",
          "name": "stdout",
          "text": [
            "[0 1 2 3 4 5 6 7 8 9]\n",
            "각 수의 빈도: [ 93 107 107 108  97  98  89  95  90 116]\n"
          ]
        }
      ]
    },
    {
      "cell_type": "code",
      "metadata": {
        "id": "Mu9fFazsFRzI",
        "colab": {
          "base_uri": "https://localhost:8080/"
        },
        "outputId": "9cfddf62-8ca1-4980-f7d1-d5afcb44d1d0"
      },
      "source": [
        "# 도전 2번\n",
        "import numpy as np\n",
        "value, index= np.unique(n1000, return_index=True)\n",
        "print(value)\n",
        "print(\"각 수가 처음 출현하는 인덱스: \",index)"
      ],
      "execution_count": 33,
      "outputs": [
        {
          "output_type": "stream",
          "name": "stdout",
          "text": [
            "[0 1 2 3 4 5 6 7 8 9]\n",
            "각 수가 처음 출현하는 인덱스:  [11  6 16  0  3  2  1  7  4  5]\n"
          ]
        }
      ]
    },
    {
      "cell_type": "markdown",
      "metadata": {
        "id": "zAGojAainnox"
      },
      "source": [
        "### [도전 4.] 0부터 999까지의 마구잡이 정수로 구성되는 28X28 이차원배열을 만드시오.\n",
        "- 시드를 고정 : np.random.seed(1234)\n",
        "1. 각 행의 최대값, 최소값을 구하시오.\n",
        "2. 배열 전체의 최대값, 최소값을 구하시오.\n",
        "3. 배열전체의 최대값, 최소값의 index를 각각 찾으시오."
      ]
    },
    {
      "cell_type": "code",
      "metadata": {
        "id": "BsPJqw3n5N_M",
        "colab": {
          "base_uri": "https://localhost:8080/"
        },
        "outputId": "50be7b40-303c-463b-a8a3-dc0fc32173d5"
      },
      "source": [
        "import numpy as np\n",
        "value, count= np.unique(n1000, return_counts=True)\n",
        "np.random.seed(1234)\n",
        "n1000 = np.random.randint(0,1000,28*28).reshape(28,28)\n",
        "n1000"
      ],
      "execution_count": 34,
      "outputs": [
        {
          "output_type": "execute_result",
          "data": {
            "text/plain": [
              "array([[815, 723, 294,  53, 204, 372, 664, 655, 689, 279, 233, 154,  30,\n",
              "        683, 158, 748, 892, 794, 374, 442, 120, 880, 476, 325, 336, 969,\n",
              "        383, 246],\n",
              "       [510, 431, 562, 752, 763,  76, 293, 802, 934, 506, 195, 743, 139,\n",
              "        640, 745, 843, 336,   3, 258, 275, 908, 961, 459, 371, 619, 465,\n",
              "         14, 243],\n",
              "       [455, 828, 490, 619, 942, 924,  81, 855, 781, 116, 608, 908, 197,\n",
              "        625, 991, 997, 671, 761, 601,  84,  45, 528,  41, 840, 440, 236,\n",
              "        838, 952],\n",
              "       [ 86, 940, 986, 979, 303, 689,  18, 597, 686, 482, 805, 365, 806,\n",
              "        135, 996, 707, 901, 750, 559, 244, 374, 687, 911, 546,  10, 284,\n",
              "          4,  82],\n",
              "       [103, 345, 311, 235, 334, 663, 434, 761, 574, 183, 340, 617, 256,\n",
              "        633, 354, 761, 346, 417, 882, 377, 497, 789, 967, 196, 119, 999,\n",
              "        465, 250],\n",
              "       [436, 448, 469, 372, 873, 626, 425,   1, 142, 771, 798, 396, 713,\n",
              "        877, 787,  26, 992,  68, 891, 996, 832, 150, 440, 980, 136, 684,\n",
              "        753, 920],\n",
              "       [990, 745, 527, 840, 898, 400, 619, 130, 754, 591, 195,  46, 482,\n",
              "        825, 439, 292, 600, 673, 377, 682, 514, 471, 365, 212, 291, 786,\n",
              "        332, 965],\n",
              "       [117, 593, 208, 520, 493,  75,  15, 788, 784, 448, 573, 881, 864,\n",
              "        638, 211, 313, 561, 318, 953, 211, 667, 343, 233, 931, 164, 596,\n",
              "        317, 540],\n",
              "       [257, 779, 702, 509, 657, 286, 806,  98, 921, 568, 487, 408,  12,\n",
              "        460, 864, 520, 303, 855, 793, 749, 789, 150, 429, 531,  41, 431,\n",
              "        932, 999],\n",
              "       [551, 913, 295, 955, 210, 379, 165,  98,  87, 550, 904, 694, 657,\n",
              "        553, 303, 659, 939, 940, 547, 938, 404, 794, 345, 107, 919, 642,\n",
              "        744, 577],\n",
              "       [729, 283, 974, 580, 987, 316, 874, 259, 209, 687, 957, 447,  32,\n",
              "        887, 909, 312,  48, 617, 314, 350, 931, 953, 316, 595, 505, 368,\n",
              "        757, 649],\n",
              "       [572, 178, 819, 433, 106, 711, 721, 260,   3, 127, 600, 558, 606,\n",
              "        509, 431, 575,  84,   5, 723, 380, 584, 840, 447, 696, 526, 337,\n",
              "        739, 316],\n",
              "       [358, 264,  41, 673, 837, 728, 575, 877, 628, 785, 513,   1, 130,\n",
              "        691, 333, 692, 114, 861, 654, 237, 943, 203, 193, 669, 521, 608,\n",
              "        336, 946],\n",
              "       [785,  31, 508, 863, 381, 970, 494, 907, 418, 565, 857, 472, 920,\n",
              "        478, 991, 439, 565,  23, 383, 186, 224, 784, 758, 774, 465, 462,\n",
              "        953, 132],\n",
              "       [814, 459, 390, 727, 402, 944, 935, 144, 994, 584, 174, 564, 424,\n",
              "        243, 941, 770, 700, 788, 615, 471, 458, 507, 844, 826, 384, 554,\n",
              "        913, 177],\n",
              "       [ 16, 944,  80, 849, 460, 863, 191, 561, 527, 665, 468, 873, 409,\n",
              "        325, 306, 110, 655, 852, 717,  46, 763, 529, 896, 707, 677,  82,\n",
              "        542, 666],\n",
              "       [316, 943, 963, 435, 933, 900, 549, 506, 875, 292, 592, 517, 822,\n",
              "        759, 730, 191, 211, 844, 140, 545,  85, 388, 101, 617, 433, 814,\n",
              "        695, 102],\n",
              "       [611, 787, 943, 364, 252, 810, 304, 763, 364,  90, 432,   2,  35,\n",
              "         46, 161, 508,  38, 737, 707, 430, 826, 933, 454, 162, 374, 198,\n",
              "        809, 922],\n",
              "       [ 10, 855, 280, 457, 524, 700, 257, 861, 179, 758, 134,  18, 946,\n",
              "        429, 548, 634, 857, 627, 814,  43, 973, 744,  55, 917, 542, 462,\n",
              "         97, 698],\n",
              "       [381, 291, 465, 563, 560, 734, 478, 898, 429, 575,   0, 223,  19,\n",
              "        517, 674, 922, 399, 134, 575, 635, 358, 102, 468, 657, 848, 343,\n",
              "        212, 810],\n",
              "       [ 26, 731, 481, 888, 606, 213, 238,  25, 172, 653, 557, 182, 715,\n",
              "        306, 862, 300,  88,  74, 332, 407, 105, 138, 599, 893, 567, 828,\n",
              "        211,  15],\n",
              "       [926, 710, 549, 566, 715,  79, 568,   6, 309, 457, 865, 745, 434,\n",
              "         74, 705, 302, 321, 261, 464, 130, 835, 447, 936, 152, 129, 253,\n",
              "        451, 231],\n",
              "       [  3, 621, 229, 510, 961, 997, 970, 620, 534, 857, 251, 269, 565,\n",
              "        303, 960, 268,  81, 531,  53, 861, 360,  41, 217, 215, 184, 136,\n",
              "        249, 526],\n",
              "       [756, 260, 988, 289,  53, 654, 475, 299, 796,  68, 710, 714, 856,\n",
              "        747, 263, 233, 559,  84, 383, 284, 273, 701, 391, 695, 448, 751,\n",
              "        884,  31],\n",
              "       [886, 698, 561, 251, 745, 476, 539, 353, 798,  43, 961, 729, 816,\n",
              "        792, 737,  15,   3,  26, 583, 338, 872, 943, 893, 847, 451, 562,\n",
              "        236, 370],\n",
              "       [179, 692, 177, 998, 941,  43, 707, 891, 623, 618, 773,  91, 254,\n",
              "        546, 332, 820, 594, 193, 947, 185, 327, 825, 983, 274, 773, 151,\n",
              "        781,  59],\n",
              "       [974, 666, 863, 661, 296, 997, 528, 372, 144, 249, 835, 609, 223,\n",
              "        720, 144, 604, 430, 502, 333, 452, 211, 532, 635, 751, 762, 747,\n",
              "        321, 184],\n",
              "       [ 54, 168, 647, 529,  79, 629, 939, 173, 877, 295, 569,  13, 897,\n",
              "        591, 748, 629, 390, 379, 149, 625, 966, 416, 249, 242, 732, 994,\n",
              "        812, 625]])"
            ]
          },
          "metadata": {},
          "execution_count": 34
        }
      ]
    },
    {
      "cell_type": "code",
      "metadata": {
        "id": "V_wToOoGSrjJ",
        "outputId": "bc60b900-2c27-4410-f5aa-27f08f373114",
        "colab": {
          "base_uri": "https://localhost:8080/"
        }
      },
      "source": [
        "# 각 행의 최대값, 최소값 구하기\n",
        "max = [np.max(n1000[i]) for i in range(28)]\n",
        "min = [np.min(n1000[i]) for i in range(28)]\n",
        "\n",
        "print(\"각 행의 최대값: \", max)\n",
        "print(\"각 행의 최소값: \", min)"
      ],
      "execution_count": 35,
      "outputs": [
        {
          "output_type": "stream",
          "name": "stdout",
          "text": [
            "각 행의 최대값:  [969, 961, 997, 996, 999, 996, 990, 953, 999, 955, 987, 840, 946, 991, 994, 944, 963, 943, 973, 922, 893, 936, 997, 988, 961, 998, 997, 994]\n",
            "각 행의 최소값:  [30, 3, 41, 4, 103, 1, 46, 15, 12, 87, 32, 3, 1, 23, 144, 16, 85, 2, 10, 0, 15, 6, 3, 31, 3, 43, 144, 13]\n"
          ]
        }
      ]
    },
    {
      "cell_type": "code",
      "metadata": {
        "id": "NNb55IdzUqm0",
        "outputId": "9955e1b0-58c7-4036-a892-04cf0ba066e2",
        "colab": {
          "base_uri": "https://localhost:8080/"
        }
      },
      "source": [
        "# 배열 전체의 최대값, 최소값 구하기\n",
        "max = np.max(n1000)\n",
        "min = np.min(n1000)\n",
        "\n",
        "print(\"배열 전체의 최대값: \", max)\n",
        "print(\"배열 전체의 최소값: \", min)"
      ],
      "execution_count": 36,
      "outputs": [
        {
          "output_type": "stream",
          "name": "stdout",
          "text": [
            "배열 전체의 최대값:  999\n",
            "배열 전체의 최소값:  0\n"
          ]
        }
      ]
    },
    {
      "cell_type": "code",
      "metadata": {
        "id": "UiG13VrnU9Xb",
        "outputId": "ee2b8fd9-a099-4d72-bc27-b959ba7ba0dd",
        "colab": {
          "base_uri": "https://localhost:8080/"
        }
      },
      "source": [
        "# 배열 전체의 최대값, 최소값의 인덱스 구하기\n",
        "import numpy as np\n",
        "maxindex = np.argmax(n1000)\n",
        "minindex = np.argmin(n1000)\n",
        "print(\"배열 전체의 최대값의 인덱스: \", maxindex)\n",
        "print(\"배열 전체의 최소값의 인덱스: \", minindex)"
      ],
      "execution_count": 42,
      "outputs": [
        {
          "output_type": "stream",
          "name": "stdout",
          "text": [
            "배열 전체의 최대값의 인덱스:  137\n",
            "배열 전체의 최소값의 인덱스:  542\n"
          ]
        }
      ]
    },
    {
      "cell_type": "code",
      "metadata": {
        "id": "VtVbf72kXDJX",
        "outputId": "edbfccca-b964-4471-f467-4805c2fd4c06",
        "colab": {
          "base_uri": "https://localhost:8080/"
        }
      },
      "source": [
        "# 배열 전체의 최대값, 최소값의 인덱스 구하기\n",
        "import numpy as np\n",
        "maxindex = np.where(n1000==max)\n",
        "minindex = np.where(n1000==min)\n",
        "print(\"배열 전체의 최대값의 인덱스: \", maxindex)\n",
        "print(\"배열 전체의 최소값의 인덱스: \", minindex)"
      ],
      "execution_count": 44,
      "outputs": [
        {
          "output_type": "stream",
          "name": "stdout",
          "text": [
            "배열 전체의 최대값의 인덱스:  (array([4, 8]), array([25, 27]))\n",
            "배열 전체의 최소값의 인덱스:  (array([19]), array([10]))\n"
          ]
        }
      ]
    },
    {
      "cell_type": "markdown",
      "metadata": {
        "id": "VoSu8rNOnwPU"
      },
      "source": [
        "---\n",
        "---"
      ]
    },
    {
      "cell_type": "markdown",
      "metadata": {
        "id": "ozoCcRquhg4p"
      },
      "source": [
        "## python graphics\n",
        "- matplotlib\n",
        "> import matplotlib.pyplot as plt"
      ]
    },
    {
      "cell_type": "markdown",
      "metadata": {
        "id": "h6yEJiGJ4Lbk"
      },
      "source": [
        "### 무작위수 분포 그려보기"
      ]
    },
    {
      "cell_type": "code",
      "metadata": {
        "id": "ngcwuNlfhrIQ"
      },
      "source": [
        "import matplotlib.pyplot as plt"
      ],
      "execution_count": null,
      "outputs": []
    },
    {
      "cell_type": "code",
      "metadata": {
        "id": "jr30IHxvJDuE",
        "colab": {
          "base_uri": "https://localhost:8080/",
          "height": 320
        },
        "outputId": "1f5b83fb-4398-416a-8af1-7939451b861c"
      },
      "source": [
        "plt.hist(n1000,label=range(0,10), color='red') #, bins=100) #bins: 나오는 수의 범위(1단위), 20이면 0.5단위, 사이일 때는 (흰색) 안 나타남, bins가 클수록 x축 세분화됨 // 균일분포 그래프\n",
        "# plt.show()"
      ],
      "execution_count": null,
      "outputs": [
        {
          "output_type": "execute_result",
          "data": {
            "text/plain": [
              "(array([ 93., 107., 107., 108.,  97.,  98.,  89.,  95.,  90., 116.]),\n",
              " array([0. , 0.9, 1.8, 2.7, 3.6, 4.5, 5.4, 6.3, 7.2, 8.1, 9. ]),\n",
              " <a list of 10 Patch objects>)"
            ]
          },
          "metadata": {},
          "execution_count": 67
        },
        {
          "output_type": "display_data",
          "data": {
            "image/png": "[encoded data removed]",
            "text/plain": [
              "<Figure size 432x288 with 1 Axes>"
            ]
          },
          "metadata": {
            "needs_background": "light"
          }
        }
      ]
    },
    {
      "cell_type": "markdown",
      "metadata": {
        "id": "b-JcgSU-Ktyz"
      },
      "source": [
        "### [도전] 균일분포와 정규분포를 비교하는 그림을 그리시오."
      ]
    },
    {
      "cell_type": "code",
      "metadata": {
        "id": "k0XaT2f9JGZy",
        "colab": {
          "base_uri": "https://localhost:8080/",
          "height": 373
        },
        "outputId": "9b0fd60b-0d64-43b6-ed39-93617a0d6ce5"
      },
      "source": [
        "plt.hist(np.random.rand(1000000)) #개수 늘릴수록 고르게 분포"
      ],
      "execution_count": null,
      "outputs": [
        {
          "output_type": "execute_result",
          "data": {
            "text/plain": [
              "(array([100085., 100309.,  99718.,  99430., 100406., 100042., 100131.,\n",
              "         99559.,  99869., 100451.]),\n",
              " array([5.82323220e-07, 1.00000428e-01, 2.00000273e-01, 3.00000119e-01,\n",
              "        3.99999964e-01, 4.99999810e-01, 5.99999655e-01, 6.99999500e-01,\n",
              "        7.99999346e-01, 8.99999191e-01, 9.99999037e-01]),\n",
              " <a list of 10 Patch objects>)"
            ]
          },
          "metadata": {},
          "execution_count": 79
        },
        {
          "output_type": "display_data",
          "data": {
            "image/png": "[encoded data removed]",
            "text/plain": [
              "<Figure size 432x288 with 1 Axes>"
            ]
          },
          "metadata": {
            "needs_background": "light"
          }
        }
      ]
    },
    {
      "cell_type": "code",
      "metadata": {
        "id": "T8SCqKVeMhBF",
        "colab": {
          "base_uri": "https://localhost:8080/",
          "height": 643
        },
        "outputId": "9f7f9819-e1a9-41d6-c22e-bc09b111d560"
      },
      "source": [
        "plt.hist(np.random.randn(100000),bins=50) #종형 , 개수 늘릴수록 더 종형에 가깝게"
      ],
      "execution_count": null,
      "outputs": [
        {
          "output_type": "execute_result",
          "data": {
            "text/plain": [
              "(array([1.000e+00, 0.000e+00, 2.000e+00, 1.000e+00, 5.000e+00, 1.500e+01,\n",
              "        1.600e+01, 3.600e+01, 6.100e+01, 1.110e+02, 1.810e+02, 2.740e+02,\n",
              "        4.130e+02, 6.220e+02, 9.090e+02, 1.329e+03, 1.788e+03, 2.319e+03,\n",
              "        3.033e+03, 3.765e+03, 4.533e+03, 5.274e+03, 5.816e+03, 6.380e+03,\n",
              "        6.794e+03, 6.915e+03, 6.891e+03, 6.628e+03, 6.388e+03, 5.785e+03,\n",
              "        5.089e+03, 4.337e+03, 3.550e+03, 2.877e+03, 2.221e+03, 1.743e+03,\n",
              "        1.289e+03, 9.130e+02, 6.190e+02, 3.910e+02, 2.830e+02, 1.540e+02,\n",
              "        1.200e+02, 5.400e+01, 3.400e+01, 2.100e+01, 1.000e+01, 6.000e+00,\n",
              "        3.000e+00, 1.000e+00]),\n",
              " array([-4.5566835 , -4.38103811, -4.20539272, -4.02974733, -3.85410194,\n",
              "        -3.67845654, -3.50281115, -3.32716576, -3.15152037, -2.97587498,\n",
              "        -2.80022959, -2.6245842 , -2.44893881, -2.27329342, -2.09764803,\n",
              "        -1.92200264, -1.74635725, -1.57071186, -1.39506647, -1.21942108,\n",
              "        -1.04377569, -0.8681303 , -0.69248491, -0.51683952, -0.34119413,\n",
              "        -0.16554874,  0.01009665,  0.18574204,  0.36138743,  0.53703282,\n",
              "         0.71267821,  0.8883236 ,  1.06396899,  1.23961438,  1.41525977,\n",
              "         1.59090517,  1.76655056,  1.94219595,  2.11784134,  2.29348673,\n",
              "         2.46913212,  2.64477751,  2.8204229 ,  2.99606829,  3.17171368,\n",
              "         3.34735907,  3.52300446,  3.69864985,  3.87429524,  4.04994063,\n",
              "         4.22558602]),\n",
              " <a list of 50 Patch objects>)"
            ]
          },
          "metadata": {},
          "execution_count": 80
        },
        {
          "output_type": "display_data",
          "data": {
            "image/png": "[encoded data removed]",
            "text/plain": [
              "<Figure size 432x288 with 1 Axes>"
            ]
          },
          "metadata": {
            "needs_background": "light"
          }
        }
      ]
    },
    {
      "cell_type": "markdown",
      "metadata": {
        "id": "LYthn3089aqD"
      },
      "source": [
        "## 보충 코드"
      ]
    },
    {
      "cell_type": "code",
      "metadata": {
        "id": "BUkVDXTJMkwc",
        "colab": {
          "base_uri": "https://localhost:8080/"
        },
        "outputId": "f32449d3-b61b-4166-c27f-379ac22455b7"
      },
      "source": [
        "n1000=np.random.randint(0,10,1000)\n",
        "n1000"
      ],
      "execution_count": null,
      "outputs": [
        {
          "output_type": "execute_result",
          "data": {
            "text/plain": [
              "array([0, 4, 1, 6, 3, 6, 2, 6, 0, 2, 1, 0, 2, 8, 0, 7, 4, 6, 0, 9, 4, 8,\n",
              "       0, 1, 6, 5, 5, 0, 8, 6, 0, 7, 7, 7, 8, 4, 8, 4, 6, 9, 5, 4, 1, 9,\n",
              "       5, 5, 8, 1, 6, 3, 7, 2, 8, 3, 8, 2, 5, 4, 5, 3, 6, 7, 7, 1, 8, 0,\n",
              "       9, 3, 8, 0, 5, 5, 3, 8, 4, 2, 1, 6, 1, 7, 5, 2, 3, 3, 7, 0, 6, 0,\n",
              "       4, 2, 0, 9, 0, 1, 7, 5, 7, 9, 3, 7, 5, 0, 2, 9, 1, 7, 5, 0, 9, 2,\n",
              "       2, 2, 0, 9, 8, 9, 7, 3, 2, 5, 0, 6, 9, 6, 6, 4, 1, 9, 9, 1, 1, 1,\n",
              "       1, 7, 0, 2, 1, 8, 1, 9, 6, 1, 1, 7, 5, 1, 1, 6, 4, 4, 5, 0, 1, 4,\n",
              "       5, 7, 6, 4, 7, 4, 3, 3, 5, 6, 1, 4, 5, 4, 8, 9, 8, 2, 7, 1, 8, 8,\n",
              "       3, 8, 7, 0, 8, 2, 9, 9, 4, 9, 0, 7, 4, 0, 5, 5, 6, 2, 9, 0, 3, 9,\n",
              "       5, 0, 3, 3, 9, 7, 2, 6, 8, 9, 3, 4, 8, 3, 2, 8, 9, 2, 7, 9, 9, 7,\n",
              "       5, 8, 7, 8, 0, 2, 0, 2, 9, 6, 5, 6, 9, 8, 1, 2, 4, 0, 2, 6, 8, 1,\n",
              "       5, 4, 7, 6, 4, 4, 8, 2, 6, 1, 2, 9, 1, 8, 5, 7, 6, 8, 2, 5, 6, 4,\n",
              "       5, 8, 5, 8, 4, 4, 0, 8, 9, 6, 1, 2, 3, 5, 0, 0, 9, 4, 8, 8, 3, 7,\n",
              "       6, 7, 4, 2, 5, 3, 4, 1, 5, 6, 2, 9, 8, 5, 0, 2, 8, 1, 4, 7, 4, 0,\n",
              "       3, 2, 7, 4, 0, 7, 9, 9, 5, 7, 6, 0, 9, 6, 7, 4, 5, 2, 9, 3, 0, 8,\n",
              "       2, 7, 8, 2, 5, 3, 7, 2, 2, 9, 1, 9, 1, 9, 7, 2, 5, 1, 4, 9, 6, 2,\n",
              "       2, 2, 0, 5, 3, 9, 0, 2, 7, 6, 8, 0, 0, 9, 6, 5, 9, 8, 2, 8, 8, 3,\n",
              "       4, 2, 5, 3, 1, 7, 0, 2, 2, 0, 1, 5, 7, 5, 7, 6, 7, 5, 2, 8, 5, 5,\n",
              "       0, 6, 2, 1, 7, 1, 1, 0, 7, 1, 7, 1, 2, 9, 0, 4, 8, 7, 4, 4, 3, 1,\n",
              "       9, 7, 4, 4, 5, 1, 8, 2, 5, 6, 9, 9, 6, 3, 4, 5, 9, 6, 8, 2, 1, 4,\n",
              "       5, 7, 0, 8, 0, 0, 6, 9, 6, 7, 7, 8, 1, 4, 1, 2, 1, 0, 8, 2, 8, 7,\n",
              "       8, 6, 4, 4, 5, 1, 8, 1, 4, 8, 2, 5, 5, 0, 6, 6, 4, 1, 0, 4, 7, 0,\n",
              "       0, 2, 6, 2, 6, 4, 4, 9, 7, 8, 6, 2, 0, 1, 8, 4, 8, 4, 7, 7, 4, 0,\n",
              "       3, 8, 7, 6, 4, 6, 2, 7, 5, 4, 5, 3, 5, 6, 7, 2, 1, 6, 4, 2, 9, 5,\n",
              "       8, 9, 5, 1, 9, 2, 2, 6, 8, 1, 1, 8, 1, 2, 1, 6, 3, 7, 4, 4, 9, 4,\n",
              "       4, 7, 2, 5, 3, 8, 9, 2, 0, 0, 8, 7, 2, 5, 6, 6, 1, 4, 9, 2, 3, 1,\n",
              "       0, 7, 6, 6, 0, 7, 0, 0, 0, 3, 8, 0, 2, 4, 4, 8, 0, 7, 7, 4, 8, 6,\n",
              "       8, 5, 4, 6, 8, 4, 1, 1, 7, 2, 7, 4, 2, 9, 7, 0, 0, 1, 0, 5, 0, 7,\n",
              "       1, 0, 7, 6, 7, 0, 7, 6, 2, 6, 6, 7, 8, 7, 5, 6, 1, 8, 9, 2, 1, 9,\n",
              "       7, 3, 6, 0, 8, 5, 9, 0, 3, 1, 0, 7, 7, 3, 1, 6, 6, 9, 9, 4, 6, 7,\n",
              "       7, 5, 8, 8, 0, 5, 7, 0, 6, 0, 6, 0, 9, 0, 9, 8, 0, 9, 0, 4, 7, 0,\n",
              "       9, 2, 7, 1, 4, 8, 0, 6, 6, 5, 7, 7, 5, 8, 3, 4, 9, 0, 7, 7, 3, 0,\n",
              "       2, 3, 6, 3, 8, 5, 2, 9, 7, 3, 7, 9, 9, 8, 3, 2, 0, 6, 8, 7, 2, 0,\n",
              "       7, 7, 8, 3, 8, 1, 5, 7, 7, 5, 9, 6, 2, 9, 5, 8, 1, 3, 1, 7, 6, 8,\n",
              "       0, 6, 5, 9, 9, 9, 5, 4, 3, 0, 4, 2, 9, 8, 3, 3, 6, 8, 7, 1, 4, 1,\n",
              "       8, 2, 4, 8, 3, 7, 9, 3, 9, 4, 4, 7, 0, 2, 8, 7, 4, 9, 3, 6, 7, 6,\n",
              "       9, 3, 3, 7, 7, 4, 6, 2, 9, 2, 8, 8, 0, 6, 3, 7, 6, 2, 0, 8, 2, 4,\n",
              "       6, 3, 8, 5, 7, 3, 6, 7, 9, 6, 2, 5, 5, 9, 0, 7, 2, 8, 5, 6, 7, 6,\n",
              "       1, 0, 5, 3, 2, 7, 1, 2, 6, 4, 7, 4, 7, 9, 2, 2, 2, 5, 0, 3, 0, 7,\n",
              "       8, 2, 8, 5, 9, 0, 3, 5, 0, 6, 7, 7, 9, 7, 5, 0, 5, 7, 6, 1, 1, 7,\n",
              "       0, 3, 0, 1, 3, 8, 5, 4, 3, 9, 1, 8, 2, 0, 7, 2, 3, 4, 5, 5, 9, 6,\n",
              "       2, 8, 8, 9, 5, 1, 7, 8, 3, 4, 1, 0, 3, 1, 2, 7, 3, 0, 1, 0, 1, 2,\n",
              "       7, 1, 5, 8, 7, 2, 2, 7, 6, 6, 7, 9, 6, 3, 6, 7, 7, 3, 7, 9, 4, 3,\n",
              "       4, 0, 8, 2, 6, 9, 3, 9, 3, 5, 0, 0, 8, 4, 9, 7, 8, 9, 3, 5, 8, 1,\n",
              "       0, 3, 7, 4, 0, 1, 5, 0, 5, 3, 7, 3, 1, 8, 1, 3, 4, 4, 6, 3, 1, 2,\n",
              "       3, 0, 1, 7, 7, 0, 3, 5, 1, 3])"
            ]
          },
          "metadata": {},
          "execution_count": 57
        }
      ]
    },
    {
      "cell_type": "code",
      "metadata": {
        "id": "xza_yV8nMshU"
      },
      "source": [
        "value, count= np.unique(n1000, return_counts=True) #return_counts=True: 2개의 값 튜플로 반환, 1)고유값 2)빈도\n",
        "#def unique(ar, return_index=False(인덱스 반환), return_inverse=False, return_counts=False, axis=None)"
      ],
      "execution_count": null,
      "outputs": []
    },
    {
      "cell_type": "code",
      "metadata": {
        "id": "al1pM1aK9Vk7",
        "colab": {
          "base_uri": "https://localhost:8080/"
        },
        "outputId": "3fc53470-25aa-4f0e-e9ed-f0a8258fb21b"
      },
      "source": [
        "value, count"
      ],
      "execution_count": null,
      "outputs": [
        {
          "output_type": "execute_result",
          "data": {
            "text/plain": [
              "(array([0, 1, 2, 3, 4, 5, 6, 7, 8, 9]),\n",
              " array([ 93, 107, 107, 108,  97,  98,  89,  95,  90, 116]))"
            ]
          },
          "metadata": {},
          "execution_count": 61
        }
      ]
    }
  ]
}