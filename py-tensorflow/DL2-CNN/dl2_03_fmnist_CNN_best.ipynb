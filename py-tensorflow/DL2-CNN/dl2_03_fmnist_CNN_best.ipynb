{
  "nbformat": 4,
  "nbformat_minor": 0,
  "metadata": {
    "accelerator": "GPU",
    "colab": {
      "name": "dl2-03-fmnist-CNN-best.ipynb",
      "provenance": [],
      "collapsed_sections": [],
      "include_colab_link": true
    },
    "interpreter": {
      "hash": "3834ce636a3ba6c6c2bd8b9b527c48eede78c367f849f6cce666ea7f1d26e2fb"
    },
    "kernelspec": {
      "display_name": "Python 3.8.5 64-bit ('base': conda)",
      "name": "python3"
    },
    "language_info": {
      "codemirror_mode": {
        "name": "ipython",
        "version": 3
      },
      "file_extension": ".py",
      "mimetype": "text/x-python",
      "name": "python",
      "nbconvert_exporter": "python",
      "pygments_lexer": "ipython3",
      "version": "3.8.5"
    }
  },
  "cells": [
    {
      "cell_type": "markdown",
      "metadata": {
        "id": "view-in-github",
        "colab_type": "text"
      },
      "source": [
        "<a href=\"https://colab.research.google.com/github/jiseon0516/pdm19/blob/main/py-tensorflow/DL2-CNN/dl2_03_fmnist_CNN_best.ipynb\" target=\"_parent\"><img src=\"https://colab.research.google.com/assets/colab-badge.svg\" alt=\"Open In Colab\"/></a>"
      ]
    },
    {
      "cell_type": "markdown",
      "metadata": {
        "id": "rswfCVLZ-QW0"
      },
      "source": [
        "# **CNN model of fmnist dataset**\n",
        "- Conv2D + FCN\n",
        "    * Conv2D : 2차원 합성곱 필터링 + 풀링(Pooling)\n",
        "    - > 2차원 필터로 영상을 대표하는 특징을 추출\n",
        "    * FCN : 1차원 완전연결신경망\n",
        "    - > Conv2D에서 추출된 대표 특징들을 이용하여 FCN으로 최종 학습 완료\n",
        "    \n",
        "\n",
        "***\n",
        "- ## Traget: Find the best model of fmnist dataset\n",
        "***\n",
        "\n",
        "![mnist_NN_2_layers](https://img1.daumcdn.net/thumb/R1280x0/?scode=mtistory2&fname=https%3A%2F%2Fblog.kakaocdn.net%2Fdn%2FdJp5Z6%2FbtqAPebnF3x%2FQCe5vVcskhmxe964bGz4iK%2Fimg.png)\n",
        "\n",
        "(source: https://img1.daumcdn.net/thumb/R1280x0/?scode=mtistory2&fname=https%3A%2F%2Fblog.kakaocdn.net%2Fdn%2FdJp5Z6%2FbtqAPebnF3x%2FQCe5vVcskhmxe964bGz4iK%2Fimg.png)"
      ]
    },
    {
      "cell_type": "markdown",
      "metadata": {
        "id": "ISueys4bNHd1"
      },
      "source": [
        "## dataset: fashion_mnist\n",
        "- (60000, 28, 28), train\n",
        "- (10000, 28, 28), test\n",
        "- 'grayscale' images of items of 10 types of clothings, such as shoes, t-shirts, dresses, and more.\n",
        "- class names\n",
        "> class_names = ['T-shirt/top', 'Trouser', 'Pullover', 'Dress', 'Coat', 'Sandal', 'Shirt', 'Sneaker', 'Bag', 'Ankle boot']\n",
        "\n",
        "- DL of fmnist\n",
        "> https://machinelearningmastery.com/how-to-develop-a-cnn-from-scratch-for-fashion-mnist-clothing-classification/\n"
      ]
    },
    {
      "cell_type": "markdown",
      "metadata": {
        "id": "1yhvkxS_HhpK"
      },
      "source": [
        "## Search the best model of C2F2\n",
        "- callback\n",
        "    - Early stopping\n",
        "    - model checkpoint"
      ]
    },
    {
      "cell_type": "code",
      "metadata": {
        "id": "8GgGzPXPVyfa",
        "colab": {
          "base_uri": "https://localhost:8080/"
        },
        "outputId": "296d73f1-7386-417f-fff5-e2237d32cd45"
      },
      "source": [
        "import numpy as np\n",
        "import tensorflow as tf\n",
        "from tensorflow import keras\n",
        "import pandas as pd\n",
        "import matplotlib.pyplot as plt\n",
        "# %matplotlib inline\n",
        "\n",
        "tf.random.set_seed(0)\n",
        "\n",
        "print(tf.__version__)"
      ],
      "execution_count": 1,
      "outputs": [
        {
          "output_type": "stream",
          "name": "stdout",
          "text": [
            "2.7.0\n"
          ]
        }
      ]
    },
    {
      "cell_type": "code",
      "metadata": {
        "id": "nMZqMpIvIlwf"
      },
      "source": [
        "# import TF2 submodules\n",
        "from tensorflow.keras import layers, models, callbacks"
      ],
      "execution_count": 2,
      "outputs": []
    },
    {
      "cell_type": "markdown",
      "metadata": {
        "id": "-0IOOUM14Jk1"
      },
      "source": [
        "## **데이터 로딩, 정규화**"
      ]
    },
    {
      "cell_type": "code",
      "metadata": {
        "id": "N1ogJ7I64Fz-",
        "colab": {
          "base_uri": "https://localhost:8080/"
        },
        "outputId": "4cc6cf95-3fcf-4dc4-fb8a-40400bce6966"
      },
      "source": [
        "from keras.datasets import fashion_mnist\n",
        "\n",
        "(X_train0, y_train0), (X_test0, y_test0) = fashion_mnist.load_data()\n",
        "\n",
        "# Reshape\n",
        "X_train = X_train0.reshape(60000,28,28,1)\n",
        "X_test = X_test0.reshape(10000,28,28,1)\n",
        "\n",
        "# Normalization\n",
        "X_train, X_test = X_train/255.0, X_test/255.0 # 정규화\n",
        "\n",
        "print(\"X_train={0}\".format(X_train.shape))\n",
        "print(\"y_train={0}\".format(y_train0.shape)) \n",
        "print(\"X_test={0}\".format(X_test.shape))\n",
        "print(\"y_test={0}\".format(y_test0.shape))"
      ],
      "execution_count": 3,
      "outputs": [
        {
          "output_type": "stream",
          "name": "stdout",
          "text": [
            "Downloading data from https://storage.googleapis.com/tensorflow/tf-keras-datasets/train-labels-idx1-ubyte.gz\n",
            "32768/29515 [=================================] - 0s 0us/step\n",
            "40960/29515 [=========================================] - 0s 0us/step\n",
            "Downloading data from https://storage.googleapis.com/tensorflow/tf-keras-datasets/train-images-idx3-ubyte.gz\n",
            "26427392/26421880 [==============================] - 0s 0us/step\n",
            "26435584/26421880 [==============================] - 0s 0us/step\n",
            "Downloading data from https://storage.googleapis.com/tensorflow/tf-keras-datasets/t10k-labels-idx1-ubyte.gz\n",
            "16384/5148 [===============================================================================================] - 0s 0us/step\n",
            "Downloading data from https://storage.googleapis.com/tensorflow/tf-keras-datasets/t10k-images-idx3-ubyte.gz\n",
            "4423680/4422102 [==============================] - 0s 0us/step\n",
            "4431872/4422102 [==============================] - 0s 0us/step\n",
            "X_train=(60000, 28, 28, 1)\n",
            "y_train=(60000,)\n",
            "X_test=(10000, 28, 28, 1)\n",
            "y_test=(10000,)\n"
          ]
        }
      ]
    },
    {
      "cell_type": "code",
      "metadata": {
        "id": "F46-QZqJHiQ6",
        "colab": {
          "base_uri": "https://localhost:8080/"
        },
        "outputId": "69d9239b-757f-4722-d717-938abb86b013"
      },
      "source": [
        "# One-Hot-Encoding\n",
        "# Use function to_categorical() to do One-Hot-Encoding\n",
        "# tf.keras.utils.to_categorical\n",
        "from tensorflow.keras.utils import to_categorical\n",
        "\n",
        "y_train = to_categorical(y_train0, 10)\n",
        "y_test = to_categorical(y_test0, 10)\n",
        "y_train.shape,y_test.shape"
      ],
      "execution_count": 4,
      "outputs": [
        {
          "output_type": "execute_result",
          "data": {
            "text/plain": [
              "((60000, 10), (10000, 10))"
            ]
          },
          "metadata": {},
          "execution_count": 4
        }
      ]
    },
    {
      "cell_type": "code",
      "metadata": {
        "id": "eZ3OfP5PkEkL",
        "colab": {
          "base_uri": "https://localhost:8080/"
        },
        "outputId": "8bb2ce58-226b-422f-e201-04e816680f4c"
      },
      "source": [
        "# y_train0.shape vs. y_train.shape\n",
        "y_train0.shape, y_train.shape"
      ],
      "execution_count": 5,
      "outputs": [
        {
          "output_type": "execute_result",
          "data": {
            "text/plain": [
              "((60000,), (60000, 10))"
            ]
          },
          "metadata": {},
          "execution_count": 5
        }
      ]
    },
    {
      "cell_type": "markdown",
      "metadata": {
        "id": "5z7SozStigmF"
      },
      "source": [
        "### Display fashions\n",
        "- one random fashion\n",
        "- 10 representative fashions"
      ]
    },
    {
      "cell_type": "code",
      "metadata": {
        "id": "IK7XT3XoirSL",
        "colab": {
          "base_uri": "https://localhost:8080/",
          "height": 286
        },
        "outputId": "5cca088e-d917-4d64-95f1-22147206fa46"
      },
      "source": [
        "# Code here!\n",
        "# display one random image from the training set:\n",
        "class_names =  ['T-shirt/top', 'Trouser', 'Pullover', 'Dress', 'Coat', 'Sandal', 'Shirt', 'Sneaker', 'Bag', 'Ankle boot']\n",
        "\n",
        "idx = np.random.randint(0, X_train0.shape[0])\n",
        "print(idx)\n",
        "image = X_train0[idx]\n",
        "plt.imshow(image) #, cmap=plt.get_cmap('gray'))\n",
        "plt.title(class_names[y_train0[idx]])\n",
        "plt.xticks([])\n",
        "plt.yticks([])\n",
        "plt.show()"
      ],
      "execution_count": 6,
      "outputs": [
        {
          "output_type": "stream",
          "name": "stdout",
          "text": [
            "37626\n"
          ]
        },
        {
          "output_type": "display_data",
          "data": {
            "image/png": "[encoded data removed]",
            "text/plain": [
              "<Figure size 432x288 with 1 Axes>"
            ]
          },
          "metadata": {}
        }
      ]
    },
    {
      "cell_type": "code",
      "metadata": {
        "id": "LzhD5pcukau7",
        "colab": {
          "base_uri": "https://localhost:8080/",
          "height": 325
        },
        "outputId": "68283fa2-402e-4325-9855-5f0558738dd4"
      },
      "source": [
        "#대표 그림 10개 확인\n",
        "fig = plt.figure(figsize=(10,6))\n",
        "for i in range(10):\n",
        "    plt.subplot(2, 5, i+1)\n",
        "    num0_9 = X_train0[y_train0 == i]\n",
        "    # print(num0_9.shape)\n",
        "    plt.imshow(num0_9[0]) #, cmap='gray') #, interpolation='none')\n",
        "    plt.title(class_names[i])\n",
        "    plt.xticks([])\n",
        "    plt.yticks([])"
      ],
      "execution_count": 7,
      "outputs": [
        {
          "output_type": "display_data",
          "data": {
            "image/png": "[encoded data removed]",
            "text/plain": [
              "<Figure size 720x432 with 10 Axes>"
            ]
          },
          "metadata": {}
        }
      ]
    },
    {
      "cell_type": "markdown",
      "metadata": {
        "id": "55DYVfFXi0WR"
      },
      "source": [
        "# Design CNN"
      ]
    },
    {
      "cell_type": "markdown",
      "metadata": {
        "id": "iPcLIcUCcsiG"
      },
      "source": [
        "### import models, layers, callbacks\n",
        "- models: Sequential\n",
        "- layers: Conv2D, MaxPool2D, Flatten\n",
        "- callbacks: ModelCheckpoint, EarlyStopping"
      ]
    },
    {
      "cell_type": "code",
      "metadata": {
        "id": "NzqMC4Xtc3ZE"
      },
      "source": [
        "from keras.models import Sequential\n",
        "from keras.layers import Conv2D, MaxPool2D, Flatten\n",
        "from keras.callbacks import ModelCheckpoint, EarlyStopping"
      ],
      "execution_count": 8,
      "outputs": []
    },
    {
      "cell_type": "markdown",
      "metadata": {
        "id": "7Z6DJJUCei-s"
      },
      "source": [
        "## **CNN2 + FCN2**"
      ]
    },
    {
      "cell_type": "code",
      "metadata": {
        "id": "cSFVjVngsELo"
      },
      "source": [
        "# Random number seed\n",
        "np.random.seed(1234)\n",
        "tf.random.set_seed(1234)"
      ],
      "execution_count": 9,
      "outputs": []
    },
    {
      "cell_type": "code",
      "metadata": {
        "id": "pV3NFglM7P65"
      },
      "source": [
        "c2f2 = keras.models.Sequential([ \n",
        "    Conv2D(input_shape=(28,28,1), filters= 64, \n",
        "                kernel_size=(3,3),strides=(1,1),padding='same',activation='relu'),\n",
        "    MaxPool2D(pool_size=(2,2), strides=(2,2)), \n",
        "    Conv2D(filters= 32, \n",
        "                kernel_size=(3,3),strides=(1,1),padding='same',activation='relu'),\n",
        "    MaxPool2D(pool_size=(2,2), strides=(2,2)),\n",
        "    Flatten(), \n",
        "    keras.layers.Dense(128, activation='relu'),  \n",
        "    keras.layers.Dropout(0.25), \n",
        "    keras.layers.Dense(10, activation='softmax')\n",
        "])\n",
        "\n",
        "c2f2.compile(optimizer='adam',\n",
        "              loss='categorical_crossentropy',\n",
        "              metrics=['accuracy']) "
      ],
      "execution_count": 10,
      "outputs": []
    },
    {
      "cell_type": "code",
      "metadata": {
        "id": "OGtCiKy57YkR",
        "colab": {
          "base_uri": "https://localhost:8080/"
        },
        "outputId": "c10c3694-2eb5-430f-da57-cf08aa0094b0"
      },
      "source": [
        "c2f2.summary()"
      ],
      "execution_count": 11,
      "outputs": [
        {
          "output_type": "stream",
          "name": "stdout",
          "text": [
            "Model: \"sequential\"\n",
            "_________________________________________________________________\n",
            " Layer (type)                Output Shape              Param #   \n",
            "=================================================================\n",
            " conv2d (Conv2D)             (None, 28, 28, 64)        640       \n",
            "                                                                 \n",
            " max_pooling2d (MaxPooling2D  (None, 14, 14, 64)       0         \n",
            " )                                                               \n",
            "                                                                 \n",
            " conv2d_1 (Conv2D)           (None, 14, 14, 32)        18464     \n",
            "                                                                 \n",
            " max_pooling2d_1 (MaxPooling  (None, 7, 7, 32)         0         \n",
            " 2D)                                                             \n",
            "                                                                 \n",
            " flatten (Flatten)           (None, 1568)              0         \n",
            "                                                                 \n",
            " dense (Dense)               (None, 128)               200832    \n",
            "                                                                 \n",
            " dropout (Dropout)           (None, 128)               0         \n",
            "                                                                 \n",
            " dense_1 (Dense)             (None, 10)                1290      \n",
            "                                                                 \n",
            "=================================================================\n",
            "Total params: 221,226\n",
            "Trainable params: 221,226\n",
            "Non-trainable params: 0\n",
            "_________________________________________________________________\n"
          ]
        }
      ]
    },
    {
      "cell_type": "code",
      "metadata": {
        "id": "zw_pQPBdJmU8"
      },
      "source": [
        "mc_callback = callbacks.ModelCheckpoint(filepath=\"./fmnist_c2f2_best_weights.{epoch:03d}-{val_accuracy:.4f}.hdf5\", \n",
        "                              monitor='val_accuracy', verbose=0, save_best_only=True)\n",
        "es_callback = callbacks.EarlyStopping(monitor='val_accuracy', \n",
        "                            mode='max', verbose=1, patience=5)    # patience=5, 10, 20, 50"
      ],
      "execution_count": 12,
      "outputs": []
    },
    {
      "cell_type": "code",
      "metadata": {
        "id": "94GWWQt-7eRS",
        "colab": {
          "base_uri": "https://localhost:8080/"
        },
        "outputId": "51ff1175-751c-44e3-85af-f4a80beb2f14"
      },
      "source": [
        "hist = c2f2.fit(X_train, y_train, epochs = 500 , batch_size =100, \n",
        "         callbacks=[mc_callback, es_callback], \n",
        "         validation_data=(X_test,y_test)) #0.9253보다 큰 수가 5번 안나오면 종료"
      ],
      "execution_count": 13,
      "outputs": [
        {
          "output_type": "stream",
          "name": "stdout",
          "text": [
            "Epoch 1/500\n",
            "600/600 [==============================] - 15s 10ms/step - loss: 0.5299 - accuracy: 0.8091 - val_loss: 0.3611 - val_accuracy: 0.8696\n",
            "Epoch 2/500\n",
            "600/600 [==============================] - 6s 10ms/step - loss: 0.3424 - accuracy: 0.8769 - val_loss: 0.3095 - val_accuracy: 0.8844\n",
            "Epoch 3/500\n",
            "600/600 [==============================] - 6s 10ms/step - loss: 0.2929 - accuracy: 0.8936 - val_loss: 0.2903 - val_accuracy: 0.8951\n",
            "Epoch 4/500\n",
            "600/600 [==============================] - 6s 10ms/step - loss: 0.2636 - accuracy: 0.9021 - val_loss: 0.2640 - val_accuracy: 0.9012\n",
            "Epoch 5/500\n",
            "600/600 [==============================] - 6s 10ms/step - loss: 0.2412 - accuracy: 0.9122 - val_loss: 0.2668 - val_accuracy: 0.9020\n",
            "Epoch 6/500\n",
            "600/600 [==============================] - 6s 9ms/step - loss: 0.2235 - accuracy: 0.9182 - val_loss: 0.2593 - val_accuracy: 0.9014\n",
            "Epoch 7/500\n",
            "600/600 [==============================] - 6s 10ms/step - loss: 0.2066 - accuracy: 0.9236 - val_loss: 0.2411 - val_accuracy: 0.9129\n",
            "Epoch 8/500\n",
            "600/600 [==============================] - 6s 10ms/step - loss: 0.1928 - accuracy: 0.9282 - val_loss: 0.2374 - val_accuracy: 0.9149\n",
            "Epoch 9/500\n",
            "600/600 [==============================] - 6s 9ms/step - loss: 0.1785 - accuracy: 0.9331 - val_loss: 0.2333 - val_accuracy: 0.9145\n",
            "Epoch 10/500\n",
            "600/600 [==============================] - 6s 10ms/step - loss: 0.1664 - accuracy: 0.9375 - val_loss: 0.2318 - val_accuracy: 0.9161\n",
            "Epoch 11/500\n",
            "600/600 [==============================] - 6s 10ms/step - loss: 0.1571 - accuracy: 0.9407 - val_loss: 0.2319 - val_accuracy: 0.9175\n",
            "Epoch 12/500\n",
            "600/600 [==============================] - 6s 10ms/step - loss: 0.1452 - accuracy: 0.9448 - val_loss: 0.2466 - val_accuracy: 0.9159\n",
            "Epoch 13/500\n",
            "600/600 [==============================] - 6s 10ms/step - loss: 0.1381 - accuracy: 0.9484 - val_loss: 0.2335 - val_accuracy: 0.9213\n",
            "Epoch 14/500\n",
            "600/600 [==============================] - 6s 10ms/step - loss: 0.1256 - accuracy: 0.9532 - val_loss: 0.2431 - val_accuracy: 0.9243\n",
            "Epoch 15/500\n",
            "600/600 [==============================] - 6s 10ms/step - loss: 0.1155 - accuracy: 0.9558 - val_loss: 0.2355 - val_accuracy: 0.9229\n",
            "Epoch 16/500\n",
            "600/600 [==============================] - 6s 10ms/step - loss: 0.1128 - accuracy: 0.9577 - val_loss: 0.2530 - val_accuracy: 0.9232\n",
            "Epoch 17/500\n",
            "600/600 [==============================] - 6s 9ms/step - loss: 0.1045 - accuracy: 0.9599 - val_loss: 0.2490 - val_accuracy: 0.9223\n",
            "Epoch 18/500\n",
            "600/600 [==============================] - 6s 10ms/step - loss: 0.0982 - accuracy: 0.9625 - val_loss: 0.2560 - val_accuracy: 0.9242\n",
            "Epoch 19/500\n",
            "600/600 [==============================] - 6s 10ms/step - loss: 0.0926 - accuracy: 0.9638 - val_loss: 0.2617 - val_accuracy: 0.9254\n",
            "Epoch 20/500\n",
            "600/600 [==============================] - 6s 9ms/step - loss: 0.0855 - accuracy: 0.9675 - val_loss: 0.2860 - val_accuracy: 0.9185\n",
            "Epoch 21/500\n",
            "600/600 [==============================] - 6s 10ms/step - loss: 0.0836 - accuracy: 0.9683 - val_loss: 0.2781 - val_accuracy: 0.9209\n",
            "Epoch 22/500\n",
            "600/600 [==============================] - 6s 10ms/step - loss: 0.0796 - accuracy: 0.9702 - val_loss: 0.2779 - val_accuracy: 0.9242\n",
            "Epoch 23/500\n",
            "600/600 [==============================] - 6s 10ms/step - loss: 0.0739 - accuracy: 0.9710 - val_loss: 0.3017 - val_accuracy: 0.9229\n",
            "Epoch 24/500\n",
            "600/600 [==============================] - 6s 10ms/step - loss: 0.0711 - accuracy: 0.9732 - val_loss: 0.3139 - val_accuracy: 0.9238\n",
            "Epoch 00024: early stopping\n"
          ]
        }
      ]
    },
    {
      "cell_type": "code",
      "metadata": {
        "id": "0-7is2U49A6Z",
        "colab": {
          "base_uri": "https://localhost:8080/"
        },
        "outputId": "d96e88a8-3eb9-489f-edb7-1934d4238470"
      },
      "source": [
        "c2f2.evaluate(X_test, y_test, batch_size =100) #최고 정확도: 0.9253"
      ],
      "execution_count": 14,
      "outputs": [
        {
          "output_type": "stream",
          "name": "stdout",
          "text": [
            "100/100 [==============================] - 1s 6ms/step - loss: 0.3139 - accuracy: 0.9238\n"
          ]
        },
        {
          "output_type": "execute_result",
          "data": {
            "text/plain": [
              "[0.313938707113266, 0.923799991607666]"
            ]
          },
          "metadata": {},
          "execution_count": 14
        }
      ]
    },
    {
      "cell_type": "markdown",
      "metadata": {
        "id": "3Ub3qGnjs4EI"
      },
      "source": [
        "## Graph of loss and accuracy\n",
        "- model: C2F2"
      ]
    },
    {
      "cell_type": "code",
      "metadata": {
        "colab": {
          "base_uri": "https://localhost:8080/",
          "height": 295
        },
        "id": "x9EQ2Z_c2gYL",
        "outputId": "dabf0bad-dbcd-43fb-8ea2-2f0209300f71"
      },
      "source": [
        "# More graphs of loss and accuracy\n",
        "history_dict = hist.history\n",
        "loss = history_dict['loss']\n",
        "val_loss = history_dict['val_loss']\n",
        "\n",
        "epochs = range(1, len(loss) + 1)\n",
        "\n",
        "plt.figure(figsize=(14, 4))\n",
        "\n",
        "plt.subplot(1,2,1)\n",
        "plt.plot(epochs, loss, 'go-', label='Training Loss')\n",
        "plt.plot(epochs, val_loss, 'bd', label='Validation Loss')\n",
        "plt.plot(np.argmin(np.array(val_loss))+1,val_loss[np.argmin(np.array(val_loss))], 'r*', ms=12)\n",
        "plt.title('Training and Validation Loss, min: ' + str(np.round(val_loss[np.argmin(np.array(val_loss))],2)))\n",
        "plt.xlabel('Epochs')\n",
        "plt.ylabel('Loss')\n",
        "plt.legend()\n",
        "\n",
        "acc = history_dict['accuracy']\n",
        "val_acc = history_dict['val_accuracy']\n",
        "\n",
        "epochs = range(1, len(loss) + 1)\n",
        "\n",
        "plt.subplot(1,2,2)\n",
        "plt.plot(epochs, acc, 'go-', label='Training Accuracy') #, c='blue')\n",
        "plt.plot(epochs, val_acc, 'bd', label='Validation Accuracy') #, c='red')\n",
        "plt.plot(np.argmax(np.array(val_acc))+1,val_acc[np.argmax(np.array(val_acc))], 'r*', ms=12)\n",
        "plt.title('Training and Validation Accuracy, max: ' + str(np.round(val_acc[np.argmax(np.array(val_acc))],4)))\n",
        "plt.xlabel('Epochs')\n",
        "plt.ylabel('Accuracy')\n",
        "plt.legend()\n",
        "plt.show()"
      ],
      "execution_count": 15,
      "outputs": [
        {
          "output_type": "display_data",
          "data": {
            "image/png": "[encoded data removed]",
            "text/plain": [
              "<Figure size 1008x288 with 2 Axes>"
            ]
          },
          "metadata": {
            "needs_background": "light"
          }
        }
      ]
    },
    {
      "cell_type": "markdown",
      "metadata": {
        "id": "SUJxRQtafihM"
      },
      "source": [
        "## **CNN2 + FCN3**"
      ]
    },
    {
      "cell_type": "code",
      "metadata": {
        "id": "7cHrK78WsELt"
      },
      "source": [
        "# Random number seed\n",
        "np.random.seed(1234)\n",
        "tf.random.set_seed(1234)"
      ],
      "execution_count": 16,
      "outputs": []
    },
    {
      "cell_type": "code",
      "metadata": {
        "id": "Nl5CyAymAB34"
      },
      "source": [
        "c2f3 = keras.models.Sequential([ \n",
        "    Conv2D(input_shape=(28,28,1),filters= 64, kernel_size=(3,3),strides=(1,1),padding='same',activation='relu'),\n",
        "    MaxPool2D(pool_size=(2,2), strides=(2,2)), \n",
        "    Conv2D(filters= 32, kernel_size=(3,3),strides=(1,1),padding='same',activation='relu'),\n",
        "    MaxPool2D(pool_size=(2,2), strides=(2,2)),\n",
        "    Flatten(), \n",
        "    keras.layers.Dense(128, activation='relu'),  \n",
        "    keras.layers.Dropout(0.25), \n",
        "    keras.layers.Dense(64, activation='relu'),  \n",
        "    keras.layers.Dropout(0.25), \n",
        "    keras.layers.Dense(10, activation='softmax')\n",
        "])\n",
        "\n",
        "c2f3.compile(optimizer='adam',\n",
        "              loss='categorical_crossentropy',\n",
        "              metrics=['accuracy']) "
      ],
      "execution_count": 17,
      "outputs": []
    },
    {
      "cell_type": "code",
      "metadata": {
        "id": "gYxuGW_2ANL8",
        "colab": {
          "base_uri": "https://localhost:8080/"
        },
        "outputId": "c4728fd7-fabe-41f8-b432-fb86c949ebcb"
      },
      "source": [
        "c2f3.summary()"
      ],
      "execution_count": 18,
      "outputs": [
        {
          "output_type": "stream",
          "name": "stdout",
          "text": [
            "Model: \"sequential_1\"\n",
            "_________________________________________________________________\n",
            " Layer (type)                Output Shape              Param #   \n",
            "=================================================================\n",
            " conv2d_2 (Conv2D)           (None, 28, 28, 64)        640       \n",
            "                                                                 \n",
            " max_pooling2d_2 (MaxPooling  (None, 14, 14, 64)       0         \n",
            " 2D)                                                             \n",
            "                                                                 \n",
            " conv2d_3 (Conv2D)           (None, 14, 14, 32)        18464     \n",
            "                                                                 \n",
            " max_pooling2d_3 (MaxPooling  (None, 7, 7, 32)         0         \n",
            " 2D)                                                             \n",
            "                                                                 \n",
            " flatten_1 (Flatten)         (None, 1568)              0         \n",
            "                                                                 \n",
            " dense_2 (Dense)             (None, 128)               200832    \n",
            "                                                                 \n",
            " dropout_1 (Dropout)         (None, 128)               0         \n",
            "                                                                 \n",
            " dense_3 (Dense)             (None, 64)                8256      \n",
            "                                                                 \n",
            " dropout_2 (Dropout)         (None, 64)                0         \n",
            "                                                                 \n",
            " dense_4 (Dense)             (None, 10)                650       \n",
            "                                                                 \n",
            "=================================================================\n",
            "Total params: 228,842\n",
            "Trainable params: 228,842\n",
            "Non-trainable params: 0\n",
            "_________________________________________________________________\n"
          ]
        }
      ]
    },
    {
      "cell_type": "code",
      "metadata": {
        "id": "KMsTuhO2x61z"
      },
      "source": [
        "mc_callback = callbacks.ModelCheckpoint(filepath=\"./fmnist_c2f3_best_weights.{epoch:03d}-{val_accuracy:.4f}.hdf5\", \n",
        "                              monitor='val_accuracy', verbose=0, save_best_only=True) #저장\n",
        "es_callback = callbacks.EarlyStopping(monitor='val_accuracy', \n",
        "                            mode='max', verbose=1, patience=5)    # patience=5, 10, 20, 50"
      ],
      "execution_count": 19,
      "outputs": []
    },
    {
      "cell_type": "code",
      "metadata": {
        "id": "lO1of4AOAQlV",
        "colab": {
          "base_uri": "https://localhost:8080/"
        },
        "outputId": "0c3b2e9e-e361-43a0-b7e0-829e21832756"
      },
      "source": [
        "hist = c2f3.fit(X_train, y_train, epochs=500, batch_size =100, \n",
        "         callbacks=[mc_callback, es_callback], \n",
        "         validation_data=(X_test,y_test))"
      ],
      "execution_count": 20,
      "outputs": [
        {
          "output_type": "stream",
          "name": "stdout",
          "text": [
            "Epoch 1/500\n",
            "600/600 [==============================] - 7s 11ms/step - loss: 0.6230 - accuracy: 0.7723 - val_loss: 0.3834 - val_accuracy: 0.8608\n",
            "Epoch 2/500\n",
            "600/600 [==============================] - 6s 10ms/step - loss: 0.3811 - accuracy: 0.8645 - val_loss: 0.3216 - val_accuracy: 0.8809\n",
            "Epoch 3/500\n",
            "600/600 [==============================] - 6s 10ms/step - loss: 0.3211 - accuracy: 0.8850 - val_loss: 0.2882 - val_accuracy: 0.8977\n",
            "Epoch 4/500\n",
            "600/600 [==============================] - 6s 10ms/step - loss: 0.2896 - accuracy: 0.8966 - val_loss: 0.2685 - val_accuracy: 0.9020\n",
            "Epoch 5/500\n",
            "600/600 [==============================] - 6s 10ms/step - loss: 0.2656 - accuracy: 0.9040 - val_loss: 0.2777 - val_accuracy: 0.9012\n",
            "Epoch 6/500\n",
            "600/600 [==============================] - 6s 10ms/step - loss: 0.2456 - accuracy: 0.9121 - val_loss: 0.2552 - val_accuracy: 0.9070\n",
            "Epoch 7/500\n",
            "600/600 [==============================] - 6s 10ms/step - loss: 0.2288 - accuracy: 0.9175 - val_loss: 0.2538 - val_accuracy: 0.9098\n",
            "Epoch 8/500\n",
            "600/600 [==============================] - 6s 10ms/step - loss: 0.2166 - accuracy: 0.9212 - val_loss: 0.2522 - val_accuracy: 0.9097\n",
            "Epoch 9/500\n",
            "600/600 [==============================] - 6s 10ms/step - loss: 0.2027 - accuracy: 0.9264 - val_loss: 0.2400 - val_accuracy: 0.9129\n",
            "Epoch 10/500\n",
            "600/600 [==============================] - 6s 10ms/step - loss: 0.1898 - accuracy: 0.9297 - val_loss: 0.2352 - val_accuracy: 0.9161\n",
            "Epoch 11/500\n",
            "600/600 [==============================] - 6s 10ms/step - loss: 0.1796 - accuracy: 0.9349 - val_loss: 0.2351 - val_accuracy: 0.9159\n",
            "Epoch 12/500\n",
            "600/600 [==============================] - 6s 10ms/step - loss: 0.1732 - accuracy: 0.9356 - val_loss: 0.2529 - val_accuracy: 0.9105\n",
            "Epoch 13/500\n",
            "600/600 [==============================] - 6s 10ms/step - loss: 0.1631 - accuracy: 0.9403 - val_loss: 0.2535 - val_accuracy: 0.9161\n",
            "Epoch 14/500\n",
            "600/600 [==============================] - 6s 10ms/step - loss: 0.1555 - accuracy: 0.9430 - val_loss: 0.2360 - val_accuracy: 0.9199\n",
            "Epoch 15/500\n",
            "600/600 [==============================] - 6s 10ms/step - loss: 0.1437 - accuracy: 0.9477 - val_loss: 0.2391 - val_accuracy: 0.9195\n",
            "Epoch 16/500\n",
            "600/600 [==============================] - 6s 10ms/step - loss: 0.1401 - accuracy: 0.9483 - val_loss: 0.2549 - val_accuracy: 0.9176\n",
            "Epoch 17/500\n",
            "600/600 [==============================] - 6s 10ms/step - loss: 0.1310 - accuracy: 0.9514 - val_loss: 0.2480 - val_accuracy: 0.9217\n",
            "Epoch 18/500\n",
            "600/600 [==============================] - 6s 10ms/step - loss: 0.1277 - accuracy: 0.9520 - val_loss: 0.2581 - val_accuracy: 0.9199\n",
            "Epoch 19/500\n",
            "600/600 [==============================] - 6s 10ms/step - loss: 0.1209 - accuracy: 0.9550 - val_loss: 0.2572 - val_accuracy: 0.9205\n",
            "Epoch 20/500\n",
            "600/600 [==============================] - 6s 10ms/step - loss: 0.1154 - accuracy: 0.9571 - val_loss: 0.2808 - val_accuracy: 0.9183\n",
            "Epoch 21/500\n",
            "600/600 [==============================] - 6s 10ms/step - loss: 0.1120 - accuracy: 0.9575 - val_loss: 0.2721 - val_accuracy: 0.9205\n",
            "Epoch 22/500\n",
            "600/600 [==============================] - 6s 10ms/step - loss: 0.1055 - accuracy: 0.9614 - val_loss: 0.2847 - val_accuracy: 0.9175\n",
            "Epoch 00022: early stopping\n"
          ]
        }
      ]
    },
    {
      "cell_type": "code",
      "metadata": {
        "id": "W-eIxCasDBil",
        "colab": {
          "base_uri": "https://localhost:8080/"
        },
        "outputId": "c0011896-5955-42c5-fc50-b5f5ccff22a8"
      },
      "source": [
        "c2f3.evaluate(X_test, y_test, batch_size = 100)"
      ],
      "execution_count": 21,
      "outputs": [
        {
          "output_type": "stream",
          "name": "stdout",
          "text": [
            "100/100 [==============================] - 1s 6ms/step - loss: 0.2847 - accuracy: 0.9175\n"
          ]
        },
        {
          "output_type": "execute_result",
          "data": {
            "text/plain": [
              "[0.28471434116363525, 0.9175000190734863]"
            ]
          },
          "metadata": {},
          "execution_count": 21
        }
      ]
    },
    {
      "cell_type": "markdown",
      "metadata": {
        "id": "XxwYdib0fT56"
      },
      "source": [
        "## Graph of loss and accuracy\n",
        "- model: C2F3"
      ]
    },
    {
      "cell_type": "code",
      "metadata": {
        "colab": {
          "base_uri": "https://localhost:8080/",
          "height": 295
        },
        "id": "RRgGPgv6sELv",
        "outputId": "787e5c7a-b16c-43a2-f61e-f01e3c3839c6"
      },
      "source": [
        "# More graphs of loss and accuracy\n",
        "history_dict = hist.history\n",
        "loss = history_dict['loss']\n",
        "val_loss = history_dict['val_loss']\n",
        "\n",
        "epochs = range(1, len(loss) + 1)\n",
        "\n",
        "plt.figure(figsize=(14, 4))\n",
        "\n",
        "plt.subplot(1,2,1)\n",
        "plt.plot(epochs, loss, 'go-', label='Training Loss')\n",
        "plt.plot(epochs, val_loss, 'bd', label='Validation Loss')\n",
        "plt.plot(np.argmin(np.array(val_loss))+1,val_loss[np.argmin(np.array(val_loss))], 'r*', ms=12)\n",
        "plt.title('Training and Validation Loss, min: ' + str(np.round(val_loss[np.argmin(np.array(val_loss))],2)))\n",
        "plt.xlabel('Epochs')\n",
        "plt.ylabel('Loss')\n",
        "plt.legend()\n",
        "\n",
        "acc = history_dict['accuracy']\n",
        "val_acc = history_dict['val_accuracy']\n",
        "\n",
        "epochs = range(1, len(loss) + 1)\n",
        "\n",
        "plt.subplot(1,2,2)\n",
        "plt.plot(epochs, acc, 'go-', label='Training Accuracy') #, c='blue')\n",
        "plt.plot(epochs, val_acc, 'bd', label='Validation Accuracy') #, c='red')\n",
        "plt.plot(np.argmax(np.array(val_acc))+1,val_acc[np.argmax(np.array(val_acc))], 'r*', ms=12)\n",
        "plt.title('Training and Validation Accuracy, max: ' + str(np.round(val_acc[np.argmax(np.array(val_acc))],4)))\n",
        "plt.xlabel('Epochs')\n",
        "plt.ylabel('Accuracy')\n",
        "plt.legend()\n",
        "plt.show()"
      ],
      "execution_count": 22,
      "outputs": [
        {
          "output_type": "display_data",
          "data": {
            "image/png": "[encoded data removed]",
            "text/plain": [
              "<Figure size 1008x288 with 2 Axes>"
            ]
          },
          "metadata": {
            "needs_background": "light"
          }
        }
      ]
    },
    {
      "cell_type": "markdown",
      "metadata": {
        "id": "5XYSVtC-DVsz"
      },
      "source": [
        "# **[DIY] Hidden layer에 따른 정확도**"
      ]
    },
    {
      "cell_type": "code",
      "metadata": {
        "id": "OiCc_UO2rGmp",
        "colab": {
          "base_uri": "https://localhost:8080/"
        },
        "outputId": "1884c6b2-c098-4482-a528-d10d22848f2b"
      },
      "source": [
        "score1=c2f2.evaluate(X_test, y_test, batch_size = 100)\n",
        "score2=c2f3.evaluate(X_test, y_test, batch_size = 100)\n",
        "losses = [score1[0],score2[0]]\n",
        "accuracies= [score1[1],score2[1]]\n",
        "losses,accuracies"
      ],
      "execution_count": 23,
      "outputs": [
        {
          "output_type": "stream",
          "name": "stdout",
          "text": [
            "100/100 [==============================] - 1s 6ms/step - loss: 0.3139 - accuracy: 0.9238\n",
            "100/100 [==============================] - 1s 6ms/step - loss: 0.2847 - accuracy: 0.9175\n"
          ]
        },
        {
          "output_type": "execute_result",
          "data": {
            "text/plain": [
              "([0.313938707113266, 0.28471434116363525],\n",
              " [0.923799991607666, 0.9175000190734863])"
            ]
          },
          "metadata": {},
          "execution_count": 23
        }
      ]
    },
    {
      "cell_type": "code",
      "metadata": {
        "id": "vZv6a2aVRw9j",
        "colab": {
          "base_uri": "https://localhost:8080/",
          "height": 269
        },
        "outputId": "a7c354c3-afdf-4318-8546-d514bb9fb4ef"
      },
      "source": [
        "x = np.arange(2)\n",
        "cnns = ['C2F2','C2F3']\n",
        "\n",
        "plt.bar(x, accuracies)\n",
        "plt.xticks(x, cnns)\n",
        "plt.ylim((.9,.93))\n",
        "plt.show()"
      ],
      "execution_count": 24,
      "outputs": [
        {
          "output_type": "display_data",
          "data": {
            "image/png": "[encoded data removed]",
            "text/plain": [
              "<Figure size 432x288 with 1 Axes>"
            ]
          },
          "metadata": {
            "needs_background": "light"
          }
        }
      ]
    },
    {
      "cell_type": "markdown",
      "metadata": {
        "id": "gBPKMI4y3fsa"
      },
      "source": [
        "## 모형의 저장\n",
        "\n",
        "- 트레이닝이 끝난 모형은 save 메서드로 가중치와 함께 hdf5 형식으로 저장\n",
        "- load 명령으로 불러 사용"
      ]
    },
    {
      "cell_type": "markdown",
      "metadata": {
        "id": "PjYYv00wsELx"
      },
      "source": [
        "## Best models\n",
        "- c2f2: fmnist_c2f2_best_weights.019-0.9254.hdf5\n",
        "- c2f3: fmnist_c2f3_best_weights.017-0.9217.hdf5"
      ]
    },
    {
      "cell_type": "code",
      "metadata": {
        "id": "b7-ysIVy3fse",
        "colab": {
          "base_uri": "https://localhost:8080/"
        },
        "outputId": "72bc3c62-d2d6-45a5-f7ed-f2948f6467b9"
      },
      "source": [
        "from keras.models import load_model\n",
        "\n",
        "model_best = load_model('fmnist_c2f2_best_weights.019-0.9254.hdf5')\n",
        "model_best.evaluate(X_test, y_test, batch_size=100)"
      ],
      "execution_count": 26,
      "outputs": [
        {
          "output_type": "stream",
          "name": "stdout",
          "text": [
            "100/100 [==============================] - 1s 6ms/step - loss: 0.2617 - accuracy: 0.9254\n"
          ]
        },
        {
          "output_type": "execute_result",
          "data": {
            "text/plain": [
              "[0.261703759431839, 0.9254000186920166]"
            ]
          },
          "metadata": {},
          "execution_count": 26
        }
      ]
    },
    {
      "cell_type": "code",
      "metadata": {
        "id": "V-75ZoSY5duG",
        "outputId": "82d21c68-9c51-4ace-8f7a-e10eec62be62",
        "colab": {
          "base_uri": "https://localhost:8080/"
        }
      },
      "source": [
        "from keras.models import load_model\n",
        "\n",
        "model_best = load_model('fmnist_c2f3_best_weights.017-0.9217.hdf5')\n",
        "model_best.evaluate(X_test, y_test, batch_size=100)"
      ],
      "execution_count": 27,
      "outputs": [
        {
          "output_type": "stream",
          "name": "stdout",
          "text": [
            "100/100 [==============================] - 1s 6ms/step - loss: 0.2480 - accuracy: 0.9217\n"
          ]
        },
        {
          "output_type": "execute_result",
          "data": {
            "text/plain": [
              "[0.24795636534690857, 0.9217000007629395]"
            ]
          },
          "metadata": {},
          "execution_count": 27
        }
      ]
    },
    {
      "cell_type": "markdown",
      "metadata": {
        "id": "KF3UzDJotZrh"
      },
      "source": [
        "## Confusion matrix"
      ]
    },
    {
      "cell_type": "code",
      "metadata": {
        "id": "RV1IaOyeu6Em"
      },
      "source": [
        "from sklearn.metrics import confusion_matrix\n",
        "import seaborn as sns"
      ],
      "execution_count": 28,
      "outputs": []
    },
    {
      "cell_type": "code",
      "metadata": {
        "id": "Bxs1eC-cuO0Y"
      },
      "source": [
        "predictions = model_best.predict(X_test)"
      ],
      "execution_count": 29,
      "outputs": []
    },
    {
      "cell_type": "code",
      "metadata": {
        "id": "6Tqhg-UJujo5",
        "colab": {
          "base_uri": "https://localhost:8080/"
        },
        "outputId": "56128506-d595-4d3c-aaac-600f6656f57d"
      },
      "source": [
        "predictions.shape"
      ],
      "execution_count": 30,
      "outputs": [
        {
          "output_type": "execute_result",
          "data": {
            "text/plain": [
              "(10000, 10)"
            ]
          },
          "metadata": {},
          "execution_count": 30
        }
      ]
    },
    {
      "cell_type": "code",
      "metadata": {
        "id": "nZch1JFSufoR",
        "colab": {
          "base_uri": "https://localhost:8080/"
        },
        "outputId": "ee2afd0d-8194-4b3c-fb7d-fb8557eba8ff"
      },
      "source": [
        "predictions0 = np.argmax(predictions, axis=1) #one-hot-encoding 위해\n",
        "predictions0.shape"
      ],
      "execution_count": 31,
      "outputs": [
        {
          "output_type": "execute_result",
          "data": {
            "text/plain": [
              "(10000,)"
            ]
          },
          "metadata": {},
          "execution_count": 31
        }
      ]
    },
    {
      "cell_type": "code",
      "metadata": {
        "id": "hiPMQeYXt12l"
      },
      "source": [
        "cm = confusion_matrix(y_test0, predictions0) "
      ],
      "execution_count": 32,
      "outputs": []
    },
    {
      "cell_type": "code",
      "metadata": {
        "id": "YITaGwYjvatc"
      },
      "source": [
        "# class_names =  ['T-shirt/top', 'Trouser', 'Pullover', 'Dress', 'Coat', 'Sandal', 'Shirt', 'Sneaker', 'Bag', 'Ankle boot']"
      ],
      "execution_count": null,
      "outputs": []
    },
    {
      "cell_type": "code",
      "metadata": {
        "id": "2qGHMNU3u8ut",
        "colab": {
          "base_uri": "https://localhost:8080/",
          "height": 552
        },
        "outputId": "34ea5151-db2e-47d7-8db1-d4fb5a76f616"
      },
      "source": [
        "plt.figure(figsize=(9,9))\n",
        "sns.heatmap(cm, cbar=False, xticklabels=class_names, yticklabels=class_names, fmt='d', annot=True, cmap=plt.cm.coolwarm)\n",
        "plt.xlabel('Predicted')\n",
        "plt.ylabel('Actual')\n",
        "plt.show()\n",
        "#반대각선은 정확히 예측한 개수"
      ],
      "execution_count": 33,
      "outputs": [
        {
          "output_type": "display_data",
          "data": {
            "image/png": "[encoded data removed]",
            "text/plain": [
              "<Figure size 648x648 with 1 Axes>"
            ]
          },
          "metadata": {
            "needs_background": "light"
          }
        }
      ]
    },
    {
      "cell_type": "markdown",
      "metadata": {
        "id": "XR6u9ev1fpy3"
      },
      "source": [
        "---"
      ]
    }
  ]
}