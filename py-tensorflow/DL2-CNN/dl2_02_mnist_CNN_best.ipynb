{
  "nbformat": 4,
  "nbformat_minor": 0,
  "metadata": {
    "accelerator": "GPU",
    "colab": {
      "name": "dl2-02-mnist-CNN-best.ipynb",
      "provenance": [],
      "collapsed_sections": [],
      "include_colab_link": true
    },
    "interpreter": {
      "hash": "3834ce636a3ba6c6c2bd8b9b527c48eede78c367f849f6cce666ea7f1d26e2fb"
    },
    "kernelspec": {
      "display_name": "Python 3.8.5 64-bit ('base': conda)",
      "name": "python3"
    },
    "language_info": {
      "codemirror_mode": {
        "name": "ipython",
        "version": 3
      },
      "file_extension": ".py",
      "mimetype": "text/x-python",
      "name": "python",
      "nbconvert_exporter": "python",
      "pygments_lexer": "ipython3",
      "version": "3.8.5"
    }
  },
  "cells": [
    {
      "cell_type": "markdown",
      "metadata": {
        "id": "view-in-github",
        "colab_type": "text"
      },
      "source": [
        "<a href=\"https://colab.research.google.com/github/jiseon0516/pdm19/blob/main/py-tensorflow/DL2-CNN/dl2_02_mnist_CNN_best.ipynb\" target=\"_parent\"><img src=\"https://colab.research.google.com/assets/colab-badge.svg\" alt=\"Open In Colab\"/></a>"
      ]
    },
    {
      "cell_type": "markdown",
      "metadata": {
        "id": "rswfCVLZ-QW0"
      },
      "source": [
        "# **CNN model of mnist dataset**\n",
        "- Conv2D + FCN\n",
        "    * Conv2D : 2차원 합성곱 필터링 + 풀링(Pooling)\n",
        "    - > 2차원 필터로 영상을 대표하는 특징을 추출\n",
        "    * FCN : 1차원 완전연결신경망\n",
        "    - > Conv2D에서 추출된 대표 특징들을 이용하여 FCN으로 최종 학습 완료\n",
        "\n",
        "***\n",
        "- ## Traget: **Find the best model**\n",
        "***\n",
        "\n",
        "![mnist_NN_2_layers](https://img1.daumcdn.net/thumb/R1280x0/?scode=mtistory2&fname=https%3A%2F%2Fblog.kakaocdn.net%2Fdn%2FdJp5Z6%2FbtqAPebnF3x%2FQCe5vVcskhmxe964bGz4iK%2Fimg.png)\n",
        "\n",
        "(source: https://img1.daumcdn.net/thumb/R1280x0/?scode=mtistory2&fname=https%3A%2F%2Fblog.kakaocdn.net%2Fdn%2FdJp5Z6%2FbtqAPebnF3x%2FQCe5vVcskhmxe964bGz4iK%2Fimg.png)"
      ]
    },
    {
      "cell_type": "markdown",
      "metadata": {
        "id": "1yhvkxS_HhpK"
      },
      "source": [
        "## Search the best model of C2F2\n",
        "- callback\n",
        "    - Early stopping\n",
        "    - model checkpoint"
      ]
    },
    {
      "cell_type": "code",
      "metadata": {
        "id": "8GgGzPXPVyfa",
        "colab": {
          "base_uri": "https://localhost:8080/"
        },
        "outputId": "59513941-193a-4550-96a0-43249dfc21ed"
      },
      "source": [
        "import numpy as np\n",
        "import tensorflow as tf\n",
        "from tensorflow import keras\n",
        "import pandas as pd\n",
        "import matplotlib.pyplot as plt\n",
        "# %matplotlib inline\n",
        "\n",
        "print(tf.__version__)\n",
        "tf.random.set_seed(0)"
      ],
      "execution_count": 1,
      "outputs": [
        {
          "output_type": "stream",
          "name": "stdout",
          "text": [
            "2.7.0\n"
          ]
        }
      ]
    },
    {
      "cell_type": "code",
      "metadata": {
        "id": "nMZqMpIvIlwf"
      },
      "source": [
        "# import TF2 submodules\n",
        "from tensorflow.keras import layers, models, callbacks"
      ],
      "execution_count": 2,
      "outputs": []
    },
    {
      "cell_type": "markdown",
      "metadata": {
        "id": "-0IOOUM14Jk1"
      },
      "source": [
        "## **데이터 로딩, 정규화**"
      ]
    },
    {
      "cell_type": "code",
      "metadata": {
        "id": "N1ogJ7I64Fz-",
        "colab": {
          "base_uri": "https://localhost:8080/"
        },
        "outputId": "f90c155d-ed89-48ef-9c44-904274cb2849"
      },
      "source": [
        "from keras.datasets import mnist\n",
        "\n",
        "(X_train0, y_train0), (X_test0, y_test0) = mnist.load_data()\n",
        "\n",
        "# Reshape\n",
        "X_train = X_train0.reshape(60000,28,28,1)\n",
        "X_test = X_test0.reshape(10000,28,28,1)\n",
        "\n",
        "# Normalization\n",
        "X_train, X_test = X_train/255.0, X_test/255.0 # 정규화\n",
        "\n",
        "print(\"X_train={0}\".format(X_train.shape))\n",
        "print(\"y_train={0}\".format(y_train0.shape)) \n",
        "print(\"X_test={0}\".format(X_test.shape))\n",
        "print(\"y_test={0}\".format(y_test0.shape))"
      ],
      "execution_count": 3,
      "outputs": [
        {
          "output_type": "stream",
          "name": "stdout",
          "text": [
            "Downloading data from https://storage.googleapis.com/tensorflow/tf-keras-datasets/mnist.npz\n",
            "11493376/11490434 [==============================] - 0s 0us/step\n",
            "11501568/11490434 [==============================] - 0s 0us/step\n",
            "X_train=(60000, 28, 28, 1)\n",
            "y_train=(60000,)\n",
            "X_test=(10000, 28, 28, 1)\n",
            "y_test=(10000,)\n"
          ]
        }
      ]
    },
    {
      "cell_type": "code",
      "metadata": {
        "id": "F46-QZqJHiQ6",
        "colab": {
          "base_uri": "https://localhost:8080/"
        },
        "outputId": "51b6f174-5fd8-4c63-8881-ed4f5bfc66fa"
      },
      "source": [
        "# One-Hot-Encoding\n",
        "# Use function to_categorical() to do One-Hot-Encoding\n",
        "# tf.keras.utils.to_categorical\n",
        "from tensorflow.keras.utils import to_categorical\n",
        "\n",
        "y_train = to_categorical(y_train0, 10)\n",
        "y_test = to_categorical(y_test0, 10)\n",
        "y_train.shape,y_test.shape"
      ],
      "execution_count": 4,
      "outputs": [
        {
          "output_type": "execute_result",
          "data": {
            "text/plain": [
              "((60000, 10), (10000, 10))"
            ]
          },
          "metadata": {},
          "execution_count": 4
        }
      ]
    },
    {
      "cell_type": "code",
      "metadata": {
        "id": "eZ3OfP5PkEkL",
        "colab": {
          "base_uri": "https://localhost:8080/"
        },
        "outputId": "1fa7b5a3-2401-4030-b855-e7e7fef8702c"
      },
      "source": [
        "# y_train0.shape vs. y_train.shape\n",
        "y_train0.shape, y_train.shape"
      ],
      "execution_count": 5,
      "outputs": [
        {
          "output_type": "execute_result",
          "data": {
            "text/plain": [
              "((60000,), (60000, 10))"
            ]
          },
          "metadata": {},
          "execution_count": 5
        }
      ]
    },
    {
      "cell_type": "markdown",
      "metadata": {
        "id": "5z7SozStigmF"
      },
      "source": [
        "### Display numbers\n",
        "- one random number\n",
        "- 10 representative numbers"
      ]
    },
    {
      "cell_type": "code",
      "metadata": {
        "id": "IK7XT3XoirSL",
        "colab": {
          "base_uri": "https://localhost:8080/",
          "height": 286
        },
        "outputId": "a75dd65f-a7a4-40c8-eebe-0e44aaa927b1"
      },
      "source": [
        "# Code here!\n",
        "# display one random image from the training set:\n",
        "class_names = [\"0\",\"1\",\"2\",\"3\",\"4\",\"5\",\"6\",\"7\",\"8\",\"9\"]\n",
        "\n",
        "idx = np.random.randint(0, X_train0.shape[0])\n",
        "print(idx)\n",
        "image = X_train0[idx]\n",
        "plt.imshow(image) #, cmap=plt.get_cmap('gray'))\n",
        "plt.title(class_names[y_train0[idx]])\n",
        "plt.xticks([])\n",
        "plt.yticks([])\n",
        "plt.show()"
      ],
      "execution_count": 6,
      "outputs": [
        {
          "output_type": "stream",
          "name": "stdout",
          "text": [
            "2648\n"
          ]
        },
        {
          "output_type": "display_data",
          "data": {
            "image/png": "[encoded data removed]",
            "text/plain": [
              "<Figure size 432x288 with 1 Axes>"
            ]
          },
          "metadata": {}
        }
      ]
    },
    {
      "cell_type": "code",
      "metadata": {
        "id": "LzhD5pcukau7",
        "colab": {
          "base_uri": "https://localhost:8080/",
          "height": 325
        },
        "outputId": "cc88f458-9784-4eb5-b881-0520732657d1"
      },
      "source": [
        "fig = plt.figure(figsize=(10,6))\n",
        "for i in range(10):\n",
        "    plt.subplot(2, 5, i+1)\n",
        "    num0_9 = X_train0[y_train0 == i]\n",
        "    # print(num0_9.shape)\n",
        "    plt.imshow(num0_9[0]) #, cmap='gray') #, interpolation='none')\n",
        "    plt.title(\"Class %d\" % (i))\n",
        "    plt.xticks([])\n",
        "    plt.yticks([])"
      ],
      "execution_count": 7,
      "outputs": [
        {
          "output_type": "display_data",
          "data": {
            "image/png": "[encoded data removed]",
            "text/plain": [
              "<Figure size 720x432 with 10 Axes>"
            ]
          },
          "metadata": {}
        }
      ]
    },
    {
      "cell_type": "markdown",
      "metadata": {
        "id": "55DYVfFXi0WR"
      },
      "source": [
        "# Design CNN"
      ]
    },
    {
      "cell_type": "markdown",
      "metadata": {
        "id": "iPcLIcUCcsiG"
      },
      "source": [
        "### import models, layers, callbacks\n",
        "- models: Sequential\n",
        "- layers: Conv2D, MaxPool2D, Flatten\n",
        "- callbacks: ModelCheckpoint, EarlyStopping"
      ]
    },
    {
      "cell_type": "code",
      "metadata": {
        "id": "NzqMC4Xtc3ZE"
      },
      "source": [
        "from keras.models import Sequential\n",
        "from keras.layers import Conv2D, MaxPool2D, Flatten\n",
        "from keras.callbacks import ModelCheckpoint, EarlyStopping"
      ],
      "execution_count": 8,
      "outputs": []
    },
    {
      "cell_type": "markdown",
      "metadata": {
        "id": "7Z6DJJUCei-s"
      },
      "source": [
        "## **CNN2 + FCN2**"
      ]
    },
    {
      "cell_type": "code",
      "metadata": {
        "id": "Ancr1_dYrvQq"
      },
      "source": [
        "# Random number seed - 모델의 구조 변경 시 seed 초기화\n",
        "np.random.seed(1234)\n",
        "tf.random.set_seed(1234)"
      ],
      "execution_count": 9,
      "outputs": []
    },
    {
      "cell_type": "code",
      "metadata": {
        "id": "pV3NFglM7P65"
      },
      "source": [
        "c2f2 = keras.models.Sequential([ \n",
        "    Conv2D(input_shape=(28,28,1),kernel_size=(3,3),strides=(1,1),filters= 64,padding='same',activation='relu'),\n",
        "    MaxPool2D(pool_size=(2,2), strides=(2,2)), \n",
        "    Conv2D(kernel_size=(3,3),strides=(1,1),filters= 32,padding='same',activation='relu'),\n",
        "    MaxPool2D(pool_size=(2,2), strides=(2,2)),\n",
        "    Flatten(), \n",
        "    keras.layers.Dense(128, activation='relu'),  \n",
        "    keras.layers.Dropout(0.25), \n",
        "    keras.layers.Dense(10, activation='softmax')\n",
        "])\n",
        "\n",
        "c2f2.compile(optimizer='adam',\n",
        "              loss='categorical_crossentropy',\n",
        "              metrics=['accuracy']) "
      ],
      "execution_count": 10,
      "outputs": []
    },
    {
      "cell_type": "code",
      "metadata": {
        "id": "OGtCiKy57YkR",
        "colab": {
          "base_uri": "https://localhost:8080/"
        },
        "outputId": "ebf5df1e-03ff-414f-e509-5db00af8081d"
      },
      "source": [
        "c2f2.summary()"
      ],
      "execution_count": 11,
      "outputs": [
        {
          "output_type": "stream",
          "name": "stdout",
          "text": [
            "Model: \"sequential\"\n",
            "_________________________________________________________________\n",
            " Layer (type)                Output Shape              Param #   \n",
            "=================================================================\n",
            " conv2d (Conv2D)             (None, 28, 28, 64)        640       \n",
            "                                                                 \n",
            " max_pooling2d (MaxPooling2D  (None, 14, 14, 64)       0         \n",
            " )                                                               \n",
            "                                                                 \n",
            " conv2d_1 (Conv2D)           (None, 14, 14, 32)        18464     \n",
            "                                                                 \n",
            " max_pooling2d_1 (MaxPooling  (None, 7, 7, 32)         0         \n",
            " 2D)                                                             \n",
            "                                                                 \n",
            " flatten (Flatten)           (None, 1568)              0         \n",
            "                                                                 \n",
            " dense (Dense)               (None, 128)               200832    \n",
            "                                                                 \n",
            " dropout (Dropout)           (None, 128)               0         \n",
            "                                                                 \n",
            " dense_1 (Dense)             (None, 10)                1290      \n",
            "                                                                 \n",
            "=================================================================\n",
            "Total params: 221,226\n",
            "Trainable params: 221,226\n",
            "Non-trainable params: 0\n",
            "_________________________________________________________________\n"
          ]
        }
      ]
    },
    {
      "cell_type": "code",
      "metadata": {
        "id": "zw_pQPBdJmU8"
      },
      "source": [
        "mc_callback = callbacks.ModelCheckpoint(filepath=\"./mnist_c2f2_best_weights.{epoch:03d}-{val_accuracy:.4f}.hdf5\", \n",
        "                              monitor='val_accuracy', verbose=0, save_best_only=True) \n",
        "es_callback = callbacks.EarlyStopping(monitor='val_accuracy', \n",
        "                            mode='max', verbose=1, patience=10)    # patience=10, 20, 50\n",
        "                            # 최대 정확도에서 10번을 돌았는데 최대 정확도를 넘지 못하면 stop\n",
        "                            # 정확도가 올라갈 때마다 모델 저장"
      ],
      "execution_count": 12,
      "outputs": []
    },
    {
      "cell_type": "code",
      "metadata": {
        "id": "94GWWQt-7eRS",
        "colab": {
          "base_uri": "https://localhost:8080/"
        },
        "outputId": "289b9f19-7819-4b59-b451-cd4673fd43ff"
      },
      "source": [
        "# Train CNN model\n",
        "# Find and save the best model.\n",
        "hist = c2f2.fit(X_train, y_train, epochs = 500 , batch_size =100, #최적의 모델 찾기 위해 epohs 늘림\n",
        "         callbacks=[mc_callback, es_callback], \n",
        "         validation_data=(X_test,y_test))"
      ],
      "execution_count": 13,
      "outputs": [
        {
          "output_type": "stream",
          "name": "stdout",
          "text": [
            "Epoch 1/500\n",
            "600/600 [==============================] - 15s 11ms/step - loss: 0.2205 - accuracy: 0.9329 - val_loss: 0.0507 - val_accuracy: 0.9837\n",
            "Epoch 2/500\n",
            "600/600 [==============================] - 6s 10ms/step - loss: 0.0668 - accuracy: 0.9793 - val_loss: 0.0356 - val_accuracy: 0.9882\n",
            "Epoch 3/500\n",
            "600/600 [==============================] - 6s 9ms/step - loss: 0.0464 - accuracy: 0.9856 - val_loss: 0.0296 - val_accuracy: 0.9901\n",
            "Epoch 4/500\n",
            "600/600 [==============================] - 6s 9ms/step - loss: 0.0368 - accuracy: 0.9890 - val_loss: 0.0285 - val_accuracy: 0.9903\n",
            "Epoch 5/500\n",
            "600/600 [==============================] - 6s 9ms/step - loss: 0.0301 - accuracy: 0.9905 - val_loss: 0.0260 - val_accuracy: 0.9914\n",
            "Epoch 6/500\n",
            "600/600 [==============================] - 6s 10ms/step - loss: 0.0263 - accuracy: 0.9918 - val_loss: 0.0228 - val_accuracy: 0.9917\n",
            "Epoch 7/500\n",
            "600/600 [==============================] - 6s 9ms/step - loss: 0.0224 - accuracy: 0.9929 - val_loss: 0.0253 - val_accuracy: 0.9918\n",
            "Epoch 8/500\n",
            "600/600 [==============================] - 6s 10ms/step - loss: 0.0183 - accuracy: 0.9942 - val_loss: 0.0239 - val_accuracy: 0.9925\n",
            "Epoch 9/500\n",
            "600/600 [==============================] - 6s 9ms/step - loss: 0.0180 - accuracy: 0.9939 - val_loss: 0.0280 - val_accuracy: 0.9917\n",
            "Epoch 10/500\n",
            "600/600 [==============================] - 6s 9ms/step - loss: 0.0141 - accuracy: 0.9955 - val_loss: 0.0239 - val_accuracy: 0.9919\n",
            "Epoch 11/500\n",
            "600/600 [==============================] - 6s 10ms/step - loss: 0.0135 - accuracy: 0.9954 - val_loss: 0.0244 - val_accuracy: 0.9927\n",
            "Epoch 12/500\n",
            "600/600 [==============================] - 6s 9ms/step - loss: 0.0115 - accuracy: 0.9962 - val_loss: 0.0249 - val_accuracy: 0.9923\n",
            "Epoch 13/500\n",
            "600/600 [==============================] - 6s 9ms/step - loss: 0.0107 - accuracy: 0.9965 - val_loss: 0.0248 - val_accuracy: 0.9930\n",
            "Epoch 14/500\n",
            "600/600 [==============================] - 6s 9ms/step - loss: 0.0112 - accuracy: 0.9962 - val_loss: 0.0232 - val_accuracy: 0.9931\n",
            "Epoch 15/500\n",
            "600/600 [==============================] - 6s 9ms/step - loss: 0.0091 - accuracy: 0.9969 - val_loss: 0.0283 - val_accuracy: 0.9920\n",
            "Epoch 16/500\n",
            "600/600 [==============================] - 6s 10ms/step - loss: 0.0087 - accuracy: 0.9968 - val_loss: 0.0317 - val_accuracy: 0.9914\n",
            "Epoch 17/500\n",
            "600/600 [==============================] - 6s 10ms/step - loss: 0.0082 - accuracy: 0.9970 - val_loss: 0.0314 - val_accuracy: 0.9909\n",
            "Epoch 18/500\n",
            "600/600 [==============================] - 6s 10ms/step - loss: 0.0076 - accuracy: 0.9974 - val_loss: 0.0357 - val_accuracy: 0.9917\n",
            "Epoch 19/500\n",
            "600/600 [==============================] - 6s 9ms/step - loss: 0.0064 - accuracy: 0.9977 - val_loss: 0.0340 - val_accuracy: 0.9915\n",
            "Epoch 20/500\n",
            "600/600 [==============================] - 6s 10ms/step - loss: 0.0075 - accuracy: 0.9975 - val_loss: 0.0261 - val_accuracy: 0.9926\n",
            "Epoch 21/500\n",
            "600/600 [==============================] - 6s 10ms/step - loss: 0.0058 - accuracy: 0.9979 - val_loss: 0.0295 - val_accuracy: 0.9926\n",
            "Epoch 22/500\n",
            "600/600 [==============================] - 6s 10ms/step - loss: 0.0068 - accuracy: 0.9977 - val_loss: 0.0292 - val_accuracy: 0.9922\n",
            "Epoch 23/500\n",
            "600/600 [==============================] - 6s 10ms/step - loss: 0.0056 - accuracy: 0.9982 - val_loss: 0.0305 - val_accuracy: 0.9924\n",
            "Epoch 24/500\n",
            "600/600 [==============================] - 6s 9ms/step - loss: 0.0065 - accuracy: 0.9977 - val_loss: 0.0320 - val_accuracy: 0.9918\n",
            "Epoch 00024: early stopping\n"
          ]
        }
      ]
    },
    {
      "cell_type": "code",
      "metadata": {
        "id": "0-7is2U49A6Z",
        "colab": {
          "base_uri": "https://localhost:8080/"
        },
        "outputId": "622e7c09-fa1e-4f21-9706-e8a5d7009364"
      },
      "source": [
        "c2f2.evaluate(X_test, y_test, batch_size =100)"
      ],
      "execution_count": 14,
      "outputs": [
        {
          "output_type": "stream",
          "name": "stdout",
          "text": [
            "100/100 [==============================] - 1s 6ms/step - loss: 0.0320 - accuracy: 0.9918\n"
          ]
        },
        {
          "output_type": "execute_result",
          "data": {
            "text/plain": [
              "[0.031954266130924225, 0.9918000102043152]"
            ]
          },
          "metadata": {},
          "execution_count": 14
        }
      ]
    },
    {
      "cell_type": "markdown",
      "metadata": {
        "id": "3Ub3qGnjs4EI"
      },
      "source": [
        "## Graph of loss and accuracy\n",
        "- model: C2F2"
      ]
    },
    {
      "cell_type": "code",
      "metadata": {
        "id": "WNmXXLhvWUiK",
        "colab": {
          "base_uri": "https://localhost:8080/",
          "height": 313
        },
        "outputId": "b8c0d3b5-d089-4224-c8d0-f0e88c56dac6"
      },
      "source": [
        "# Plot loass and accuracy\n",
        "# Plot training & validation accuracy values\n",
        "loss_list = [100 * i for i in hist.history['loss']]\n",
        "acc_list = [100 * i for i in hist.history['accuracy']]\n",
        "\n",
        "epochs = range(1, len(loss_list) + 1)\n",
        "\n",
        "plt.plot(epochs,loss_list) \n",
        "plt.plot(epochs,acc_list) \n",
        "plt.title('Model loss & accuracy')\n",
        "plt.ylabel('Accuracy (%)')\n",
        "plt.xlabel('Epoch')\n",
        "plt.legend(['loss', 'accuracy'], loc='center left')"
      ],
      "execution_count": 15,
      "outputs": [
        {
          "output_type": "execute_result",
          "data": {
            "text/plain": [
              "<matplotlib.legend.Legend at 0x7f7017ef17d0>"
            ]
          },
          "metadata": {},
          "execution_count": 15
        },
        {
          "output_type": "display_data",
          "data": {
            "image/png": "[encoded data removed]",
            "text/plain": [
              "<Figure size 432x288 with 1 Axes>"
            ]
          },
          "metadata": {
            "needs_background": "light"
          }
        }
      ]
    },
    {
      "cell_type": "code",
      "metadata": {
        "id": "0wNssVPhu_8m"
      },
      "source": [
        "vloss_list = [100 * i for i in hist.history['val_loss']]\n",
        "vacc_list = [100 * i for i in hist.history['val_accuracy']]"
      ],
      "execution_count": 16,
      "outputs": []
    },
    {
      "cell_type": "code",
      "metadata": {
        "id": "TX5Uzro4vjaY",
        "colab": {
          "base_uri": "https://localhost:8080/",
          "height": 313
        },
        "outputId": "ddfc51a4-42a5-4ac7-919e-e705ba6bf1f1"
      },
      "source": [
        "plt.plot(epochs,vloss_list)  \n",
        "plt.plot(epochs,vacc_list)  \n",
        "plt.title('Model val_loss & val_accuracy')\n",
        "plt.ylabel('Accuracy (%)')\n",
        "plt.xlabel('Epoch')\n",
        "plt.legend(['val_loss', 'val_accuracy'], loc='center left')"
      ],
      "execution_count": 17,
      "outputs": [
        {
          "output_type": "execute_result",
          "data": {
            "text/plain": [
              "<matplotlib.legend.Legend at 0x7f6fa1082ed0>"
            ]
          },
          "metadata": {},
          "execution_count": 17
        },
        {
          "output_type": "display_data",
          "data": {
            "image/png": "[encoded data removed]",
            "text/plain": [
              "<Figure size 432x288 with 1 Axes>"
            ]
          },
          "metadata": {
            "needs_background": "light"
          }
        }
      ]
    },
    {
      "cell_type": "code",
      "metadata": {
        "id": "WkK7XXY2x8J4"
      },
      "source": [
        "# np.argmax(np.array(vacc_list))"
      ],
      "execution_count": null,
      "outputs": []
    },
    {
      "cell_type": "code",
      "metadata": {
        "id": "S8LAN1AYzykJ"
      },
      "source": [
        "# vacc_list[np.argmax(np.array(vacc_list))]"
      ],
      "execution_count": null,
      "outputs": []
    },
    {
      "cell_type": "code",
      "metadata": {
        "id": "blALTNdyvjVK",
        "colab": {
          "base_uri": "https://localhost:8080/",
          "height": 313
        },
        "outputId": "d6700919-c324-4841-d6f3-54a3232d3c5a"
      },
      "source": [
        "plt.plot(epochs,acc_list)  \n",
        "plt.plot(epochs,vacc_list)  \n",
        "plt.title('accuracy vs. val_accuracy')\n",
        "plt.ylabel('Accuracy (%)')\n",
        "plt.xlabel('Epoch')\n",
        "plt.legend(['accuracy','val_accuracy'], loc='center')\n",
        "plt.plot(np.argmax(np.array(vacc_list))+1,vacc_list[np.argmax(np.array(vacc_list))], 'r*') #최대값이 나온 epoch에 표시"
      ],
      "execution_count": 18,
      "outputs": [
        {
          "output_type": "execute_result",
          "data": {
            "text/plain": [
              "[<matplotlib.lines.Line2D at 0x7f7017e05690>]"
            ]
          },
          "metadata": {},
          "execution_count": 18
        },
        {
          "output_type": "display_data",
          "data": {
            "image/png": "[encoded data removed]",
            "text/plain": [
              "<Figure size 432x288 with 1 Axes>"
            ]
          },
          "metadata": {
            "needs_background": "light"
          }
        }
      ]
    },
    {
      "cell_type": "code",
      "metadata": {
        "id": "x9EQ2Z_c2gYL",
        "colab": {
          "base_uri": "https://localhost:8080/",
          "height": 295
        },
        "outputId": "81470f6c-a9ad-4231-f291-6054da1a0d4a"
      },
      "source": [
        "# More graphs of loss and accuracy - 기본 코드\n",
        "history_dict = hist.history\n",
        "loss = history_dict['loss']\n",
        "val_loss = history_dict['val_loss']\n",
        "\n",
        "epochs = range(1, len(loss) + 1)\n",
        "\n",
        "plt.figure(figsize=(14, 4))\n",
        "\n",
        "plt.subplot(1,2,1)\n",
        "plt.plot(epochs, loss, 'go-', label='Training Loss')\n",
        "plt.plot(epochs, val_loss, 'bd', label='Validation Loss')\n",
        "plt.plot(np.argmin(np.array(val_loss))+1,val_loss[np.argmin(np.array(val_loss))], 'r*', ms=12)\n",
        "plt.title('Training and Validation Loss, min: ' + str(np.round(val_loss[np.argmin(np.array(val_loss))],4)))\n",
        "plt.xlabel('Epochs')\n",
        "plt.ylabel('Loss')\n",
        "plt.legend()\n",
        "\n",
        "acc = history_dict['accuracy']\n",
        "val_acc = history_dict['val_accuracy']\n",
        "\n",
        "epochs = range(1, len(loss) + 1)\n",
        "\n",
        "plt.subplot(1,2,2)\n",
        "plt.plot(epochs, acc, 'go-', label='Training Accuracy') #, c='blue')\n",
        "plt.plot(epochs, val_acc, 'bd', label='Validation Accuracy') #, c='red')\n",
        "plt.plot(np.argmax(np.array(val_acc))+1,val_acc[np.argmax(np.array(val_acc))], 'r*', ms=12)\n",
        "plt.title('Training and Validation Accuracy, max: ' + str(np.round(val_acc[np.argmax(np.array(val_acc))],4)))\n",
        "plt.xlabel('Epochs')\n",
        "plt.ylabel('Accuracy')\n",
        "plt.legend()\n",
        "plt.show()"
      ],
      "execution_count": 19,
      "outputs": [
        {
          "output_type": "display_data",
          "data": {
            "image/png": "[encoded data removed]",
            "text/plain": [
              "<Figure size 1008x288 with 2 Axes>"
            ]
          },
          "metadata": {
            "needs_background": "light"
          }
        }
      ]
    },
    {
      "cell_type": "markdown",
      "metadata": {
        "id": "gBPKMI4y3fsa"
      },
      "source": [
        "## 최적화된 모형 불러와서 이용\n",
        "\n",
        "- callbacks.ModelCheckpoint를 이용해서 트레이닝 중 val_accuacy가 가장 높은 모형을 가중치와 함께 hdf5 형식으로 저장\n",
        "- load 명령으로 불러 사용"
      ]
    },
    {
      "cell_type": "markdown",
      "metadata": {
        "id": "kWxWNigsrvQv"
      },
      "source": [
        "### Best model\n",
        "- mnist_c2f2_best_weights.014-0.9931.hdf5"
      ]
    },
    {
      "cell_type": "code",
      "metadata": {
        "id": "b7-ysIVy3fse",
        "colab": {
          "base_uri": "https://localhost:8080/"
        },
        "outputId": "d4998ca7-8025-4025-88aa-8f782d1c72cb"
      },
      "source": [
        "from keras.models import load_model\n",
        "\n",
        "model = load_model('mnist_c2f2_best_weights.014-0.9931.hdf5')\n",
        "model.evaluate(X_test, y_test, batch_size=100)"
      ],
      "execution_count": 21,
      "outputs": [
        {
          "output_type": "stream",
          "name": "stdout",
          "text": [
            "100/100 [==============================] - 1s 6ms/step - loss: 0.0232 - accuracy: 0.9931\n"
          ]
        },
        {
          "output_type": "execute_result",
          "data": {
            "text/plain": [
              "[0.02317027375102043, 0.9930999875068665]"
            ]
          },
          "metadata": {},
          "execution_count": 21
        }
      ]
    },
    {
      "cell_type": "markdown",
      "metadata": {
        "id": "3dO5bh1ILJP_"
      },
      "source": [
        "## [DIY] C2F3의 best model을 구하시오."
      ]
    },
    {
      "cell_type": "markdown",
      "metadata": {
        "id": "SUJxRQtafihM"
      },
      "source": [
        "## **CNN2 + FCN3**"
      ]
    },
    {
      "cell_type": "code",
      "metadata": {
        "id": "KUR_z2qxrvQv"
      },
      "source": [
        "# Random number seed\n",
        "np.random.seed(1234)\n",
        "tf.random.set_seed(1234)"
      ],
      "execution_count": 22,
      "outputs": []
    },
    {
      "cell_type": "code",
      "metadata": {
        "id": "Nl5CyAymAB34"
      },
      "source": [
        "c2f3 = keras.models.Sequential([ \n",
        "    Conv2D(input_shape=(28,28,1),filters= 32, \n",
        "                kernel_size=(3,3),strides=(1,1),padding='same',activation='relu'),\n",
        "    MaxPool2D(pool_size=(2,2), strides=(2,2)), \n",
        "    Conv2D(filters= 64, \n",
        "                kernel_size=(3,3),strides=(1,1),padding='same',activation='relu'),\n",
        "    MaxPool2D(pool_size=(2,2), strides=(2,2)),\n",
        "    Flatten(), \n",
        "    keras.layers.Dense(128, activation='relu'),  \n",
        "    keras.layers.Dropout(0.25), \n",
        "    keras.layers.Dense(64, activation='relu'),  \n",
        "    keras.layers.Dropout(0.25), \n",
        "    keras.layers.Dense(10, activation='softmax')\n",
        "])\n",
        "\n",
        "c2f3.compile(optimizer='adam',\n",
        "              loss='categorical_crossentropy',\n",
        "              metrics=['accuracy']) "
      ],
      "execution_count": 23,
      "outputs": []
    },
    {
      "cell_type": "code",
      "metadata": {
        "id": "gYxuGW_2ANL8",
        "colab": {
          "base_uri": "https://localhost:8080/"
        },
        "outputId": "c668459e-2ac8-43a6-cd2c-1f65155a8aaf"
      },
      "source": [
        "c2f3.summary()"
      ],
      "execution_count": 24,
      "outputs": [
        {
          "output_type": "stream",
          "name": "stdout",
          "text": [
            "Model: \"sequential_1\"\n",
            "_________________________________________________________________\n",
            " Layer (type)                Output Shape              Param #   \n",
            "=================================================================\n",
            " conv2d_2 (Conv2D)           (None, 28, 28, 32)        320       \n",
            "                                                                 \n",
            " max_pooling2d_2 (MaxPooling  (None, 14, 14, 32)       0         \n",
            " 2D)                                                             \n",
            "                                                                 \n",
            " conv2d_3 (Conv2D)           (None, 14, 14, 64)        18496     \n",
            "                                                                 \n",
            " max_pooling2d_3 (MaxPooling  (None, 7, 7, 64)         0         \n",
            " 2D)                                                             \n",
            "                                                                 \n",
            " flatten_1 (Flatten)         (None, 3136)              0         \n",
            "                                                                 \n",
            " dense_2 (Dense)             (None, 128)               401536    \n",
            "                                                                 \n",
            " dropout_1 (Dropout)         (None, 128)               0         \n",
            "                                                                 \n",
            " dense_3 (Dense)             (None, 64)                8256      \n",
            "                                                                 \n",
            " dropout_2 (Dropout)         (None, 64)                0         \n",
            "                                                                 \n",
            " dense_4 (Dense)             (None, 10)                650       \n",
            "                                                                 \n",
            "=================================================================\n",
            "Total params: 429,258\n",
            "Trainable params: 429,258\n",
            "Non-trainable params: 0\n",
            "_________________________________________________________________\n"
          ]
        }
      ]
    },
    {
      "cell_type": "code",
      "metadata": {
        "id": "IFYTv4b-21sE"
      },
      "source": [
        "mc_callback = callbacks.ModelCheckpoint(filepath=\"./mnist_c2f3_best_weights.{epoch:03d}-{val_accuracy:.4f}.hdf5\", \n",
        "                              monitor='val_accuracy', verbose=0, save_best_only=True) \n",
        "es_callback = callbacks.EarlyStopping(monitor='val_accuracy', \n",
        "                            mode='max', verbose=1, patience=10)"
      ],
      "execution_count": 25,
      "outputs": []
    },
    {
      "cell_type": "code",
      "metadata": {
        "id": "srVyGk-D22wv",
        "outputId": "7e6eda2a-269b-4240-d1c7-8adcad9f517d",
        "colab": {
          "base_uri": "https://localhost:8080/"
        }
      },
      "source": [
        "# Train CNN model\n",
        "# Find and save the best model.\n",
        "hist = c2f3.fit(X_train, y_train, epochs = 500 , batch_size =100, #최적의 모델 찾기 위해 epohs 늘림\n",
        "         callbacks=[mc_callback, es_callback], \n",
        "         validation_data=(X_test,y_test))"
      ],
      "execution_count": 27,
      "outputs": [
        {
          "output_type": "stream",
          "name": "stdout",
          "text": [
            "Epoch 1/500\n",
            "600/600 [==============================] - 7s 11ms/step - loss: 0.2835 - accuracy: 0.9115 - val_loss: 0.0569 - val_accuracy: 0.9813\n",
            "Epoch 2/500\n",
            "600/600 [==============================] - 6s 10ms/step - loss: 0.0828 - accuracy: 0.9761 - val_loss: 0.0377 - val_accuracy: 0.9884\n",
            "Epoch 3/500\n",
            "600/600 [==============================] - 6s 10ms/step - loss: 0.0566 - accuracy: 0.9836 - val_loss: 0.0345 - val_accuracy: 0.9883\n",
            "Epoch 4/500\n",
            "600/600 [==============================] - 6s 10ms/step - loss: 0.0470 - accuracy: 0.9865 - val_loss: 0.0316 - val_accuracy: 0.9903\n",
            "Epoch 5/500\n",
            "600/600 [==============================] - 6s 10ms/step - loss: 0.0377 - accuracy: 0.9884 - val_loss: 0.0335 - val_accuracy: 0.9899\n",
            "Epoch 6/500\n",
            "600/600 [==============================] - 6s 10ms/step - loss: 0.0321 - accuracy: 0.9908 - val_loss: 0.0293 - val_accuracy: 0.9903\n",
            "Epoch 7/500\n",
            "600/600 [==============================] - 6s 10ms/step - loss: 0.0280 - accuracy: 0.9920 - val_loss: 0.0248 - val_accuracy: 0.9922\n",
            "Epoch 8/500\n",
            "600/600 [==============================] - 6s 10ms/step - loss: 0.0231 - accuracy: 0.9931 - val_loss: 0.0231 - val_accuracy: 0.9924\n",
            "Epoch 9/500\n",
            "600/600 [==============================] - 6s 10ms/step - loss: 0.0211 - accuracy: 0.9935 - val_loss: 0.0216 - val_accuracy: 0.9939\n",
            "Epoch 10/500\n",
            "600/600 [==============================] - 6s 10ms/step - loss: 0.0188 - accuracy: 0.9942 - val_loss: 0.0268 - val_accuracy: 0.9926\n",
            "Epoch 11/500\n",
            "600/600 [==============================] - 6s 10ms/step - loss: 0.0161 - accuracy: 0.9952 - val_loss: 0.0248 - val_accuracy: 0.9927\n",
            "Epoch 12/500\n",
            "600/600 [==============================] - 6s 10ms/step - loss: 0.0155 - accuracy: 0.9952 - val_loss: 0.0299 - val_accuracy: 0.9917\n",
            "Epoch 13/500\n",
            "600/600 [==============================] - 6s 10ms/step - loss: 0.0141 - accuracy: 0.9956 - val_loss: 0.0268 - val_accuracy: 0.9923\n",
            "Epoch 14/500\n",
            "600/600 [==============================] - 6s 10ms/step - loss: 0.0121 - accuracy: 0.9962 - val_loss: 0.0273 - val_accuracy: 0.9928\n",
            "Epoch 15/500\n",
            "600/600 [==============================] - 6s 10ms/step - loss: 0.0110 - accuracy: 0.9966 - val_loss: 0.0264 - val_accuracy: 0.9930\n",
            "Epoch 16/500\n",
            "600/600 [==============================] - 6s 10ms/step - loss: 0.0105 - accuracy: 0.9967 - val_loss: 0.0284 - val_accuracy: 0.9927\n",
            "Epoch 17/500\n",
            "600/600 [==============================] - 6s 10ms/step - loss: 0.0101 - accuracy: 0.9966 - val_loss: 0.0260 - val_accuracy: 0.9927\n",
            "Epoch 18/500\n",
            "600/600 [==============================] - 6s 10ms/step - loss: 0.0092 - accuracy: 0.9971 - val_loss: 0.0311 - val_accuracy: 0.9920\n",
            "Epoch 19/500\n",
            "600/600 [==============================] - 6s 10ms/step - loss: 0.0094 - accuracy: 0.9971 - val_loss: 0.0230 - val_accuracy: 0.9939\n",
            "Epoch 00019: early stopping\n"
          ]
        }
      ]
    },
    {
      "cell_type": "code",
      "metadata": {
        "id": "8KFMQBYp3Bng",
        "outputId": "9879fc31-ec04-4806-f520-53a3d464a703",
        "colab": {
          "base_uri": "https://localhost:8080/"
        }
      },
      "source": [
        "c2f3.evaluate(X_test, y_test, batch_size =100)"
      ],
      "execution_count": 28,
      "outputs": [
        {
          "output_type": "stream",
          "name": "stdout",
          "text": [
            "100/100 [==============================] - 1s 5ms/step - loss: 0.0230 - accuracy: 0.9939\n"
          ]
        },
        {
          "output_type": "execute_result",
          "data": {
            "text/plain": [
              "[0.02299453876912594, 0.9939000010490417]"
            ]
          },
          "metadata": {},
          "execution_count": 28
        }
      ]
    },
    {
      "cell_type": "markdown",
      "metadata": {
        "id": "OF10w3Mo3HTZ"
      },
      "source": [
        "## Graph of loss and accuracy\n",
        "- model: C2F3"
      ]
    },
    {
      "cell_type": "code",
      "metadata": {
        "id": "gFHGF-ts3C8o",
        "outputId": "25c749b2-d02e-4e51-e7f4-947ccda4c2e7",
        "colab": {
          "base_uri": "https://localhost:8080/",
          "height": 313
        }
      },
      "source": [
        "# Plot loass and accuracy\n",
        "loss_list = [100 * i for i in hist.history['loss']]\n",
        "acc_list = [100 * i for i in hist.history['accuracy']]\n",
        "\n",
        "epochs = range(1, len(loss_list) + 1)\n",
        "\n",
        "plt.plot(epochs,loss_list) \n",
        "plt.plot(epochs,acc_list) \n",
        "plt.title('Model loss & accuracy')\n",
        "plt.ylabel('Accuracy (%)')\n",
        "plt.xlabel('Epoch')\n",
        "plt.legend(['loss', 'accuracy'], loc='center left')"
      ],
      "execution_count": 29,
      "outputs": [
        {
          "output_type": "execute_result",
          "data": {
            "text/plain": [
              "<matplotlib.legend.Legend at 0x7f70169709d0>"
            ]
          },
          "metadata": {},
          "execution_count": 29
        },
        {
          "output_type": "display_data",
          "data": {
            "image/png": "[encoded data removed]",
            "text/plain": [
              "<Figure size 432x288 with 1 Axes>"
            ]
          },
          "metadata": {
            "needs_background": "light"
          }
        }
      ]
    },
    {
      "cell_type": "code",
      "metadata": {
        "id": "miKUs34y3OTz"
      },
      "source": [
        "# Plot validation loss and validation accuracy\n",
        "vloss_list = [100 * i for i in hist.history['val_loss']]\n",
        "vacc_list = [100 * i for i in hist.history['val_accuracy']]"
      ],
      "execution_count": 30,
      "outputs": []
    },
    {
      "cell_type": "code",
      "metadata": {
        "id": "cWLEM9Zg3SAW",
        "outputId": "2dc4212d-2142-4c22-a0af-1c4ebc945b3e",
        "colab": {
          "base_uri": "https://localhost:8080/",
          "height": 313
        }
      },
      "source": [
        "plt.plot(epochs,vloss_list)  \n",
        "plt.plot(epochs,vacc_list)  \n",
        "plt.title('Model val_loss & val_accuracy')\n",
        "plt.ylabel('Accuracy (%)')\n",
        "plt.xlabel('Epoch')\n",
        "plt.legend(['val_loss', 'val_accuracy'], loc='center left')"
      ],
      "execution_count": 31,
      "outputs": [
        {
          "output_type": "execute_result",
          "data": {
            "text/plain": [
              "<matplotlib.legend.Legend at 0x7f7017195850>"
            ]
          },
          "metadata": {},
          "execution_count": 31
        },
        {
          "output_type": "display_data",
          "data": {
            "image/png": "[encoded data removed]",
            "text/plain": [
              "<Figure size 432x288 with 1 Axes>"
            ]
          },
          "metadata": {
            "needs_background": "light"
          }
        }
      ]
    },
    {
      "cell_type": "code",
      "metadata": {
        "id": "9HJafnJk3WGX",
        "outputId": "8c925e96-b842-490e-99b0-b9899faca88f",
        "colab": {
          "base_uri": "https://localhost:8080/",
          "height": 313
        }
      },
      "source": [
        "# Plot training & validation accuracy values\n",
        "plt.plot(epochs,acc_list)  \n",
        "plt.plot(epochs,vacc_list)  \n",
        "plt.title('accuracy vs. val_accuracy')\n",
        "plt.ylabel('Accuracy (%)')\n",
        "plt.xlabel('Epoch')\n",
        "plt.legend(['accuracy','val_accuracy'], loc='center')\n",
        "plt.plot(np.argmax(np.array(vacc_list))+1,vacc_list[np.argmax(np.array(vacc_list))], 'r*') #최대값이 나온 epoch에 표시"
      ],
      "execution_count": 32,
      "outputs": [
        {
          "output_type": "execute_result",
          "data": {
            "text/plain": [
              "[<matplotlib.lines.Line2D at 0x7f70168a5a90>]"
            ]
          },
          "metadata": {},
          "execution_count": 32
        },
        {
          "output_type": "display_data",
          "data": {
            "image/png": "[encoded data removed]",
            "text/plain": [
              "<Figure size 432x288 with 1 Axes>"
            ]
          },
          "metadata": {
            "needs_background": "light"
          }
        }
      ]
    },
    {
      "cell_type": "code",
      "metadata": {
        "id": "BUDI0Rj-3xXg",
        "outputId": "22a10e30-654b-4d57-eb6b-7ef81b5813a6",
        "colab": {
          "base_uri": "https://localhost:8080/",
          "height": 295
        }
      },
      "source": [
        "# More graphs of loss and accuracy\n",
        "history_dict = hist.history\n",
        "loss = history_dict['loss']\n",
        "val_loss = history_dict['val_loss']\n",
        "\n",
        "epochs = range(1, len(loss) + 1)\n",
        "\n",
        "plt.figure(figsize=(14, 4))\n",
        "\n",
        "plt.subplot(1,2,1)\n",
        "plt.plot(epochs, loss, 'go-', label='Training Loss')\n",
        "plt.plot(epochs, val_loss, 'bd', label='Validation Loss')\n",
        "plt.plot(np.argmin(np.array(val_loss))+1,val_loss[np.argmin(np.array(val_loss))], 'r*', ms=12)\n",
        "plt.title('Training and Validation Loss, min: ' + str(np.round(val_loss[np.argmin(np.array(val_loss))],4)))\n",
        "plt.xlabel('Epochs')\n",
        "plt.ylabel('Loss')\n",
        "plt.legend()\n",
        "\n",
        "acc = history_dict['accuracy']\n",
        "val_acc = history_dict['val_accuracy']\n",
        "\n",
        "epochs = range(1, len(loss) + 1)\n",
        "\n",
        "plt.subplot(1,2,2)\n",
        "plt.plot(epochs, acc, 'go-', label='Training Accuracy') #, c='blue')\n",
        "plt.plot(epochs, val_acc, 'bd', label='Validation Accuracy') #, c='red')\n",
        "plt.plot(np.argmax(np.array(val_acc))+1,val_acc[np.argmax(np.array(val_acc))], 'r*', ms=12)\n",
        "plt.title('Training and Validation Accuracy, max: ' + str(np.round(val_acc[np.argmax(np.array(val_acc))],4)))\n",
        "plt.xlabel('Epochs')\n",
        "plt.ylabel('Accuracy')\n",
        "plt.legend()\n",
        "plt.show()"
      ],
      "execution_count": 34,
      "outputs": [
        {
          "output_type": "display_data",
          "data": {
            "image/png": "[encoded data removed]",
            "text/plain": [
              "<Figure size 1008x288 with 2 Axes>"
            ]
          },
          "metadata": {
            "needs_background": "light"
          }
        }
      ]
    },
    {
      "cell_type": "markdown",
      "metadata": {
        "id": "FQ91PoNC4Mcw"
      },
      "source": [
        "### Best model\n",
        "- mnist_c2f3_best_weights.009-0.9939.hdf5"
      ]
    },
    {
      "cell_type": "code",
      "metadata": {
        "id": "n6PiNUwB4GUf",
        "outputId": "84d81bae-a400-4911-e390-4e9a940604f1",
        "colab": {
          "base_uri": "https://localhost:8080/"
        }
      },
      "source": [
        "from keras.models import load_model\n",
        "\n",
        "model = load_model('mnist_c2f3_best_weights.009-0.9939.hdf5')\n",
        "model.evaluate(X_test, y_test, batch_size=100)"
      ],
      "execution_count": 35,
      "outputs": [
        {
          "output_type": "stream",
          "name": "stdout",
          "text": [
            "100/100 [==============================] - 1s 5ms/step - loss: 0.0216 - accuracy: 0.9939\n"
          ]
        },
        {
          "output_type": "execute_result",
          "data": {
            "text/plain": [
              "[0.021591506898403168, 0.9939000010490417]"
            ]
          },
          "metadata": {},
          "execution_count": 35
        }
      ]
    },
    {
      "cell_type": "markdown",
      "metadata": {
        "id": "GkTGIOFz0TDK"
      },
      "source": [
        "***"
      ]
    },
    {
      "cell_type": "markdown",
      "metadata": {
        "id": "PHiuK2xu0WSE"
      },
      "source": [
        "## [Next] fashion mnist model의 best model을 구하시오.\n",
        "\n",
        "> fashion mnist 데이터 로딩\n",
        "```\n",
        "from keras.datasets import fashion_mnist\n",
        "(X_train0, y_train0), (X_test0, y_test0) = fashion_mnist.load_data()\n",
        "```"
      ]
    },
    {
      "cell_type": "markdown",
      "metadata": {
        "id": "GeJOGHI2rvQw"
      },
      "source": [
        "---"
      ]
    }
  ]
}