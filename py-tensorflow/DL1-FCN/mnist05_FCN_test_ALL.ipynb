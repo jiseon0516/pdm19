{
  "nbformat": 4,
  "nbformat_minor": 0,
  "metadata": {
    "colab": {
      "name": "tf2_4_mnist_FCN_test_ALL.ipynb",
      "provenance": [],
      "collapsed_sections": [],
      "include_colab_link": true
    },
    "kernelspec": {
      "name": "python3",
      "display_name": "Python 3"
    },
    "accelerator": "GPU"
  },
  "cells": [
    {
      "cell_type": "markdown",
      "metadata": {
        "id": "view-in-github",
        "colab_type": "text"
      },
      "source": [
        "<a href=\"https://colab.research.google.com/github/jiseon0516/pdm19/blob/main/py-tensorflow/DL1-FCN/mnist05_FCN_test_ALL.ipynb\" target=\"_parent\"><img src=\"https://colab.research.google.com/assets/colab-badge.svg\" alt=\"Open In Colab\"/></a>"
      ]
    },
    {
      "cell_type": "markdown",
      "metadata": {
        "id": "eKScslg0Bk1E"
      },
      "source": [
        "## DNN (Deep Neural Networks) 구현 방법\n",
        "> - Sequential model\n",
        "> - Functional model\n",
        "> - Subclassing model"
      ]
    },
    {
      "cell_type": "markdown",
      "metadata": {
        "id": "rswfCVLZ-QW0"
      },
      "source": [
        "# **Test of mnist FCN model**\n",
        "## Sequential model\n",
        "- FCN2\n",
        "- FCN3\n",
        "- FCN4\n",
        "- FCN5\n",
        "\n",
        "***\n",
        "\n",
        "![mnist_NN_2_layers](https://raw.githubusercontent.com/Redwoods/Py/master/pdm2020/my-note/py-tensorflow/images/mnist_NN_2_layers.png)"
      ]
    },
    {
      "cell_type": "code",
      "metadata": {
        "id": "8GgGzPXPVyfa",
        "colab": {
          "base_uri": "https://localhost:8080/"
        },
        "outputId": "1f4ab71e-cad3-4a7e-9310-75352151dbc8"
      },
      "source": [
        "import numpy as np\n",
        "import tensorflow as tf\n",
        "from tensorflow import keras\n",
        "import pandas as pd\n",
        "import matplotlib.pyplot as plt\n",
        "# %matplotlib inline\n",
        "\n",
        "print(tf.__version__)"
      ],
      "execution_count": 1,
      "outputs": [
        {
          "output_type": "stream",
          "name": "stdout",
          "text": [
            "2.7.0\n"
          ]
        }
      ]
    },
    {
      "cell_type": "markdown",
      "metadata": {
        "id": "-0IOOUM14Jk1"
      },
      "source": [
        "## **데이터 로딩, 정규화**"
      ]
    },
    {
      "cell_type": "code",
      "metadata": {
        "id": "N1ogJ7I64Fz-",
        "colab": {
          "base_uri": "https://localhost:8080/"
        },
        "outputId": "8bf8de35-c8f2-48c0-a00b-4a638b19e6ba"
      },
      "source": [
        "from keras.datasets import mnist\n",
        "\n",
        "(X_train, y_train), (X_test, y_test) = mnist.load_data()\n",
        "X_train, X_test = X_train/255.0, X_test/255.0 # 정규화\n",
        "\n",
        "print(\"X_train={0}\".format(X_train.shape))\n",
        "print(\"y_train={0}\".format(y_train.shape)) \n",
        "print(\"X_test={0}\".format(X_test.shape))\n",
        "print(\"y_test={0}\".format(y_test.shape))"
      ],
      "execution_count": 2,
      "outputs": [
        {
          "output_type": "stream",
          "name": "stdout",
          "text": [
            "Downloading data from https://storage.googleapis.com/tensorflow/tf-keras-datasets/mnist.npz\n",
            "11493376/11490434 [==============================] - 0s 0us/step\n",
            "11501568/11490434 [==============================] - 0s 0us/step\n",
            "X_train=(60000, 28, 28)\n",
            "y_train=(60000,)\n",
            "X_test=(10000, 28, 28)\n",
            "y_test=(10000,)\n"
          ]
        }
      ]
    },
    {
      "cell_type": "code",
      "metadata": {
        "id": "F46-QZqJHiQ6"
      },
      "source": [
        "# One-Hot-Encoding\n",
        "# Use function to_categorical() to do One-Hot-Encoding\n",
        "# tf.keras.utils.to_categorical\n",
        "from tensorflow.keras.utils import to_categorical\n",
        "\n",
        "y_train = to_categorical(y_train, 10) #categorical형태로 변환\n",
        "y_test = to_categorical(y_test, 10)"
      ],
      "execution_count": 3,
      "outputs": []
    },
    {
      "cell_type": "markdown",
      "metadata": {
        "id": "pkaGYiPY4L4J"
      },
      "source": [
        "## **FCN2**"
      ]
    },
    {
      "cell_type": "code",
      "metadata": {
        "id": "-LL0E4UX4Nj-"
      },
      "source": [
        "# Set random number seed here!\n",
        "np.random.seed(1234)\n",
        "tf.random.set_seed(1234)\n",
        "\n",
        "fcn2 = keras.models.Sequential([\n",
        "    keras.layers.Flatten(input_shape=(28, 28)), #입력을 평평하게 => 784\n",
        "    keras.layers.Dense(128, activation='relu'),  \n",
        "    keras.layers.Dropout(0.25), \n",
        "    keras.layers.Dense(10, activation='softmax')\n",
        "])\n",
        "\n",
        "fcn2.compile(optimizer='adam',\n",
        "              loss='categorical_crossentropy',\n",
        "              metrics=['accuracy']) "
      ],
      "execution_count": 4,
      "outputs": []
    },
    {
      "cell_type": "code",
      "metadata": {
        "id": "3r9oCDEN4UGu",
        "colab": {
          "base_uri": "https://localhost:8080/"
        },
        "outputId": "655078a2-7e93-417c-ec4a-84a711a81cec"
      },
      "source": [
        "fcn2.summary()"
      ],
      "execution_count": 5,
      "outputs": [
        {
          "output_type": "stream",
          "name": "stdout",
          "text": [
            "Model: \"sequential\"\n",
            "_________________________________________________________________\n",
            " Layer (type)                Output Shape              Param #   \n",
            "=================================================================\n",
            " flatten (Flatten)           (None, 784)               0         \n",
            "                                                                 \n",
            " dense (Dense)               (None, 128)               100480    \n",
            "                                                                 \n",
            " dropout (Dropout)           (None, 128)               0         \n",
            "                                                                 \n",
            " dense_1 (Dense)             (None, 10)                1290      \n",
            "                                                                 \n",
            "=================================================================\n",
            "Total params: 101,770\n",
            "Trainable params: 101,770\n",
            "Non-trainable params: 0\n",
            "_________________________________________________________________\n"
          ]
        }
      ]
    },
    {
      "cell_type": "code",
      "metadata": {
        "id": "E5P-W0384WCv",
        "colab": {
          "base_uri": "https://localhost:8080/"
        },
        "outputId": "741bbca0-219c-4da4-e5ed-25140f9045c4"
      },
      "source": [
        "fcn2.fit(X_train, y_train, \n",
        "         epochs = 20,  \n",
        "         batch_size = 100,\n",
        "         validation_data=(X_test, y_test))"
      ],
      "execution_count": 6,
      "outputs": [
        {
          "output_type": "stream",
          "name": "stdout",
          "text": [
            "Epoch 1/20\n",
            "600/600 [==============================] - 4s 4ms/step - loss: 0.3881 - accuracy: 0.8886 - val_loss: 0.1856 - val_accuracy: 0.9446\n",
            "Epoch 2/20\n",
            "600/600 [==============================] - 2s 4ms/step - loss: 0.1891 - accuracy: 0.9452 - val_loss: 0.1277 - val_accuracy: 0.9620\n",
            "Epoch 3/20\n",
            "600/600 [==============================] - 2s 4ms/step - loss: 0.1438 - accuracy: 0.9578 - val_loss: 0.1041 - val_accuracy: 0.9690\n",
            "Epoch 4/20\n",
            "600/600 [==============================] - 2s 4ms/step - loss: 0.1186 - accuracy: 0.9658 - val_loss: 0.0902 - val_accuracy: 0.9733\n",
            "Epoch 5/20\n",
            "600/600 [==============================] - 2s 4ms/step - loss: 0.1024 - accuracy: 0.9698 - val_loss: 0.0843 - val_accuracy: 0.9743\n",
            "Epoch 6/20\n",
            "600/600 [==============================] - 2s 4ms/step - loss: 0.0907 - accuracy: 0.9727 - val_loss: 0.0777 - val_accuracy: 0.9761\n",
            "Epoch 7/20\n",
            "600/600 [==============================] - 2s 4ms/step - loss: 0.0816 - accuracy: 0.9747 - val_loss: 0.0800 - val_accuracy: 0.9759\n",
            "Epoch 8/20\n",
            "600/600 [==============================] - 2s 4ms/step - loss: 0.0722 - accuracy: 0.9775 - val_loss: 0.0774 - val_accuracy: 0.9760\n",
            "Epoch 9/20\n",
            "600/600 [==============================] - 2s 4ms/step - loss: 0.0677 - accuracy: 0.9792 - val_loss: 0.0699 - val_accuracy: 0.9779\n",
            "Epoch 10/20\n",
            "600/600 [==============================] - 2s 4ms/step - loss: 0.0622 - accuracy: 0.9807 - val_loss: 0.0695 - val_accuracy: 0.9780\n",
            "Epoch 11/20\n",
            "600/600 [==============================] - 2s 4ms/step - loss: 0.0572 - accuracy: 0.9818 - val_loss: 0.0673 - val_accuracy: 0.9805\n",
            "Epoch 12/20\n",
            "600/600 [==============================] - 2s 4ms/step - loss: 0.0520 - accuracy: 0.9837 - val_loss: 0.0706 - val_accuracy: 0.9787\n",
            "Epoch 13/20\n",
            "600/600 [==============================] - 2s 4ms/step - loss: 0.0498 - accuracy: 0.9847 - val_loss: 0.0677 - val_accuracy: 0.9800\n",
            "Epoch 14/20\n",
            "600/600 [==============================] - 2s 4ms/step - loss: 0.0471 - accuracy: 0.9844 - val_loss: 0.0683 - val_accuracy: 0.9792\n",
            "Epoch 15/20\n",
            "600/600 [==============================] - 2s 4ms/step - loss: 0.0430 - accuracy: 0.9863 - val_loss: 0.0704 - val_accuracy: 0.9791\n",
            "Epoch 16/20\n",
            "600/600 [==============================] - 2s 4ms/step - loss: 0.0416 - accuracy: 0.9861 - val_loss: 0.0677 - val_accuracy: 0.9801\n",
            "Epoch 17/20\n",
            "600/600 [==============================] - 2s 4ms/step - loss: 0.0393 - accuracy: 0.9872 - val_loss: 0.0678 - val_accuracy: 0.9800\n",
            "Epoch 18/20\n",
            "600/600 [==============================] - 2s 4ms/step - loss: 0.0376 - accuracy: 0.9877 - val_loss: 0.0643 - val_accuracy: 0.9804\n",
            "Epoch 19/20\n",
            "600/600 [==============================] - 2s 4ms/step - loss: 0.0356 - accuracy: 0.9874 - val_loss: 0.0684 - val_accuracy: 0.9794\n",
            "Epoch 20/20\n",
            "600/600 [==============================] - 2s 4ms/step - loss: 0.0341 - accuracy: 0.9884 - val_loss: 0.0664 - val_accuracy: 0.9807\n"
          ]
        },
        {
          "output_type": "execute_result",
          "data": {
            "text/plain": [
              "<keras.callbacks.History at 0x7efe000ec350>"
            ]
          },
          "metadata": {},
          "execution_count": 6
        }
      ]
    },
    {
      "cell_type": "code",
      "metadata": {
        "id": "JTLIG-8Y4guU",
        "colab": {
          "base_uri": "https://localhost:8080/"
        },
        "outputId": "c8768001-edd2-440d-dea9-2f43d9d59295"
      },
      "source": [
        "fcn2.evaluate(X_test, y_test, batch_size =100)"
      ],
      "execution_count": 7,
      "outputs": [
        {
          "output_type": "stream",
          "name": "stdout",
          "text": [
            "100/100 [==============================] - 0s 3ms/step - loss: 0.0664 - accuracy: 0.9807\n"
          ]
        },
        {
          "output_type": "execute_result",
          "data": {
            "text/plain": [
              "[0.06635012477636337, 0.9807000160217285]"
            ]
          },
          "metadata": {},
          "execution_count": 7
        }
      ]
    },
    {
      "cell_type": "markdown",
      "metadata": {
        "id": "zYsilPV-d68h"
      },
      "source": [
        "## **FCN3**"
      ]
    },
    {
      "cell_type": "code",
      "metadata": {
        "id": "ru3C9Fdb5MJ9"
      },
      "source": [
        "# Set random number seed here!\n",
        "np.random.seed(1234)\n",
        "tf.random.set_seed(1234)\n",
        "\n",
        "fcn3 = tf.keras.models.Sequential([ \n",
        "    tf.keras.layers.Flatten(input_shape=(28, 28)),\n",
        "    tf.keras.layers.Dense(256, activation='relu'),  \n",
        "    tf.keras.layers.Dropout(0.25),\n",
        "    tf.keras.layers.Dense(128, activation='relu'),  \n",
        "    tf.keras.layers.Dropout(0.25), \n",
        "    tf.keras.layers.Dense(10, activation='softmax')\n",
        "])\n",
        "\n",
        "fcn3.compile(optimizer='adam',\n",
        "              loss='categorical_crossentropy',\n",
        "              metrics=['accuracy']) "
      ],
      "execution_count": 8,
      "outputs": []
    },
    {
      "cell_type": "code",
      "metadata": {
        "id": "WUKcSnnc5XcD",
        "colab": {
          "base_uri": "https://localhost:8080/"
        },
        "outputId": "c9036f30-b09d-4cdf-a4aa-d3e0454c2e10"
      },
      "source": [
        "fcn3.summary()"
      ],
      "execution_count": 9,
      "outputs": [
        {
          "output_type": "stream",
          "name": "stdout",
          "text": [
            "Model: \"sequential_1\"\n",
            "_________________________________________________________________\n",
            " Layer (type)                Output Shape              Param #   \n",
            "=================================================================\n",
            " flatten_1 (Flatten)         (None, 784)               0         \n",
            "                                                                 \n",
            " dense_2 (Dense)             (None, 256)               200960    \n",
            "                                                                 \n",
            " dropout_1 (Dropout)         (None, 256)               0         \n",
            "                                                                 \n",
            " dense_3 (Dense)             (None, 128)               32896     \n",
            "                                                                 \n",
            " dropout_2 (Dropout)         (None, 128)               0         \n",
            "                                                                 \n",
            " dense_4 (Dense)             (None, 10)                1290      \n",
            "                                                                 \n",
            "=================================================================\n",
            "Total params: 235,146\n",
            "Trainable params: 235,146\n",
            "Non-trainable params: 0\n",
            "_________________________________________________________________\n"
          ]
        }
      ]
    },
    {
      "cell_type": "code",
      "metadata": {
        "id": "WHnUbwan5Zq7",
        "colab": {
          "base_uri": "https://localhost:8080/"
        },
        "outputId": "e3a4b9f6-773e-4de7-dac4-8007a36a2733"
      },
      "source": [
        "fcn3.fit(X_train,y_train, epochs= 20 , batch_size =100,\n",
        "         validation_data=(X_test, y_test))"
      ],
      "execution_count": 10,
      "outputs": [
        {
          "output_type": "stream",
          "name": "stdout",
          "text": [
            "Epoch 1/20\n",
            "600/600 [==============================] - 3s 4ms/step - loss: 0.3509 - accuracy: 0.8951 - val_loss: 0.1301 - val_accuracy: 0.9599\n",
            "Epoch 2/20\n",
            "600/600 [==============================] - 3s 4ms/step - loss: 0.1500 - accuracy: 0.9555 - val_loss: 0.0962 - val_accuracy: 0.9702\n",
            "Epoch 3/20\n",
            "600/600 [==============================] - 2s 4ms/step - loss: 0.1109 - accuracy: 0.9673 - val_loss: 0.0788 - val_accuracy: 0.9747\n",
            "Epoch 4/20\n",
            "600/600 [==============================] - 2s 4ms/step - loss: 0.0886 - accuracy: 0.9732 - val_loss: 0.0736 - val_accuracy: 0.9765\n",
            "Epoch 5/20\n",
            "600/600 [==============================] - 2s 4ms/step - loss: 0.0753 - accuracy: 0.9767 - val_loss: 0.0707 - val_accuracy: 0.9769\n",
            "Epoch 6/20\n",
            "600/600 [==============================] - 2s 4ms/step - loss: 0.0683 - accuracy: 0.9782 - val_loss: 0.0621 - val_accuracy: 0.9811\n",
            "Epoch 7/20\n",
            "600/600 [==============================] - 3s 4ms/step - loss: 0.0582 - accuracy: 0.9814 - val_loss: 0.0665 - val_accuracy: 0.9775\n",
            "Epoch 8/20\n",
            "600/600 [==============================] - 3s 4ms/step - loss: 0.0527 - accuracy: 0.9831 - val_loss: 0.0631 - val_accuracy: 0.9812\n",
            "Epoch 9/20\n",
            "600/600 [==============================] - 2s 4ms/step - loss: 0.0469 - accuracy: 0.9851 - val_loss: 0.0604 - val_accuracy: 0.9820\n",
            "Epoch 10/20\n",
            "600/600 [==============================] - 2s 4ms/step - loss: 0.0455 - accuracy: 0.9856 - val_loss: 0.0638 - val_accuracy: 0.9818\n",
            "Epoch 11/20\n",
            "600/600 [==============================] - 3s 4ms/step - loss: 0.0403 - accuracy: 0.9865 - val_loss: 0.0677 - val_accuracy: 0.9822\n",
            "Epoch 12/20\n",
            "600/600 [==============================] - 3s 4ms/step - loss: 0.0384 - accuracy: 0.9873 - val_loss: 0.0642 - val_accuracy: 0.9827\n",
            "Epoch 13/20\n",
            "600/600 [==============================] - 2s 4ms/step - loss: 0.0373 - accuracy: 0.9878 - val_loss: 0.0727 - val_accuracy: 0.9817\n",
            "Epoch 14/20\n",
            "600/600 [==============================] - 2s 4ms/step - loss: 0.0345 - accuracy: 0.9886 - val_loss: 0.0715 - val_accuracy: 0.9820\n",
            "Epoch 15/20\n",
            "600/600 [==============================] - 2s 4ms/step - loss: 0.0311 - accuracy: 0.9901 - val_loss: 0.0726 - val_accuracy: 0.9816\n",
            "Epoch 16/20\n",
            "600/600 [==============================] - 2s 4ms/step - loss: 0.0322 - accuracy: 0.9895 - val_loss: 0.0702 - val_accuracy: 0.9828\n",
            "Epoch 17/20\n",
            "600/600 [==============================] - 2s 4ms/step - loss: 0.0291 - accuracy: 0.9901 - val_loss: 0.0653 - val_accuracy: 0.9837\n",
            "Epoch 18/20\n",
            "600/600 [==============================] - 2s 4ms/step - loss: 0.0280 - accuracy: 0.9905 - val_loss: 0.0678 - val_accuracy: 0.9828\n",
            "Epoch 19/20\n",
            "600/600 [==============================] - 3s 4ms/step - loss: 0.0277 - accuracy: 0.9908 - val_loss: 0.0716 - val_accuracy: 0.9836\n",
            "Epoch 20/20\n",
            "600/600 [==============================] - 2s 4ms/step - loss: 0.0254 - accuracy: 0.9914 - val_loss: 0.0730 - val_accuracy: 0.9839\n"
          ]
        },
        {
          "output_type": "execute_result",
          "data": {
            "text/plain": [
              "<keras.callbacks.History at 0x7efd8f8a4bd0>"
            ]
          },
          "metadata": {},
          "execution_count": 10
        }
      ]
    },
    {
      "cell_type": "code",
      "metadata": {
        "id": "kTaGJMFG7FbH",
        "colab": {
          "base_uri": "https://localhost:8080/"
        },
        "outputId": "fbdf0ec5-47f9-4d4c-d3bd-accd3f7115c4"
      },
      "source": [
        "fcn3.evaluate(X_test, y_test, batch_size= 100)"
      ],
      "execution_count": 11,
      "outputs": [
        {
          "output_type": "stream",
          "name": "stdout",
          "text": [
            "100/100 [==============================] - 0s 3ms/step - loss: 0.0730 - accuracy: 0.9839\n"
          ]
        },
        {
          "output_type": "execute_result",
          "data": {
            "text/plain": [
              "[0.07300961762666702, 0.9839000105857849]"
            ]
          },
          "metadata": {},
          "execution_count": 11
        }
      ]
    },
    {
      "cell_type": "markdown",
      "metadata": {
        "id": "7Z6DJJUCei-s"
      },
      "source": [
        "## **FCN4**"
      ]
    },
    {
      "cell_type": "code",
      "metadata": {
        "id": "pV3NFglM7P65"
      },
      "source": [
        "# Set random number seed here!\n",
        "np.random.seed(1234)\n",
        "tf.random.set_seed(1234)\n",
        "\n",
        "fcn4 = tf.keras.models.Sequential([ \n",
        "    tf.keras.layers.Flatten(input_shape=(28, 28)),\n",
        "    tf.keras.layers.Dense(256, activation='relu'),  \n",
        "    tf.keras.layers.Dropout(0.25),\n",
        "    tf.keras.layers.Dense(128, activation='relu'),  \n",
        "    tf.keras.layers.Dropout(0.25),\n",
        "    tf.keras.layers.Dense(64, activation='relu'),  \n",
        "    tf.keras.layers.Dropout(0.25), \n",
        "    tf.keras.layers.Dense(10, activation='softmax')\n",
        "])\n",
        "\n",
        "fcn4.compile(optimizer='adam',\n",
        "              loss='categorical_crossentropy',\n",
        "              metrics=['accuracy']) "
      ],
      "execution_count": 12,
      "outputs": []
    },
    {
      "cell_type": "code",
      "metadata": {
        "id": "OGtCiKy57YkR",
        "colab": {
          "base_uri": "https://localhost:8080/"
        },
        "outputId": "3bcac79b-3501-419e-e13f-6f642bd72ecd"
      },
      "source": [
        "fcn4.summary()"
      ],
      "execution_count": 13,
      "outputs": [
        {
          "output_type": "stream",
          "name": "stdout",
          "text": [
            "Model: \"sequential_2\"\n",
            "_________________________________________________________________\n",
            " Layer (type)                Output Shape              Param #   \n",
            "=================================================================\n",
            " flatten_2 (Flatten)         (None, 784)               0         \n",
            "                                                                 \n",
            " dense_5 (Dense)             (None, 256)               200960    \n",
            "                                                                 \n",
            " dropout_3 (Dropout)         (None, 256)               0         \n",
            "                                                                 \n",
            " dense_6 (Dense)             (None, 128)               32896     \n",
            "                                                                 \n",
            " dropout_4 (Dropout)         (None, 128)               0         \n",
            "                                                                 \n",
            " dense_7 (Dense)             (None, 64)                8256      \n",
            "                                                                 \n",
            " dropout_5 (Dropout)         (None, 64)                0         \n",
            "                                                                 \n",
            " dense_8 (Dense)             (None, 10)                650       \n",
            "                                                                 \n",
            "=================================================================\n",
            "Total params: 242,762\n",
            "Trainable params: 242,762\n",
            "Non-trainable params: 0\n",
            "_________________________________________________________________\n"
          ]
        }
      ]
    },
    {
      "cell_type": "code",
      "metadata": {
        "id": "94GWWQt-7eRS",
        "colab": {
          "base_uri": "https://localhost:8080/"
        },
        "outputId": "802f3e50-6140-48fe-bc41-13c778c25afb"
      },
      "source": [
        "fcn4.fit(X_train, y_train, epochs = 20 , batch_size =100,\n",
        "         validation_data=(X_test, y_test))"
      ],
      "execution_count": 14,
      "outputs": [
        {
          "output_type": "stream",
          "name": "stdout",
          "text": [
            "Epoch 1/20\n",
            "600/600 [==============================] - 3s 5ms/step - loss: 0.4134 - accuracy: 0.8760 - val_loss: 0.1458 - val_accuracy: 0.9557\n",
            "Epoch 2/20\n",
            "600/600 [==============================] - 3s 4ms/step - loss: 0.1756 - accuracy: 0.9502 - val_loss: 0.1046 - val_accuracy: 0.9677\n",
            "Epoch 3/20\n",
            "600/600 [==============================] - 3s 4ms/step - loss: 0.1318 - accuracy: 0.9625 - val_loss: 0.0930 - val_accuracy: 0.9716\n",
            "Epoch 4/20\n",
            "600/600 [==============================] - 3s 4ms/step - loss: 0.1108 - accuracy: 0.9680 - val_loss: 0.0819 - val_accuracy: 0.9753\n",
            "Epoch 5/20\n",
            "600/600 [==============================] - 3s 4ms/step - loss: 0.0953 - accuracy: 0.9718 - val_loss: 0.0788 - val_accuracy: 0.9763\n",
            "Epoch 6/20\n",
            "600/600 [==============================] - 3s 4ms/step - loss: 0.0821 - accuracy: 0.9762 - val_loss: 0.0705 - val_accuracy: 0.9791\n",
            "Epoch 7/20\n",
            "600/600 [==============================] - 3s 4ms/step - loss: 0.0738 - accuracy: 0.9778 - val_loss: 0.0744 - val_accuracy: 0.9779\n",
            "Epoch 8/20\n",
            "600/600 [==============================] - 3s 4ms/step - loss: 0.0654 - accuracy: 0.9804 - val_loss: 0.0738 - val_accuracy: 0.9793\n",
            "Epoch 9/20\n",
            "600/600 [==============================] - 3s 4ms/step - loss: 0.0611 - accuracy: 0.9815 - val_loss: 0.0635 - val_accuracy: 0.9817\n",
            "Epoch 10/20\n",
            "600/600 [==============================] - 3s 4ms/step - loss: 0.0565 - accuracy: 0.9831 - val_loss: 0.0753 - val_accuracy: 0.9796\n",
            "Epoch 11/20\n",
            "600/600 [==============================] - 3s 4ms/step - loss: 0.0549 - accuracy: 0.9833 - val_loss: 0.0678 - val_accuracy: 0.9800\n",
            "Epoch 12/20\n",
            "600/600 [==============================] - 3s 4ms/step - loss: 0.0502 - accuracy: 0.9843 - val_loss: 0.0724 - val_accuracy: 0.9800\n",
            "Epoch 13/20\n",
            "600/600 [==============================] - 3s 4ms/step - loss: 0.0484 - accuracy: 0.9855 - val_loss: 0.0704 - val_accuracy: 0.9806\n",
            "Epoch 14/20\n",
            "600/600 [==============================] - 3s 4ms/step - loss: 0.0454 - accuracy: 0.9865 - val_loss: 0.0714 - val_accuracy: 0.9816\n",
            "Epoch 15/20\n",
            "600/600 [==============================] - 3s 4ms/step - loss: 0.0410 - accuracy: 0.9875 - val_loss: 0.0683 - val_accuracy: 0.9820\n",
            "Epoch 16/20\n",
            "600/600 [==============================] - 3s 4ms/step - loss: 0.0399 - accuracy: 0.9878 - val_loss: 0.0674 - val_accuracy: 0.9822\n",
            "Epoch 17/20\n",
            "600/600 [==============================] - 3s 4ms/step - loss: 0.0388 - accuracy: 0.9879 - val_loss: 0.0751 - val_accuracy: 0.9797\n",
            "Epoch 18/20\n",
            "600/600 [==============================] - 3s 4ms/step - loss: 0.0369 - accuracy: 0.9889 - val_loss: 0.0763 - val_accuracy: 0.9812\n",
            "Epoch 19/20\n",
            "600/600 [==============================] - 3s 4ms/step - loss: 0.0350 - accuracy: 0.9892 - val_loss: 0.0692 - val_accuracy: 0.9831\n",
            "Epoch 20/20\n",
            "600/600 [==============================] - 3s 4ms/step - loss: 0.0332 - accuracy: 0.9895 - val_loss: 0.0688 - val_accuracy: 0.9823\n"
          ]
        },
        {
          "output_type": "execute_result",
          "data": {
            "text/plain": [
              "<keras.callbacks.History at 0x7efd90a45790>"
            ]
          },
          "metadata": {},
          "execution_count": 14
        }
      ]
    },
    {
      "cell_type": "code",
      "metadata": {
        "id": "0-7is2U49A6Z",
        "colab": {
          "base_uri": "https://localhost:8080/"
        },
        "outputId": "1b647e8c-b1f7-49a4-9614-ee0e990472de"
      },
      "source": [
        "fcn4.evaluate(X_test, y_test, batch_size =100)"
      ],
      "execution_count": 15,
      "outputs": [
        {
          "output_type": "stream",
          "name": "stdout",
          "text": [
            "100/100 [==============================] - 0s 3ms/step - loss: 0.0688 - accuracy: 0.9823\n"
          ]
        },
        {
          "output_type": "execute_result",
          "data": {
            "text/plain": [
              "[0.06880734115839005, 0.9822999835014343]"
            ]
          },
          "metadata": {},
          "execution_count": 15
        }
      ]
    },
    {
      "cell_type": "markdown",
      "metadata": {
        "id": "SUJxRQtafihM"
      },
      "source": [
        "## **FCN5**"
      ]
    },
    {
      "cell_type": "code",
      "metadata": {
        "id": "Nl5CyAymAB34"
      },
      "source": [
        "# Set random number seed here!\n",
        "np.random.seed(1234)\n",
        "tf.random.set_seed(1234)\n",
        "\n",
        "fcn5 = tf.keras.models.Sequential([ \n",
        "    tf.keras.layers.Flatten(input_shape=(28, 28)),\n",
        "    tf.keras.layers.Dense(256, activation='relu'), \n",
        "    tf.keras.layers.Dropout(0.25),\n",
        "    tf.keras.layers.Dense(128, activation='relu'),  \n",
        "    tf.keras.layers.Dropout(0.25),\n",
        "    tf.keras.layers.Dense(64, activation='relu'),  \n",
        "    tf.keras.layers.Dropout(0.25),\n",
        "    tf.keras.layers.Dense(32, activation='relu'),  \n",
        "    tf.keras.layers.Dropout(0.25), \n",
        "    tf.keras.layers.Dense(10, activation='softmax')\n",
        "])\n",
        "\n",
        "fcn5.compile(optimizer='adam',\n",
        "              loss='categorical_crossentropy',\n",
        "              metrics=['accuracy']) "
      ],
      "execution_count": 16,
      "outputs": []
    },
    {
      "cell_type": "code",
      "metadata": {
        "id": "gYxuGW_2ANL8",
        "colab": {
          "base_uri": "https://localhost:8080/"
        },
        "outputId": "fd3b902e-a24b-4fe5-b80f-2d4e16f08ee9"
      },
      "source": [
        "fcn5.summary()"
      ],
      "execution_count": 17,
      "outputs": [
        {
          "output_type": "stream",
          "name": "stdout",
          "text": [
            "Model: \"sequential_3\"\n",
            "_________________________________________________________________\n",
            " Layer (type)                Output Shape              Param #   \n",
            "=================================================================\n",
            " flatten_3 (Flatten)         (None, 784)               0         \n",
            "                                                                 \n",
            " dense_9 (Dense)             (None, 256)               200960    \n",
            "                                                                 \n",
            " dropout_6 (Dropout)         (None, 256)               0         \n",
            "                                                                 \n",
            " dense_10 (Dense)            (None, 128)               32896     \n",
            "                                                                 \n",
            " dropout_7 (Dropout)         (None, 128)               0         \n",
            "                                                                 \n",
            " dense_11 (Dense)            (None, 64)                8256      \n",
            "                                                                 \n",
            " dropout_8 (Dropout)         (None, 64)                0         \n",
            "                                                                 \n",
            " dense_12 (Dense)            (None, 32)                2080      \n",
            "                                                                 \n",
            " dropout_9 (Dropout)         (None, 32)                0         \n",
            "                                                                 \n",
            " dense_13 (Dense)            (None, 10)                330       \n",
            "                                                                 \n",
            "=================================================================\n",
            "Total params: 244,522\n",
            "Trainable params: 244,522\n",
            "Non-trainable params: 0\n",
            "_________________________________________________________________\n"
          ]
        }
      ]
    },
    {
      "cell_type": "code",
      "metadata": {
        "id": "lO1of4AOAQlV",
        "colab": {
          "base_uri": "https://localhost:8080/"
        },
        "outputId": "34ec2c22-c3ca-4df9-9a4a-1dc891b35b56"
      },
      "source": [
        "fcn5.fit(X_train, y_train, epochs=20, batch_size =100,\n",
        "         validation_data=(X_test, y_test))"
      ],
      "execution_count": 18,
      "outputs": [
        {
          "output_type": "stream",
          "name": "stdout",
          "text": [
            "Epoch 1/20\n",
            "600/600 [==============================] - 4s 5ms/step - loss: 0.5943 - accuracy: 0.8188 - val_loss: 0.1721 - val_accuracy: 0.9497\n",
            "Epoch 2/20\n",
            "600/600 [==============================] - 3s 5ms/step - loss: 0.2298 - accuracy: 0.9404 - val_loss: 0.1151 - val_accuracy: 0.9678\n",
            "Epoch 3/20\n",
            "600/600 [==============================] - 3s 5ms/step - loss: 0.1741 - accuracy: 0.9565 - val_loss: 0.1079 - val_accuracy: 0.9714\n",
            "Epoch 4/20\n",
            "600/600 [==============================] - 3s 5ms/step - loss: 0.1454 - accuracy: 0.9629 - val_loss: 0.0905 - val_accuracy: 0.9740\n",
            "Epoch 5/20\n",
            "600/600 [==============================] - 3s 5ms/step - loss: 0.1296 - accuracy: 0.9671 - val_loss: 0.0936 - val_accuracy: 0.9758\n",
            "Epoch 6/20\n",
            "600/600 [==============================] - 3s 5ms/step - loss: 0.1086 - accuracy: 0.9724 - val_loss: 0.0824 - val_accuracy: 0.9778\n",
            "Epoch 7/20\n",
            "600/600 [==============================] - 3s 5ms/step - loss: 0.1024 - accuracy: 0.9736 - val_loss: 0.0747 - val_accuracy: 0.9798\n",
            "Epoch 8/20\n",
            "600/600 [==============================] - 3s 5ms/step - loss: 0.0913 - accuracy: 0.9754 - val_loss: 0.0899 - val_accuracy: 0.9778\n",
            "Epoch 9/20\n",
            "600/600 [==============================] - 3s 4ms/step - loss: 0.0863 - accuracy: 0.9777 - val_loss: 0.0760 - val_accuracy: 0.9791\n",
            "Epoch 10/20\n",
            "600/600 [==============================] - 3s 5ms/step - loss: 0.0804 - accuracy: 0.9789 - val_loss: 0.0906 - val_accuracy: 0.9787\n",
            "Epoch 11/20\n",
            "600/600 [==============================] - 3s 5ms/step - loss: 0.0775 - accuracy: 0.9797 - val_loss: 0.0792 - val_accuracy: 0.9824\n",
            "Epoch 12/20\n",
            "600/600 [==============================] - 3s 5ms/step - loss: 0.0671 - accuracy: 0.9818 - val_loss: 0.0816 - val_accuracy: 0.9800\n",
            "Epoch 13/20\n",
            "600/600 [==============================] - 3s 5ms/step - loss: 0.0665 - accuracy: 0.9827 - val_loss: 0.0761 - val_accuracy: 0.9821\n",
            "Epoch 14/20\n",
            "600/600 [==============================] - 3s 5ms/step - loss: 0.0589 - accuracy: 0.9844 - val_loss: 0.0778 - val_accuracy: 0.9794\n",
            "Epoch 15/20\n",
            "600/600 [==============================] - 3s 5ms/step - loss: 0.0581 - accuracy: 0.9847 - val_loss: 0.0825 - val_accuracy: 0.9818\n",
            "Epoch 16/20\n",
            "600/600 [==============================] - 3s 5ms/step - loss: 0.0556 - accuracy: 0.9851 - val_loss: 0.0771 - val_accuracy: 0.9822\n",
            "Epoch 17/20\n",
            "600/600 [==============================] - 3s 5ms/step - loss: 0.0540 - accuracy: 0.9856 - val_loss: 0.0805 - val_accuracy: 0.9827\n",
            "Epoch 18/20\n",
            "600/600 [==============================] - 3s 5ms/step - loss: 0.0520 - accuracy: 0.9860 - val_loss: 0.0833 - val_accuracy: 0.9823\n",
            "Epoch 19/20\n",
            "600/600 [==============================] - 3s 5ms/step - loss: 0.0518 - accuracy: 0.9858 - val_loss: 0.0874 - val_accuracy: 0.9826\n",
            "Epoch 20/20\n",
            "600/600 [==============================] - 3s 5ms/step - loss: 0.0492 - accuracy: 0.9868 - val_loss: 0.0816 - val_accuracy: 0.9817\n"
          ]
        },
        {
          "output_type": "execute_result",
          "data": {
            "text/plain": [
              "<keras.callbacks.History at 0x7efd9090fb10>"
            ]
          },
          "metadata": {},
          "execution_count": 18
        }
      ]
    },
    {
      "cell_type": "code",
      "metadata": {
        "id": "W-eIxCasDBil",
        "colab": {
          "base_uri": "https://localhost:8080/"
        },
        "outputId": "87f20df9-19db-456f-f63b-2de953410909"
      },
      "source": [
        "fcn5.evaluate(X_test, y_test, batch_size = 100)"
      ],
      "execution_count": 19,
      "outputs": [
        {
          "output_type": "stream",
          "name": "stdout",
          "text": [
            "100/100 [==============================] - 0s 3ms/step - loss: 0.0816 - accuracy: 0.9817\n"
          ]
        },
        {
          "output_type": "execute_result",
          "data": {
            "text/plain": [
              "[0.08162161707878113, 0.9817000031471252]"
            ]
          },
          "metadata": {},
          "execution_count": 19
        }
      ]
    },
    {
      "cell_type": "markdown",
      "metadata": {
        "id": "5XYSVtC-DVsz"
      },
      "source": [
        "# **[DIY] Hidden layer에 따른 정확도**"
      ]
    },
    {
      "cell_type": "code",
      "metadata": {
        "id": "kBqCiGk1SD-B",
        "colab": {
          "base_uri": "https://localhost:8080/"
        },
        "outputId": "463bfefc-2783-498d-b861-8d6e26a13812"
      },
      "source": [
        "fcn2.evaluate(X_test, y_test, batch_size = 100)\n",
        "fcn3.evaluate(X_test, y_test, batch_size = 100)\n",
        "fcn4.evaluate(X_test, y_test, batch_size = 100)\n",
        "fcn5.evaluate(X_test, y_test, batch_size = 100)"
      ],
      "execution_count": 20,
      "outputs": [
        {
          "output_type": "stream",
          "name": "stdout",
          "text": [
            "100/100 [==============================] - 0s 3ms/step - loss: 0.0664 - accuracy: 0.9807\n",
            "100/100 [==============================] - 0s 3ms/step - loss: 0.0730 - accuracy: 0.9839\n",
            "100/100 [==============================] - 0s 3ms/step - loss: 0.0688 - accuracy: 0.9823\n",
            "100/100 [==============================] - 0s 3ms/step - loss: 0.0816 - accuracy: 0.9817\n"
          ]
        },
        {
          "output_type": "execute_result",
          "data": {
            "text/plain": [
              "[0.08162161707878113, 0.9817000031471252]"
            ]
          },
          "metadata": {},
          "execution_count": 20
        }
      ]
    },
    {
      "cell_type": "code",
      "metadata": {
        "id": "hPXHL7TTgIMf"
      },
      "source": [
        "fcn_result = [[0.0674, 0.9806], \n",
        " [0.07000, 0.9828], \n",
        " [0.0738, 0.9814], \n",
        " [0.0868, 0.9818]]"
      ],
      "execution_count": 21,
      "outputs": []
    },
    {
      "cell_type": "code",
      "metadata": {
        "id": "1kXd2NWlLmyZ",
        "colab": {
          "base_uri": "https://localhost:8080/"
        },
        "outputId": "f9c0bb80-e717-48da-fb59-a557e86ef7c4"
      },
      "source": [
        "# select accuracies\n",
        "accuracy = [row[1] for row in fcn_result]\n",
        "accuracy"
      ],
      "execution_count": 22,
      "outputs": [
        {
          "output_type": "execute_result",
          "data": {
            "text/plain": [
              "[0.9806, 0.9828, 0.9814, 0.9818]"
            ]
          },
          "metadata": {},
          "execution_count": 22
        }
      ]
    },
    {
      "cell_type": "code",
      "metadata": {
        "id": "vZv6a2aVRw9j",
        "colab": {
          "base_uri": "https://localhost:8080/",
          "height": 265
        },
        "outputId": "1fd61b62-8973-4b53-8bc1-83ceb6a4c245"
      },
      "source": [
        "x = np.arange(4) #0~3\n",
        "fcns = ['FCN2','FCN3','FCN4','FCN5']\n",
        "accuracies = [acc*100 for acc in accuracy] # (98)%\n",
        "\n",
        "plt.bar(x, accuracies)\n",
        "plt.xticks(x, fcns)\n",
        "# plt.ylim((95,100))\n",
        "plt.show()"
      ],
      "execution_count": 23,
      "outputs": [
        {
          "output_type": "display_data",
          "data": {
            "image/png": "[encoded data removed]",
            "text/plain": [
              "<Figure size 432x288 with 1 Axes>"
            ]
          },
          "metadata": {
            "needs_background": "light"
          }
        }
      ]
    },
    {
      "cell_type": "markdown",
      "metadata": {
        "id": "gBPKMI4y3fsa"
      },
      "source": [
        "## 모형의 저장\n",
        "\n",
        "- 트레이닝이 끝난 모형은 save 메서드로 가중치와 함께 hdf5 형식으로 저장\n",
        "- load 명령으로 불러 사용"
      ]
    },
    {
      "cell_type": "code",
      "metadata": {
        "id": "KCfbQl2v3fsa"
      },
      "source": [
        "fcn3.save('fcn3_best.hdf5')"
      ],
      "execution_count": 24,
      "outputs": []
    },
    {
      "cell_type": "code",
      "metadata": {
        "id": "b7-ysIVy3fse",
        "colab": {
          "base_uri": "https://localhost:8080/"
        },
        "outputId": "02765ab0-12dc-4bb1-df1d-85b3e7b07747"
      },
      "source": [
        "from keras.models import load_model\n",
        "\n",
        "model = load_model('fcn3_best.hdf5')\n",
        "model.evaluate(X_test, y_test, batch_size=100)"
      ],
      "execution_count": 25,
      "outputs": [
        {
          "output_type": "stream",
          "name": "stdout",
          "text": [
            "100/100 [==============================] - 0s 3ms/step - loss: 0.0730 - accuracy: 0.9839\n"
          ]
        },
        {
          "output_type": "execute_result",
          "data": {
            "text/plain": [
              "[0.07300961762666702, 0.9839000105857849]"
            ]
          },
          "metadata": {},
          "execution_count": 25
        }
      ]
    },
    {
      "cell_type": "markdown",
      "metadata": {
        "id": "o6YQKW13EBhB"
      },
      "source": [
        "---"
      ]
    }
  ]
}