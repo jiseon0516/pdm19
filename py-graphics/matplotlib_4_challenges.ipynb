{
  "nbformat": 4,
  "nbformat_minor": 0,
  "metadata": {
    "colab": {
      "name": "matplotlib_4_challenges.ipynb",
      "provenance": [],
      "collapsed_sections": [],
      "include_colab_link": true
    },
    "kernelspec": {
      "name": "python3",
      "display_name": "Python 3"
    }
  },
  "cells": [
    {
      "cell_type": "markdown",
      "metadata": {
        "id": "view-in-github",
        "colab_type": "text"
      },
      "source": [
        "<a href=\"https://colab.research.google.com/github/jiseon0516/pdm19/blob/main/py-graphics/matplotlib_4_challenges.ipynb\" target=\"_parent\"><img src=\"https://colab.research.google.com/assets/colab-badge.svg\" alt=\"Open In Colab\"/></a>"
      ]
    },
    {
      "cell_type": "markdown",
      "metadata": {
        "id": "9Wej-7GZ4f3N"
      },
      "source": [
        "# Challenge\n",
        "## Python module 2. **matplotlib**\n",
        "### Python graphics using matplotlib\n",
        "- Visualization\n",
        "- Front-end deployment to WEB or Mobile"
      ]
    },
    {
      "cell_type": "markdown",
      "metadata": {
        "id": "h6yEJiGJ4Lbk"
      },
      "source": [
        "### 무작위수 분포 그려보기"
      ]
    },
    {
      "cell_type": "markdown",
      "metadata": {
        "id": "b-JcgSU-Ktyz"
      },
      "source": [
        "### [도전1.] 균일분포와 정규분포를 비교하는 그림을 그리시오.\n",
        "- subplot 이용\n",
        "- style(제목, x-축 레이블, y-축 레이블, ...)\n",
        "\n",
        "> [hint] 검색: \"How to add title to subplots in Matplotlib?\""
      ]
    },
    {
      "cell_type": "code",
      "metadata": {
        "id": "2MxaFfKwhuYX"
      },
      "source": [
        "import numpy as np\n",
        "import matplotlib.pyplot as plt"
      ],
      "execution_count": 24,
      "outputs": []
    },
    {
      "cell_type": "code",
      "metadata": {
        "id": "k0XaT2f9JGZy",
        "colab": {
          "base_uri": "https://localhost:8080/",
          "height": 355
        },
        "outputId": "016f5d05-bf70-43d6-f740-2d62cb6065d9"
      },
      "source": [
        "plt.hist(np.random.rand(1000)) #균일 분포"
      ],
      "execution_count": 25,
      "outputs": [
        {
          "output_type": "execute_result",
          "data": {
            "text/plain": [
              "(array([ 95., 122.,  93., 101., 110.,  95., 102., 101.,  94.,  87.]),\n",
              " array([1.52855247e-06, 9.99890645e-02, 1.99976600e-01, 2.99964136e-01,\n",
              "        3.99951672e-01, 4.99939208e-01, 5.99926744e-01, 6.99914280e-01,\n",
              "        7.99901816e-01, 8.99889352e-01, 9.99876888e-01]),\n",
              " <a list of 10 Patch objects>)"
            ]
          },
          "metadata": {},
          "execution_count": 25
        },
        {
          "output_type": "display_data",
          "data": {
            "image/png": "[encoded data removed]",
            "text/plain": [
              "<Figure size 432x288 with 1 Axes>"
            ]
          },
          "metadata": {
            "needs_background": "light"
          }
        }
      ]
    },
    {
      "cell_type": "code",
      "metadata": {
        "id": "T8SCqKVeMhBF",
        "colab": {
          "base_uri": "https://localhost:8080/",
          "height": 355
        },
        "outputId": "d8f7fc8a-63bd-4644-f298-13ded449b84a"
      },
      "source": [
        "plt.hist(np.random.randn(1000)) #정규 분포"
      ],
      "execution_count": 26,
      "outputs": [
        {
          "output_type": "execute_result",
          "data": {
            "text/plain": [
              "(array([ 10.,  22.,  89., 167., 244., 225., 145.,  68.,  26.,   4.]),\n",
              " array([-2.96247685, -2.3472542 , -1.73203156, -1.11680891, -0.50158626,\n",
              "         0.11363638,  0.72885903,  1.34408168,  1.95930433,  2.57452697,\n",
              "         3.18974962]),\n",
              " <a list of 10 Patch objects>)"
            ]
          },
          "metadata": {},
          "execution_count": 26
        },
        {
          "output_type": "display_data",
          "data": {
            "image/png": "[encoded data removed]",
            "text/plain": [
              "<Figure size 432x288 with 1 Axes>"
            ]
          },
          "metadata": {
            "needs_background": "light"
          }
        }
      ]
    },
    {
      "cell_type": "code",
      "metadata": {
        "colab": {
          "base_uri": "https://localhost:8080/",
          "height": 295
        },
        "id": "NgIGXwQmjFRV",
        "outputId": "7951a02b-c07b-42b3-98a2-5e09129292c6"
      },
      "source": [
        "plt.subplot(121)\n",
        "plt.hist(np.random.rand(1000))\n",
        "plt.title(\"rand\")\n",
        "plt.xlabel(\"x\")\n",
        "plt.ylabel(\"f(x)\")\n",
        "\n",
        "plt.subplot(122)\n",
        "plt.hist(np.random.randn(1000))\n",
        "plt.title(\"randn\")\n",
        "plt.xlabel(\"x\")\n",
        "plt.ylabel(\"f(x)\")\n",
        "\n",
        "plt.show()"
      ],
      "execution_count": 27,
      "outputs": [
        {
          "output_type": "display_data",
          "data": {
            "image/png": "[encoded data removed]",
            "text/plain": [
              "<Figure size 432x288 with 2 Axes>"
            ]
          },
          "metadata": {
            "needs_background": "light"
          }
        }
      ]
    },
    {
      "cell_type": "markdown",
      "metadata": {
        "id": "fGahoS-hiat_"
      },
      "source": [
        "### supblot(121), subplot(122)"
      ]
    },
    {
      "cell_type": "markdown",
      "metadata": {
        "id": "D5XGB1v_PAeU"
      },
      "source": [
        "### [도전 2.] 0~9 사이의 무작위 정수 1000개를 만들어서 각 수의 빈도에 대한 히스토그램, 막대그래프, 꺽은선 그래프를 그리고 비교하시오.\n",
        "- subplot 이용\n",
        "- style(제목, x-축 레이블, y-축 레이블, ...)\n",
        "\n"
      ]
    },
    {
      "cell_type": "code",
      "metadata": {
        "colab": {
          "base_uri": "https://localhost:8080/"
        },
        "id": "TlygN7BbKZW1",
        "outputId": "cef6e6d1-989e-475d-a239-39b0d4051800"
      },
      "source": [
        "n1000 = np.random.randint(0,10,1000)\n",
        "n1000"
      ],
      "execution_count": 28,
      "outputs": [
        {
          "output_type": "execute_result",
          "data": {
            "text/plain": [
              "array([6, 4, 4, 5, 0, 9, 2, 3, 7, 5, 9, 5, 2, 7, 9, 7, 7, 7, 5, 2, 1, 1,\n",
              "       7, 4, 6, 1, 0, 9, 2, 3, 8, 7, 8, 4, 8, 9, 9, 8, 6, 0, 9, 9, 5, 0,\n",
              "       5, 8, 5, 4, 0, 4, 7, 9, 5, 2, 6, 6, 5, 6, 6, 1, 7, 1, 7, 9, 1, 0,\n",
              "       7, 1, 9, 4, 4, 0, 0, 8, 1, 4, 6, 6, 5, 0, 4, 9, 3, 8, 1, 3, 2, 3,\n",
              "       5, 5, 1, 9, 5, 3, 1, 5, 8, 5, 5, 5, 0, 5, 5, 4, 6, 6, 3, 0, 1, 3,\n",
              "       1, 7, 5, 1, 8, 2, 8, 8, 4, 5, 4, 2, 2, 1, 2, 4, 6, 4, 2, 8, 4, 5,\n",
              "       2, 6, 6, 4, 8, 5, 7, 7, 3, 9, 0, 7, 7, 3, 9, 1, 2, 0, 5, 2, 1, 1,\n",
              "       0, 3, 3, 5, 3, 9, 1, 9, 4, 2, 1, 7, 6, 4, 8, 9, 9, 9, 6, 7, 5, 3,\n",
              "       7, 7, 9, 4, 1, 6, 0, 3, 1, 3, 5, 5, 0, 5, 9, 8, 7, 9, 9, 9, 0, 3,\n",
              "       3, 6, 2, 9, 7, 9, 8, 7, 2, 3, 2, 2, 0, 1, 9, 5, 7, 3, 2, 2, 9, 8,\n",
              "       9, 5, 9, 0, 5, 0, 9, 2, 1, 0, 6, 7, 9, 5, 3, 2, 8, 6, 1, 7, 3, 5,\n",
              "       6, 6, 3, 7, 7, 0, 0, 1, 9, 7, 6, 2, 1, 7, 5, 6, 5, 6, 9, 8, 1, 3,\n",
              "       1, 1, 4, 8, 0, 9, 0, 9, 2, 1, 1, 4, 1, 2, 2, 0, 4, 2, 0, 5, 4, 9,\n",
              "       6, 2, 4, 3, 1, 5, 0, 1, 2, 7, 6, 4, 8, 5, 5, 4, 2, 9, 6, 0, 7, 1,\n",
              "       5, 4, 0, 7, 3, 7, 1, 5, 7, 9, 0, 7, 6, 3, 5, 0, 3, 2, 8, 9, 6, 8,\n",
              "       0, 1, 5, 9, 2, 1, 9, 8, 5, 4, 8, 1, 3, 6, 2, 5, 3, 0, 0, 1, 6, 1,\n",
              "       3, 1, 2, 7, 2, 8, 8, 3, 5, 3, 4, 2, 7, 2, 5, 2, 9, 6, 0, 7, 8, 0,\n",
              "       6, 4, 4, 9, 1, 5, 7, 2, 2, 6, 4, 4, 9, 2, 0, 7, 6, 1, 6, 0, 9, 8,\n",
              "       7, 3, 8, 8, 9, 4, 8, 1, 9, 9, 9, 2, 6, 7, 6, 0, 9, 6, 1, 0, 1, 6,\n",
              "       9, 0, 8, 4, 2, 3, 5, 0, 7, 8, 1, 2, 0, 6, 5, 7, 7, 1, 9, 9, 9, 9,\n",
              "       4, 2, 9, 3, 3, 6, 4, 0, 7, 8, 3, 0, 5, 2, 8, 9, 9, 6, 9, 9, 4, 4,\n",
              "       9, 9, 6, 4, 3, 9, 7, 5, 6, 0, 5, 2, 7, 5, 8, 8, 2, 8, 7, 4, 5, 3,\n",
              "       6, 8, 1, 4, 1, 4, 6, 6, 5, 9, 6, 0, 1, 6, 5, 2, 7, 9, 6, 4, 8, 5,\n",
              "       1, 0, 6, 8, 2, 8, 3, 3, 9, 0, 5, 9, 4, 1, 6, 4, 6, 2, 3, 6, 2, 6,\n",
              "       0, 4, 7, 3, 0, 0, 2, 1, 2, 8, 7, 4, 6, 5, 4, 6, 3, 1, 7, 6, 0, 2,\n",
              "       5, 6, 0, 0, 4, 6, 6, 1, 7, 4, 6, 2, 8, 0, 5, 4, 9, 3, 3, 8, 9, 6,\n",
              "       4, 3, 6, 5, 9, 5, 3, 9, 7, 1, 4, 1, 3, 9, 0, 7, 2, 6, 8, 9, 4, 1,\n",
              "       3, 6, 2, 0, 9, 5, 6, 3, 4, 6, 5, 4, 1, 2, 2, 6, 1, 7, 0, 8, 4, 4,\n",
              "       8, 2, 7, 4, 3, 0, 9, 6, 5, 7, 3, 4, 2, 6, 9, 5, 4, 2, 7, 7, 0, 8,\n",
              "       9, 8, 1, 4, 4, 4, 9, 8, 8, 6, 3, 1, 3, 5, 5, 3, 2, 8, 2, 0, 3, 1,\n",
              "       9, 4, 2, 0, 2, 2, 9, 9, 0, 9, 8, 4, 4, 1, 4, 1, 1, 0, 7, 7, 6, 5,\n",
              "       3, 1, 9, 8, 5, 4, 8, 4, 9, 1, 4, 5, 6, 4, 2, 6, 3, 0, 7, 2, 5, 9,\n",
              "       9, 5, 3, 8, 1, 0, 8, 3, 1, 0, 2, 3, 2, 1, 5, 1, 7, 7, 1, 5, 1, 0,\n",
              "       7, 9, 3, 0, 6, 7, 8, 6, 7, 5, 4, 9, 8, 1, 8, 7, 2, 3, 2, 3, 1, 7,\n",
              "       5, 9, 7, 8, 8, 6, 7, 0, 9, 4, 4, 8, 7, 0, 5, 5, 0, 2, 9, 4, 7, 0,\n",
              "       2, 5, 8, 7, 7, 2, 3, 9, 1, 8, 9, 8, 8, 8, 0, 2, 1, 1, 3, 1, 9, 4,\n",
              "       7, 7, 6, 0, 7, 3, 2, 2, 4, 8, 3, 9, 4, 3, 9, 3, 2, 3, 6, 4, 1, 3,\n",
              "       8, 4, 2, 6, 7, 3, 6, 2, 2, 0, 3, 4, 0, 5, 7, 7, 4, 6, 0, 9, 0, 4,\n",
              "       8, 6, 1, 6, 1, 3, 3, 7, 5, 2, 8, 1, 9, 4, 2, 4, 6, 9, 5, 3, 8, 8,\n",
              "       2, 0, 8, 2, 0, 4, 4, 1, 2, 5, 8, 8, 9, 1, 6, 6, 8, 0, 3, 0, 2, 4,\n",
              "       0, 5, 0, 0, 0, 8, 3, 5, 4, 3, 9, 8, 1, 0, 0, 6, 7, 9, 2, 4, 3, 8,\n",
              "       4, 0, 4, 3, 6, 8, 4, 5, 0, 1, 7, 9, 7, 2, 0, 0, 3, 9, 8, 3, 6, 7,\n",
              "       1, 3, 9, 3, 5, 4, 5, 5, 6, 5, 3, 4, 9, 8, 8, 6, 3, 7, 4, 6, 1, 0,\n",
              "       7, 8, 9, 2, 7, 5, 4, 4, 3, 3, 9, 7, 2, 0, 0, 7, 3, 0, 5, 7, 0, 8,\n",
              "       1, 4, 5, 4, 3, 2, 9, 3, 6, 0, 8, 3, 9, 8, 5, 2, 5, 5, 9, 4, 1, 8,\n",
              "       8, 7, 7, 0, 2, 4, 9, 0, 5, 1])"
            ]
          },
          "metadata": {},
          "execution_count": 28
        }
      ]
    },
    {
      "cell_type": "code",
      "metadata": {
        "id": "xza_yV8nMshU",
        "colab": {
          "base_uri": "https://localhost:8080/"
        },
        "outputId": "48f1b224-7858-4954-d262-545d4746c2f3"
      },
      "source": [
        "value, count= np.unique(n1000, return_counts=True)\n",
        "count"
      ],
      "execution_count": 29,
      "outputs": [
        {
          "output_type": "execute_result",
          "data": {
            "text/plain": [
              "array([103,  96,  98,  96, 105, 101,  97,  97,  93, 114])"
            ]
          },
          "metadata": {},
          "execution_count": 29
        }
      ]
    },
    {
      "cell_type": "code",
      "metadata": {
        "colab": {
          "base_uri": "https://localhost:8080/",
          "height": 369
        },
        "id": "QCKX7asGLvov",
        "outputId": "66ce5ddb-830d-40d9-f66e-faf35346abbb"
      },
      "source": [
        "plt.subplot(311)\n",
        "plt.hist(count, bins=50)\n",
        "plt.title(\"hist\")\n",
        "plt.xlabel(\"x\")\n",
        "plt.ylabel(\"y\")\n",
        "\n",
        "plt.subplot(312)\n",
        "plt.bar(value, count, color=\"bgrcmy\")\n",
        "plt.title(\"bar\")\n",
        "plt.xlabel(\"x\")\n",
        "plt.ylabel(\"y\")\n",
        "\n",
        "plt.subplot(313)\n",
        "plt.plot(value, count)\n",
        "plt.title(\"line\")\n",
        "plt.xlabel(\"x\")\n",
        "plt.ylabel(\"y\")"
      ],
      "execution_count": 30,
      "outputs": [
        {
          "output_type": "stream",
          "name": "stderr",
          "text": [
            "/usr/local/lib/python3.7/dist-packages/ipykernel_launcher.py:8: MatplotlibDeprecationWarning: Using a string of single character colors as a color sequence is deprecated. Use an explicit list instead.\n",
            "  \n"
          ]
        },
        {
          "output_type": "execute_result",
          "data": {
            "text/plain": [
              "Text(0, 0.5, 'y')"
            ]
          },
          "metadata": {},
          "execution_count": 30
        },
        {
          "output_type": "display_data",
          "data": {
            "image/png": "[encoded data removed]",
            "text/plain": [
              "<Figure size 432x288 with 3 Axes>"
            ]
          },
          "metadata": {
            "needs_background": "light"
          }
        }
      ]
    },
    {
      "cell_type": "code",
      "metadata": {
        "id": "CtOSk4RpQTXG",
        "colab": {
          "base_uri": "https://localhost:8080/",
          "height": 283
        },
        "outputId": "087794b2-7df5-43d2-fcab-75ad2a00efa0"
      },
      "source": [
        "plt.bar(value,count) #,color=\"bgrcmyk\")  # 'bgrcmykw"
      ],
      "execution_count": 31,
      "outputs": [
        {
          "output_type": "execute_result",
          "data": {
            "text/plain": [
              "<BarContainer object of 10 artists>"
            ]
          },
          "metadata": {},
          "execution_count": 31
        },
        {
          "output_type": "display_data",
          "data": {
            "image/png": "[encoded data removed]",
            "text/plain": [
              "<Figure size 432x288 with 1 Axes>"
            ]
          },
          "metadata": {
            "needs_background": "light"
          }
        }
      ]
    },
    {
      "cell_type": "markdown",
      "metadata": {
        "id": "vJOiAMJ5Jpnq"
      },
      "source": [
        "> [Python 그래픽스](https://datascienceschool.net/01%20python/05.01%20%EC%8B%9C%EA%B0%81%ED%99%94%20%ED%8C%A8%ED%82%A4%EC%A7%80%20%EB%A7%B7%ED%94%8C%EB%A1%AF%EB%A6%AC%EB%B8%8C%20%EC%86%8C%EA%B0%9C.html)\n"
      ]
    },
    {
      "cell_type": "code",
      "metadata": {
        "id": "zWcu1ISPYqHA"
      },
      "source": [
        ""
      ],
      "execution_count": 31,
      "outputs": []
    }
  ]
}