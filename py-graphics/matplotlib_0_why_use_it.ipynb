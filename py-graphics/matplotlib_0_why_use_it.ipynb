{
  "nbformat": 4,
  "nbformat_minor": 0,
  "metadata": {
    "colab": {
      "name": "matplotlib_0_why_use_it.ipynb",
      "provenance": [],
      "collapsed_sections": [],
      "include_colab_link": true
    },
    "kernelspec": {
      "name": "python3",
      "display_name": "Python 3"
    }
  },
  "cells": [
    {
      "cell_type": "markdown",
      "metadata": {
        "id": "view-in-github",
        "colab_type": "text"
      },
      "source": [
        "<a href=\"https://colab.research.google.com/github/jiseon0516/pdm19/blob/main/py-graphics/matplotlib_0_why_use_it.ipynb\" target=\"_parent\"><img src=\"https://colab.research.google.com/assets/colab-badge.svg\" alt=\"Open In Colab\"/></a>"
      ]
    },
    {
      "cell_type": "markdown",
      "metadata": {
        "id": "9Wej-7GZ4f3N"
      },
      "source": [
        "## Python module 2. **matplotlib**\n",
        "##### 행렬 기반의 그림을 그리는 라이브러리\n",
        "### Python graphics using matplotlib\n",
        "- Visualization: 시각화\n",
        "- Front-end deployment to WEB or Mobile: 서비스(외부에 공지)"
      ]
    },
    {
      "cell_type": "markdown",
      "metadata": {
        "id": "1Ry0YHkNFis5"
      },
      "source": [
        "## 난수 생성\n",
        "> NumPy의 random 서브모듈은 난수를 생성하는 다양한 명령을 제공.\n",
        "\n",
        "- rand: 0부터 1사이의 균일 분포 (uniform distribution) -> 백색 잡음\n",
        "> 0~1 사이 분포\n",
        "- randn: 가우시안 표준 정규 분포 (normal distribution, Gaussian) -> 가우시안 잡음\n",
        "> 평균은 0, 표준편차가 1 // 0 부근 가장 많이 생성되는 종형 분포\n",
        "- randint: 균일 분포의 정수 난수 (uniform int)\n",
        "\n",
        "> randn()은 평균 0, 표준편차 1 인 가우시안 정규분포를 생성."
      ]
    },
    {
      "cell_type": "markdown",
      "metadata": {
        "id": "ozoCcRquhg4p"
      },
      "source": [
        "## python graphics\n",
        "- matplotlib\n",
        "> import matplotlib.pyplot as plt\n",
        ">>matplotlib 모듈 안에 pyplot이라는 그래프를 그리는 서브 모듈을 import한 후, plt라는 별칭으로 사용"
      ]
    },
    {
      "cell_type": "markdown",
      "metadata": {
        "id": "h6yEJiGJ4Lbk"
      },
      "source": [
        "### 무작위수 분포 그려보기"
      ]
    },
    {
      "cell_type": "code",
      "metadata": {
        "id": "ngcwuNlfhrIQ"
      },
      "source": [
        "# import module; numpy, matplotlib\n",
        "import numpy as np\n",
        "import matplotlib.pyplot as plt"
      ],
      "execution_count": 2,
      "outputs": []
    },
    {
      "cell_type": "code",
      "metadata": {
        "id": "EZK12Xg7H55L",
        "colab": {
          "base_uri": "https://localhost:8080/"
        },
        "outputId": "04051a50-3aac-4fea-db9c-fe036855fbdd"
      },
      "source": [
        "n1000 = np.random.randint(0,10,1000) #0~9까지의 정수를 1000개 생성 // randint: 균일 분포의 정수 난수\n",
        "n1000.shape #1차원 배열, 기본 벡터"
      ],
      "execution_count": 3,
      "outputs": [
        {
          "output_type": "execute_result",
          "data": {
            "text/plain": [
              "(1000,)"
            ]
          },
          "metadata": {},
          "execution_count": 3
        }
      ]
    },
    {
      "cell_type": "code",
      "metadata": {
        "id": "A6ZNTRNXI4Vw",
        "colab": {
          "base_uri": "https://localhost:8080/"
        },
        "outputId": "e5bbeeed-dbf2-4300-9452-70d25202ddbf"
      },
      "source": [
        "n1000[:30] #0도 만들어짐"
      ],
      "execution_count": 5,
      "outputs": [
        {
          "output_type": "execute_result",
          "data": {
            "text/plain": [
              "array([2, 2, 4, 7, 9, 1, 2, 3, 6, 0, 6, 6, 9, 6, 2, 4, 3, 3, 7, 8, 7, 3,\n",
              "       8, 3, 1, 7, 2, 4, 3, 6])"
            ]
          },
          "metadata": {},
          "execution_count": 5
        }
      ]
    },
    {
      "cell_type": "code",
      "metadata": {
        "id": "jr30IHxvJDuE",
        "colab": {
          "base_uri": "https://localhost:8080/",
          "height": 322
        },
        "outputId": "3b6c1d37-37f2-4940-8f74-8c671c06ac96"
      },
      "source": [
        "plt.hist(n1000,label=range(0,10)) #, color='red') #label: 각각의 숫자가 몇 개씩 만들어졌는가\n",
        "#0이 102개, 1이 115개, ...\n",
        "#시각화\n",
        "# plt.show()"
      ],
      "execution_count": 6,
      "outputs": [
        {
          "output_type": "execute_result",
          "data": {
            "text/plain": [
              "(array([102., 115., 104., 103.,  81., 107.,  92., 114.,  93.,  89.]),\n",
              " array([0. , 0.9, 1.8, 2.7, 3.6, 4.5, 5.4, 6.3, 7.2, 8.1, 9. ]),\n",
              " <a list of 10 Patch objects>)"
            ]
          },
          "metadata": {},
          "execution_count": 6
        },
        {
          "output_type": "display_data",
          "data": {
            "image/png": "[encoded data removed]",
            "text/plain": [
              "<Figure size 432x288 with 1 Axes>"
            ]
          },
          "metadata": {
            "needs_background": "light"
          }
        }
      ]
    },
    {
      "cell_type": "markdown",
      "metadata": {
        "id": "b-JcgSU-Ktyz"
      },
      "source": [
        "### [도전] 균일분포와 정규분포를 비교하는 그림을 그리시오."
      ]
    },
    {
      "cell_type": "code",
      "metadata": {
        "id": "k0XaT2f9JGZy",
        "colab": {
          "base_uri": "https://localhost:8080/",
          "height": 355
        },
        "outputId": "6b506fd5-6dc3-4398-8158-025e8f47667d"
      },
      "source": [
        "plt.hist(np.random.rand(1000)) #균일분포 데이터 - 0부터 1 미만의 실수 생성\n",
        "#숫자 클수록 더 고르게 분포\n",
        "#seed 고정이 안되었기 때문에 그릴 때마다 달라짐\n",
        "#누적 확률을 보여줌 - 맨 마지막은 99%"
      ],
      "execution_count": 10,
      "outputs": [
        {
          "output_type": "execute_result",
          "data": {
            "text/plain": [
              "(array([118., 110.,  95., 104.,  86., 115.,  79., 101.,  96.,  96.]),\n",
              " array([7.48576713e-04, 1.00632339e-01, 2.00516102e-01, 3.00399864e-01,\n",
              "        4.00283627e-01, 5.00167389e-01, 6.00051151e-01, 6.99934914e-01,\n",
              "        7.99818676e-01, 8.99702439e-01, 9.99586201e-01]),\n",
              " <a list of 10 Patch objects>)"
            ]
          },
          "metadata": {},
          "execution_count": 10
        },
        {
          "output_type": "display_data",
          "data": {
            "image/png": "[encoded data removed]",
            "text/plain": [
              "<Figure size 432x288 with 1 Axes>"
            ]
          },
          "metadata": {
            "needs_background": "light"
          }
        }
      ]
    },
    {
      "cell_type": "code",
      "metadata": {
        "id": "T8SCqKVeMhBF",
        "colab": {
          "base_uri": "https://localhost:8080/",
          "height": 355
        },
        "outputId": "36ef4c8f-78cf-43cc-8c0d-f6d5b8c2d07f"
      },
      "source": [
        "plt.hist(np.random.randn(1000)) #정규분포(가우시안 분포) 생성 - 가장 자연스러운 분포, 종형\n",
        "#중앙에 가장 높게"
      ],
      "execution_count": 11,
      "outputs": [
        {
          "output_type": "execute_result",
          "data": {
            "text/plain": [
              "(array([  5.,  27., 100., 168., 265., 261., 110.,  45.,  17.,   2.]),\n",
              " array([-3.25325344, -2.56650662, -1.8797598 , -1.19301298, -0.50626617,\n",
              "         0.18048065,  0.86722747,  1.55397429,  2.24072111,  2.92746793,\n",
              "         3.61421475]),\n",
              " <a list of 10 Patch objects>)"
            ]
          },
          "metadata": {},
          "execution_count": 11
        },
        {
          "output_type": "display_data",
          "data": {
            "image/png": "[encoded data removed]",
            "text/plain": [
              "<Figure size 432x288 with 1 Axes>"
            ]
          },
          "metadata": {
            "needs_background": "light"
          }
        }
      ]
    },
    {
      "cell_type": "code",
      "metadata": {
        "id": "BUkVDXTJMkwc",
        "colab": {
          "base_uri": "https://localhost:8080/"
        },
        "outputId": "e515efd0-9c16-4fff-d452-147f197536ff"
      },
      "source": [
        "np.max(np.random.randn(1000)) #가장 큰 수"
      ],
      "execution_count": 12,
      "outputs": [
        {
          "output_type": "execute_result",
          "data": {
            "text/plain": [
              "3.213490204796257"
            ]
          },
          "metadata": {},
          "execution_count": 12
        }
      ]
    },
    {
      "cell_type": "markdown",
      "metadata": {
        "id": "D5XGB1v_PAeU"
      },
      "source": [
        "### [도전] 0~9 사이의 무작위 정수 1000개를 만들어서 각 수에 대한 막대그래프를 그리시오."
      ]
    },
    {
      "cell_type": "code",
      "metadata": {
        "id": "xza_yV8nMshU",
        "colab": {
          "base_uri": "https://localhost:8080/"
        },
        "outputId": "97197cfa-429f-42bb-a7d0-4cd6124e3650"
      },
      "source": [
        "value, count= np.unique(n1000, return_counts=True) #1000개의 숫자 중 서로 다른 수를 구분하고(value) 각각의 빈도 계산해줌(count)\n",
        "print(count)\n",
        "print(value)\n",
        "#0은 102개, 1은 115개, ..."
      ],
      "execution_count": 18,
      "outputs": [
        {
          "output_type": "stream",
          "name": "stdout",
          "text": [
            "[102 115 104 103  81 107  92 114  93  89]\n",
            "[0 1 2 3 4 5 6 7 8 9]\n"
          ]
        }
      ]
    },
    {
      "cell_type": "code",
      "metadata": {
        "id": "CtOSk4RpQTXG",
        "colab": {
          "base_uri": "https://localhost:8080/",
          "height": 342
        },
        "outputId": "83b20bc6-ede9-4df3-caa1-73574076ae62"
      },
      "source": [
        "plt.bar(value,count, color=\"bgrcmyk\")  # 'bgrcmykw(파란색, 초록색, 빩간색, 하늘색, 보라색, 노란색, 검은색, 하얀색) - w는 배경이기 때문에 사용x\n",
        "#문자열로 색상 지정해주면 순서대로, 다 차면 다시 처음부터 순서대로 반복\n",
        "#bar 함수: 막대그래프 함수\n",
        "#x축은 value, y축은 count"
      ],
      "execution_count": 20,
      "outputs": [
        {
          "output_type": "stream",
          "name": "stderr",
          "text": [
            "/usr/local/lib/python3.7/dist-packages/ipykernel_launcher.py:1: MatplotlibDeprecationWarning: Using a string of single character colors as a color sequence is deprecated. Use an explicit list instead.\n",
            "  \"\"\"Entry point for launching an IPython kernel.\n"
          ]
        },
        {
          "output_type": "execute_result",
          "data": {
            "text/plain": [
              "<BarContainer object of 10 artists>"
            ]
          },
          "metadata": {},
          "execution_count": 20
        },
        {
          "output_type": "display_data",
          "data": {
            "image/png": "[encoded data removed]",
            "text/plain": [
              "<Figure size 432x288 with 1 Axes>"
            ]
          },
          "metadata": {
            "needs_background": "light"
          }
        }
      ]
    },
    {
      "cell_type": "markdown",
      "metadata": {
        "id": "vJOiAMJ5Jpnq"
      },
      "source": [
        "> [Python matplotlib 그래픽스](https://datascienceschool.net/01%20python/05.01%20%EC%8B%9C%EA%B0%81%ED%99%94%20%ED%8C%A8%ED%82%A4%EC%A7%80%20%EB%A7%B7%ED%94%8C%EB%A1%AF%EB%A6%AC%EB%B8%8C%20%EC%86%8C%EA%B0%9C.html)\n",
        "\n",
        "> [Mnist demo by Redwoods](http://life21c.inje.ac.kr:8501)"
      ]
    },
    {
      "cell_type": "code",
      "metadata": {
        "id": "xkt78bvjQYbN"
      },
      "source": [
        ""
      ],
      "execution_count": null,
      "outputs": []
    }
  ]
}